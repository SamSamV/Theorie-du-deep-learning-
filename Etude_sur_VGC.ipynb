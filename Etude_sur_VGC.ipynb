{
  "nbformat": 4,
  "nbformat_minor": 0,
  "metadata": {
    "colab": {
      "provenance": []
    },
    "kernelspec": {
      "name": "python3",
      "display_name": "Python 3"
    },
    "language_info": {
      "name": "python"
    }
  },
  "cells": [
    {
      "cell_type": "code",
      "execution_count": 1,
      "metadata": {
        "id": "Veu-KMIbtTVB"
      },
      "outputs": [],
      "source": [
        "import torch\n",
        "import torch.nn as nn\n",
        "import torch.optim as optim\n",
        "import torchvision\n",
        "import torchvision.transforms as transforms\n",
        "from torchvision.models import vgg19, alexnet\n",
        "import torch.nn as nn\n",
        "from torchvision import models\n",
        "from torch.utils.data import DataLoader, Subset\n",
        "from tqdm import tqdm\n",
        "import torch\n",
        "import torch.nn.functional as F\n",
        "import torch.utils.data as data\n",
        "import numpy as np\n"
      ]
    },
    {
      "cell_type": "code",
      "source": [
        "# Définir les transformations des images (normalisation)\n",
        "transform = transforms.Compose([\n",
        "    transforms.ToTensor(),\n",
        "    transforms.Normalize((0.5, 0.5, 0.5), (0.5, 0.5, 0.5))  # Normalisation sur chaque canal\n",
        "])"
      ],
      "metadata": {
        "id": "tCCPilu3vojZ"
      },
      "execution_count": 2,
      "outputs": []
    },
    {
      "cell_type": "code",
      "source": [
        "# Chargement des datasets CIFAR-10\n",
        "trainset = torchvision.datasets.CIFAR10(root='./data', train=True, download=True, transform=transform)\n",
        "testset = torchvision.datasets.CIFAR10(root='./data', train=False, download=True, transform=transform)\n",
        "\n",
        "# Prendre un sous-ensemble des données d'entraînement (par exemple 1% des données)\n",
        "train_subset_size = int(0.01 * len(trainset))  # 1% des données\n",
        "train_indices = np.random.choice(len(trainset), train_subset_size, replace=False)  # Échantillonnage aléatoire\n",
        "trainset_subset = torch.utils.data.Subset(trainset, train_indices)  # Créer un sous-ensemble\n",
        "\n",
        "# Prendre un sous-ensemble des données de test (par exemple 1% des données)\n",
        "test_subset_size = int(0.01 * len(testset))  # 1% des données\n",
        "test_indices = np.random.choice(len(testset), test_subset_size, replace=False)  # Échantillonnage aléatoire\n",
        "testset_subset = torch.utils.data.Subset(testset, test_indices)  # Créer un sous-ensemble\n",
        "\n",
        "# Création des DataLoader\n",
        "trainloader = data.DataLoader(trainset_subset, batch_size=128, shuffle=True, num_workers=2)\n",
        "testloader = data.DataLoader(testset_subset, batch_size=1, shuffle=False, num_workers=2)\n"
      ],
      "metadata": {
        "colab": {
          "base_uri": "https://localhost:8080/"
        },
        "id": "kqS3_KUjvufT",
        "outputId": "9e56ab16-ae1d-4b8e-c838-0085edc5e421"
      },
      "execution_count": 3,
      "outputs": [
        {
          "output_type": "stream",
          "name": "stdout",
          "text": [
            "Files already downloaded and verified\n",
            "Files already downloaded and verified\n"
          ]
        }
      ]
    },
    {
      "cell_type": "code",
      "source": [
        "def compute_layer_cushion_F(A, x):\n",
        "    \"\"\"\n",
        "    Calcul du layer cushion pour une couche donnée du réseau.\n",
        "\n",
        "    Arguments:\n",
        "    A -- la matrice de poids (ou tenseur) de la couche (forme : [out_channels, in_channels, kernel_size, kernel_size])\n",
        "    x -- l'entrée de la couche précédente (forme : [batch_size, in_channels, height, width])\n",
        "\n",
        "    Retour:\n",
        "    layer_cushion -- la valeur du layer cushion (μi)\n",
        "    \"\"\"\n",
        "\n",
        "    # 1. Appliquer ReLU sur l'entrée x (couche précédente)\n",
        "    x_relu = torch.relu(x)\n",
        "\n",
        "    # 2. Calculer la norme Frobenius de A\n",
        "    norm_A = torch.norm(A, p='fro')  # Norme Frobenius de A\n",
        "\n",
        "    # 3. Calculer la norme de l'entrée x après activation (sur tout le batch)\n",
        "    norm_x = torch.norm(x_relu, p=2)  # Norme L2 de x_relu\n",
        "\n",
        "    # 4. Effectuer la convolution pour obtenir la sortie de la couche\n",
        "    with torch.no_grad():  # Désactiver les gradients pour cette étape\n",
        "        output = torch.nn.functional.conv2d(x_relu, A)  # Appliquer la convolution\n",
        "\n",
        "    # 5. Calculer la norme de la sortie\n",
        "    norm_output = torch.norm(output, p=2)  # Norme L2 de la sortie de la couche\n",
        "\n",
        "    # 6. Calculer le layer cushion (μi)\n",
        "    layer_cushion = norm_output / (norm_A * norm_x)\n",
        "\n",
        "    return layer_cushion"
      ],
      "metadata": {
        "id": "KK2cwNHtvq3H"
      },
      "execution_count": 4,
      "outputs": []
    },
    {
      "cell_type": "code",
      "source": [
        "def calculate_minimal_interlayer_cushion(A):\n",
        "    # Calculer le nombre total d'éléments dans la matrice A\n",
        "    h = np.prod(A.size())  # Nombre total d'éléments dans la matrice A\n",
        "    # Calcul de 1 / √h\n",
        "    cushion = 1 / np.sqrt(h)\n",
        "\n",
        "    return cushion"
      ],
      "metadata": {
        "id": "PE5jjYJQJuZZ"
      },
      "execution_count": 5,
      "outputs": []
    },
    {
      "cell_type": "code",
      "source": [
        "def compute_interlayer_smoothness(A, x, h_i):\n",
        "    # Assurez-vous que h_i est un tensor PyTorch\n",
        "    h_i_tensor = torch.tensor(h_i, dtype=torch.float32)\n",
        "\n",
        "    # Calculer mu_i_plus_1 (assurez-vous que c'est calculé correctement)\n",
        "    mu_i_plus_1 = compute_layer_cushion_F(A, x)\n",
        "    print(mu_i_plus_1)\n",
        "\n",
        "    # Calculer ρδ\n",
        "    c = compute_activation_contraction(x)\n",
        "    rho_delta = torch.sqrt((h_i_tensor * mu_i_plus_1) / c)\n",
        "\n",
        "    return 1/rho_delta"
      ],
      "metadata": {
        "id": "lUJL2EnIJxIi"
      },
      "execution_count": 46,
      "outputs": []
    },
    {
      "cell_type": "code",
      "source": [
        "def compute_layer_cushion_F_ij(A, x, i, j,weights):\n",
        "    # 1. Appliquer ReLU sur l'entrée x (couche précédente)\n",
        "    x_init = x\n",
        "    x_relu = torch.relu(x)\n",
        "    conv_layers = [f\"conv_{iii}\" for iii in range(0, 50, 3)]\n",
        "\n",
        "    # 2. Définir une fonction qui applique la convolution et ReLU\n",
        "    def layer_forward(x_init):\n",
        "        x = x_init\n",
        "        x_relu = torch.relu(x)\n",
        "  # Appliquer ReLU sur x\n",
        "        for ii in range(i, j):\n",
        "            x = F.conv2d(x_relu, weights[conv_layers[ii]])  # Appliquer la convolution\n",
        "            x_relu = torch.relu(x)   # Appliquer ReLU sur la sortie de la convolution\n",
        "        return x_relu\n",
        "\n",
        "    # 3. Calcul de la jacobienne\n",
        "    jacobian = torch.autograd.functional.jacobian(layer_forward, x_init)\n",
        "    # 4. Calcul de la norme Frobenius de la jacobienne\n",
        "    norm_J = torch.norm(jacobian, p='fro')  # Norme Frobenius de la jacobienne\n",
        "\n",
        "    # 5. Calcul de la norme L2 de x_init\n",
        "    norm_x = torch.norm(x_init, p=2)  # Norme L2 de x_init\n",
        "\n",
        "    # 6. Calcul de la norme L2 de x après application de la jacobienne\n",
        "    norm_JX = torch.norm(torch.matmul(jacobian, x_init), p=2)  # Norme L2 de la multiplication de jacobienne et x_init\n",
        "\n",
        "    # 7. Calcul du cushion (marge inter-couche)\n",
        "    layer_cushion = norm_JX / (norm_J * norm_x)\n",
        "\n",
        "    return layer_cushion\n"
      ],
      "metadata": {
        "id": "1IMRZKThvkJi"
      },
      "execution_count": 7,
      "outputs": []
    },
    {
      "cell_type": "code",
      "source": [
        "def compute_activation_contraction(x):\n",
        "  norm_phi = torch.norm(torch.relu(x),p=2)\n",
        "  norm_x = torch.norm(x,p=2)\n",
        "  return norm_phi/norm_x\n"
      ],
      "metadata": {
        "id": "apSTDxRn_T4G"
      },
      "execution_count": 1,
      "outputs": []
    },
    {
      "cell_type": "code",
      "source": [
        "def get_all_weights_conv(model):\n",
        "    weights = {}\n",
        "\n",
        "    # Extraire les poids des couches convolutionnelles\n",
        "    for idx, layer in enumerate(model.features):\n",
        "        if isinstance(layer, torch.nn.Conv2d):\n",
        "            weights[f'conv_{idx}'] = layer.weight.data\n",
        "\n",
        "    return weights"
      ],
      "metadata": {
        "id": "OhTpVwsSv2pv"
      },
      "execution_count": 10,
      "outputs": []
    },
    {
      "cell_type": "code",
      "source": [
        "def calculate_layer_cushion_for_dataset(model, trainloader, weigthss,couche):\n",
        "    \"\"\"\n",
        "    Calculer le layer cushion pour plusieurs données dans le trainset.\n",
        "\n",
        "    Arguments:\n",
        "    model -- le modèle préentraîné (par exemple, VGG-19)\n",
        "    trainloader -- DataLoader contenant les données d'entraînement\n",
        "    device -- le périphérique ('cpu' ou 'cuda') pour les calculs\n",
        "\n",
        "    Retour:\n",
        "    layer_cushions -- liste des valeurs des layer cushions pour chaque couche\n",
        "    \"\"\"\n",
        "    model.eval()  # Mode évaluation (désactive le dropout, batchnorm, etc.)\n",
        "\n",
        "    # Liste pour stocker les résultats des layer cushions\n",
        "    layer_cushions = []\n",
        "    activation_contractions = []\n",
        "    layer_cushions_1i = []\n",
        "    interlayer_smoothness = []\n",
        "    conv_layers = list(weigthss.keys())\n",
        "    # Parcourir le DataLoader\n",
        "    for inputs, _ in trainloader:\n",
        "        print(\"!!\")\n",
        "\n",
        "        # Propager les données à travers chaque couche du modèle\n",
        "        x = inputs\n",
        "        i = 0\n",
        "        for name, module in tqdm(model.named_modules()):  # Récupérer chaque module du modèle\n",
        "          if isinstance(module, torch.nn.Conv2d):  # Vérifier si c'est une couche Conv2d\n",
        "              # Passer les entrées à travers la couche actuelle\n",
        "              print(name)\n",
        "              x_ = module(x)\n",
        "\n",
        "              # Calculer le layer cushion pour cette couche\n",
        "              weight = module.weight  # Matrice de poids de la couche actuelle\n",
        "              if i != 0 and name == couche:\n",
        "                  layer_cushion = compute_layer_cushion_F(weight, x)\n",
        "                  layer_cushions.append(layer_cushion)\n",
        "                  activation_contraction = compute_activation_contraction(x)\n",
        "                  activation_contractions.append(activation_contraction)\n",
        "\n",
        "                  # Calculer le layer cushion entre deux couches\n",
        "                  layer_cushion_1i = calculate_minimal_interlayer_cushion(weight)\n",
        "                  layer_cushions_1i.append(layer_cushion_1i)\n",
        "\n",
        "                  # Si ce n'est pas la dernière couche, obtenir la matrice de poids de la couche suivante\n",
        "                  if i + 1 < len(list(model.modules())):  # S'assurer qu'il y a un module suivant\n",
        "                     next_module_w = weigthss[conv_layers[i]]\n",
        "\n",
        "                     A_ = next_module_w  # Récupérer la matrice de poids du module suivant\n",
        "                     interlayer = compute_interlayer_smoothness(A_, x_, np.prod(A_.size()))\n",
        "                     interlayer_smoothness.append(interlayer)\n",
        "\n",
        "              # Mettre à jour x avec la sortie du module actuel\n",
        "              x = x_\n",
        "              i += 1\n",
        "    return layer_cushions,activation_contractions,layer_cushions_1i,interlayer_smoothness"
      ],
      "metadata": {
        "id": "bzUZIIpkv9y3"
      },
      "execution_count": 26,
      "outputs": []
    },
    {
      "cell_type": "code",
      "source": [
        "model_alea = models.vgg19_bn(pretrained=False)\n",
        "model_train = models.vgg19_bn(pretrained=True)"
      ],
      "metadata": {
        "colab": {
          "base_uri": "https://localhost:8080/"
        },
        "id": "-gvNWAYNv-t7",
        "outputId": "cf3d0d28-a9bd-4933-b76e-ee65993abf53"
      },
      "execution_count": 19,
      "outputs": [
        {
          "output_type": "stream",
          "name": "stderr",
          "text": [
            "/usr/local/lib/python3.11/dist-packages/torchvision/models/_utils.py:208: UserWarning: The parameter 'pretrained' is deprecated since 0.13 and may be removed in the future, please use 'weights' instead.\n",
            "  warnings.warn(\n",
            "/usr/local/lib/python3.11/dist-packages/torchvision/models/_utils.py:223: UserWarning: Arguments other than a weight enum or `None` for 'weights' are deprecated since 0.13 and may be removed in the future. The current behavior is equivalent to passing `weights=None`.\n",
            "  warnings.warn(msg)\n",
            "/usr/local/lib/python3.11/dist-packages/torchvision/models/_utils.py:223: UserWarning: Arguments other than a weight enum or `None` for 'weights' are deprecated since 0.13 and may be removed in the future. The current behavior is equivalent to passing `weights=VGG19_BN_Weights.IMAGENET1K_V1`. You can also use `weights=VGG19_BN_Weights.DEFAULT` to get the most up-to-date weights.\n",
            "  warnings.warn(msg)\n"
          ]
        }
      ]
    },
    {
      "cell_type": "code",
      "source": [
        "weights_alea = get_all_weights_conv(model_alea)\n",
        "weights_train = get_all_weights_conv(model_train)"
      ],
      "metadata": {
        "id": "jw7ZlKcswB-2",
        "colab": {
          "base_uri": "https://localhost:8080/",
          "height": 159
        },
        "outputId": "2305f014-2b54-4672-fdb3-9010055c1abd"
      },
      "execution_count": 2,
      "outputs": [
        {
          "output_type": "error",
          "ename": "NameError",
          "evalue": "name 'get_all_weights_conv' is not defined",
          "traceback": [
            "\u001b[0;31m---------------------------------------------------------------------------\u001b[0m",
            "\u001b[0;31mNameError\u001b[0m                                 Traceback (most recent call last)",
            "\u001b[0;32m<ipython-input-2-0c829e097515>\u001b[0m in \u001b[0;36m<cell line: 0>\u001b[0;34m()\u001b[0m\n\u001b[0;32m----> 1\u001b[0;31m \u001b[0mweights_alea\u001b[0m \u001b[0;34m=\u001b[0m \u001b[0mget_all_weights_conv\u001b[0m\u001b[0;34m(\u001b[0m\u001b[0mmodel_alea\u001b[0m\u001b[0;34m)\u001b[0m\u001b[0;34m\u001b[0m\u001b[0;34m\u001b[0m\u001b[0m\n\u001b[0m\u001b[1;32m      2\u001b[0m \u001b[0mweights_train\u001b[0m \u001b[0;34m=\u001b[0m \u001b[0mget_all_weights_conv\u001b[0m\u001b[0;34m(\u001b[0m\u001b[0mmodel_train\u001b[0m\u001b[0;34m)\u001b[0m\u001b[0;34m\u001b[0m\u001b[0;34m\u001b[0m\u001b[0m\n",
            "\u001b[0;31mNameError\u001b[0m: name 'get_all_weights_conv' is not defined"
          ]
        }
      ]
    },
    {
      "cell_type": "code",
      "source": [
        "weights_alea.keys()"
      ],
      "metadata": {
        "colab": {
          "base_uri": "https://localhost:8080/"
        },
        "id": "6tHLex3omD3f",
        "outputId": "40f17134-6e59-48aa-d971-21e493fd4916"
      },
      "execution_count": 42,
      "outputs": [
        {
          "output_type": "execute_result",
          "data": {
            "text/plain": [
              "dict_keys(['conv_0', 'conv_3', 'conv_7', 'conv_10', 'conv_14', 'conv_17', 'conv_20', 'conv_23', 'conv_27', 'conv_30', 'conv_33', 'conv_36', 'conv_40', 'conv_43', 'conv_46', 'conv_49'])"
            ]
          },
          "metadata": {},
          "execution_count": 42
        }
      ]
    },
    {
      "cell_type": "code",
      "source": [
        "layer_cushions_alea, activation_c_alea, mini_cushion_alea,smoothness_alea = calculate_layer_cushion_for_dataset(model_alea, testloader, weights_alea,\"features.33\")\n",
        "layer_cushions_train, activation_c_train, mini_cushion_train,smoothness_train = calculate_layer_cushion_for_dataset(model_train, testloader, weights_train,\"features.33\")\n"
      ],
      "metadata": {
        "colab": {
          "base_uri": "https://localhost:8080/"
        },
        "id": "CMg9YeOTwEYL",
        "outputId": "36c2462f-734c-497b-a084-784e884cc2de"
      },
      "execution_count": 50,
      "outputs": [
        {
          "output_type": "stream",
          "name": "stdout",
          "text": [
            "!!\n"
          ]
        },
        {
          "output_type": "stream",
          "name": "stderr",
          "text": [
            "26it [00:00, 217.92it/s]"
          ]
        },
        {
          "output_type": "stream",
          "name": "stdout",
          "text": [
            "features.0\n",
            "features.3\n",
            "features.7\n",
            "features.10\n",
            "features.14\n",
            "features.17\n",
            "features.20\n",
            "features.23\n",
            "features.27\n",
            "features.30\n",
            "features.33\n",
            "tensor(0.0435, grad_fn=<DivBackward0>)\n",
            "features.36\n",
            "features.40\n",
            "features.43\n"
          ]
        },
        {
          "output_type": "stream",
          "name": "stderr",
          "text": [
            "64it [00:00, 67.85it/s]\n"
          ]
        },
        {
          "output_type": "stream",
          "name": "stdout",
          "text": [
            "features.46\n",
            "features.49\n",
            "!!\n"
          ]
        },
        {
          "output_type": "stream",
          "name": "stderr",
          "text": [
            "\r0it [00:00, ?it/s]"
          ]
        },
        {
          "output_type": "stream",
          "name": "stdout",
          "text": [
            "features.0\n",
            "features.3\n",
            "features.7\n",
            "features.10\n",
            "features.14\n"
          ]
        },
        {
          "output_type": "stream",
          "name": "stderr",
          "text": [
            "\r26it [00:00, 252.80it/s]"
          ]
        },
        {
          "output_type": "stream",
          "name": "stdout",
          "text": [
            "features.17\n",
            "features.20\n",
            "features.23\n",
            "features.27\n",
            "features.30\n",
            "features.33\n",
            "tensor(0.0438, grad_fn=<DivBackward0>)\n",
            "features.36\n",
            "features.40\n",
            "features.43\n"
          ]
        },
        {
          "output_type": "stream",
          "name": "stderr",
          "text": [
            "64it [00:00, 77.21it/s]\n"
          ]
        },
        {
          "output_type": "stream",
          "name": "stdout",
          "text": [
            "features.46\n",
            "features.49\n",
            "!!\n"
          ]
        },
        {
          "output_type": "stream",
          "name": "stderr",
          "text": [
            "\r0it [00:00, ?it/s]"
          ]
        },
        {
          "output_type": "stream",
          "name": "stdout",
          "text": [
            "features.0\n",
            "features.3\n",
            "features.7\n",
            "features.10\n",
            "features.14\n",
            "features.17\n"
          ]
        },
        {
          "output_type": "stream",
          "name": "stderr",
          "text": [
            "\r30it [00:00, 252.08it/s]"
          ]
        },
        {
          "output_type": "stream",
          "name": "stdout",
          "text": [
            "features.20\n",
            "features.23\n",
            "features.27\n",
            "features.30\n",
            "features.33\n",
            "tensor(0.0429, grad_fn=<DivBackward0>)\n",
            "features.36\n",
            "features.40\n",
            "features.43\n",
            "features.46\n",
            "features.49\n"
          ]
        },
        {
          "output_type": "stream",
          "name": "stderr",
          "text": [
            "64it [00:00, 69.50it/s]\n"
          ]
        },
        {
          "output_type": "stream",
          "name": "stdout",
          "text": [
            "!!\n"
          ]
        },
        {
          "output_type": "stream",
          "name": "stderr",
          "text": [
            "23it [00:00, 182.11it/s]"
          ]
        },
        {
          "output_type": "stream",
          "name": "stdout",
          "text": [
            "features.0\n",
            "features.3\n",
            "features.7\n",
            "features.10\n",
            "features.14\n",
            "features.17\n",
            "features.20\n",
            "features.23\n",
            "features.27\n",
            "features.30\n",
            "features.33\n"
          ]
        },
        {
          "output_type": "stream",
          "name": "stderr",
          "text": [
            "\r42it [00:00, 44.51it/s] "
          ]
        },
        {
          "output_type": "stream",
          "name": "stdout",
          "text": [
            "tensor(0.0428, grad_fn=<DivBackward0>)\n",
            "features.36\n",
            "features.40\n",
            "features.43\n",
            "features.46\n"
          ]
        },
        {
          "output_type": "stream",
          "name": "stderr",
          "text": [
            "64it [00:01, 48.36it/s]\n"
          ]
        },
        {
          "output_type": "stream",
          "name": "stdout",
          "text": [
            "features.49\n",
            "!!\n"
          ]
        },
        {
          "output_type": "stream",
          "name": "stderr",
          "text": [
            "\r0it [00:00, ?it/s]"
          ]
        },
        {
          "output_type": "stream",
          "name": "stdout",
          "text": [
            "features.0\n",
            "features.3\n",
            "features.7\n",
            "features.10\n",
            "features.14\n",
            "features.17\n"
          ]
        },
        {
          "output_type": "stream",
          "name": "stderr",
          "text": [
            "\r23it [00:00, 199.81it/s]"
          ]
        },
        {
          "output_type": "stream",
          "name": "stdout",
          "text": [
            "features.20\n",
            "features.23\n",
            "features.27\n",
            "features.30\n",
            "features.33\n",
            "tensor(0.0448, grad_fn=<DivBackward0>)\n",
            "features.36\n",
            "features.40\n"
          ]
        },
        {
          "output_type": "stream",
          "name": "stderr",
          "text": [
            "\r43it [00:00, 40.83it/s] "
          ]
        },
        {
          "output_type": "stream",
          "name": "stdout",
          "text": [
            "features.43\n",
            "features.46\n"
          ]
        },
        {
          "output_type": "stream",
          "name": "stderr",
          "text": [
            "64it [00:01, 49.81it/s]\n"
          ]
        },
        {
          "output_type": "stream",
          "name": "stdout",
          "text": [
            "features.49\n",
            "!!\n"
          ]
        },
        {
          "output_type": "stream",
          "name": "stderr",
          "text": [
            "\r0it [00:00, ?it/s]"
          ]
        },
        {
          "output_type": "stream",
          "name": "stdout",
          "text": [
            "features.0\n",
            "features.3\n",
            "features.7\n",
            "features.10\n",
            "features.14\n",
            "features.17\n"
          ]
        },
        {
          "output_type": "stream",
          "name": "stderr",
          "text": [
            "\r23it [00:00, 216.70it/s]"
          ]
        },
        {
          "output_type": "stream",
          "name": "stdout",
          "text": [
            "features.20\n",
            "features.23\n",
            "features.27\n",
            "features.30\n",
            "features.33\n",
            "tensor(0.0434, grad_fn=<DivBackward0>)\n",
            "features.36\n",
            "features.40\n"
          ]
        },
        {
          "output_type": "stream",
          "name": "stderr",
          "text": [
            "\r45it [00:00, 40.60it/s] "
          ]
        },
        {
          "output_type": "stream",
          "name": "stdout",
          "text": [
            "features.43\n",
            "features.46\n"
          ]
        },
        {
          "output_type": "stream",
          "name": "stderr",
          "text": [
            "64it [00:01, 45.91it/s]\n"
          ]
        },
        {
          "output_type": "stream",
          "name": "stdout",
          "text": [
            "features.49\n",
            "!!\n"
          ]
        },
        {
          "output_type": "stream",
          "name": "stderr",
          "text": [
            "\r0it [00:00, ?it/s]"
          ]
        },
        {
          "output_type": "stream",
          "name": "stdout",
          "text": [
            "features.0\n",
            "features.3\n",
            "features.7\n",
            "features.10\n",
            "features.14\n"
          ]
        },
        {
          "output_type": "stream",
          "name": "stderr",
          "text": [
            "\r23it [00:00, 182.42it/s]"
          ]
        },
        {
          "output_type": "stream",
          "name": "stdout",
          "text": [
            "features.17\n",
            "features.20\n",
            "features.23\n",
            "features.27\n",
            "features.30\n",
            "features.33\n"
          ]
        },
        {
          "output_type": "stream",
          "name": "stderr",
          "text": [
            "\r42it [00:00, 41.15it/s] "
          ]
        },
        {
          "output_type": "stream",
          "name": "stdout",
          "text": [
            "tensor(0.0429, grad_fn=<DivBackward0>)\n",
            "features.36\n",
            "features.40\n",
            "features.43\n",
            "features.46\n"
          ]
        },
        {
          "output_type": "stream",
          "name": "stderr",
          "text": [
            "64it [00:01, 48.57it/s]\n"
          ]
        },
        {
          "output_type": "stream",
          "name": "stdout",
          "text": [
            "features.49\n",
            "!!\n"
          ]
        },
        {
          "output_type": "stream",
          "name": "stderr",
          "text": [
            "30it [00:00, 264.29it/s]"
          ]
        },
        {
          "output_type": "stream",
          "name": "stdout",
          "text": [
            "features.0\n",
            "features.3\n",
            "features.7\n",
            "features.10\n",
            "features.14\n",
            "features.17\n",
            "features.20\n",
            "features.23\n",
            "features.27\n",
            "features.30\n",
            "features.33\n",
            "tensor(0.0442, grad_fn=<DivBackward0>)\n",
            "features.36\n",
            "features.40\n",
            "features.43\n"
          ]
        },
        {
          "output_type": "stream",
          "name": "stderr",
          "text": [
            "64it [00:00, 77.92it/s]\n"
          ]
        },
        {
          "output_type": "stream",
          "name": "stdout",
          "text": [
            "features.46\n",
            "features.49\n",
            "!!\n"
          ]
        },
        {
          "output_type": "stream",
          "name": "stderr",
          "text": [
            "\r0it [00:00, ?it/s]"
          ]
        },
        {
          "output_type": "stream",
          "name": "stdout",
          "text": [
            "features.0\n",
            "features.3\n",
            "features.7\n",
            "features.10\n",
            "features.14\n"
          ]
        },
        {
          "output_type": "stream",
          "name": "stderr",
          "text": [
            "\r30it [00:00, 247.46it/s]"
          ]
        },
        {
          "output_type": "stream",
          "name": "stdout",
          "text": [
            "features.17\n",
            "features.20\n",
            "features.23\n",
            "features.27\n",
            "features.30\n",
            "features.33\n",
            "tensor(0.0440, grad_fn=<DivBackward0>)\n",
            "features.36\n",
            "features.40\n",
            "features.43\n"
          ]
        },
        {
          "output_type": "stream",
          "name": "stderr",
          "text": [
            "64it [00:00, 81.94it/s]\n"
          ]
        },
        {
          "output_type": "stream",
          "name": "stdout",
          "text": [
            "features.46\n",
            "features.49\n",
            "!!\n"
          ]
        },
        {
          "output_type": "stream",
          "name": "stderr",
          "text": [
            "\r0it [00:00, ?it/s]"
          ]
        },
        {
          "output_type": "stream",
          "name": "stdout",
          "text": [
            "features.0\n",
            "features.3\n",
            "features.7\n",
            "features.10\n",
            "features.14\n",
            "features.17\n"
          ]
        },
        {
          "output_type": "stream",
          "name": "stderr",
          "text": [
            "\r30it [00:00, 229.35it/s]"
          ]
        },
        {
          "output_type": "stream",
          "name": "stdout",
          "text": [
            "features.20\n",
            "features.23\n",
            "features.27\n",
            "features.30\n",
            "features.33\n",
            "tensor(0.0433, grad_fn=<DivBackward0>)\n",
            "features.36\n",
            "features.40\n",
            "features.43\n"
          ]
        },
        {
          "output_type": "stream",
          "name": "stderr",
          "text": [
            "64it [00:00, 77.28it/s]\n"
          ]
        },
        {
          "output_type": "stream",
          "name": "stdout",
          "text": [
            "features.46\n",
            "features.49\n",
            "!!\n"
          ]
        },
        {
          "output_type": "stream",
          "name": "stderr",
          "text": [
            "\r0it [00:00, ?it/s]"
          ]
        },
        {
          "output_type": "stream",
          "name": "stdout",
          "text": [
            "features.0\n",
            "features.3\n",
            "features.7\n",
            "features.10\n",
            "features.14\n",
            "features.17\n"
          ]
        },
        {
          "output_type": "stream",
          "name": "stderr",
          "text": [
            "\r30it [00:00, 243.85it/s]"
          ]
        },
        {
          "output_type": "stream",
          "name": "stdout",
          "text": [
            "features.20\n",
            "features.23\n",
            "features.27\n",
            "features.30\n",
            "features.33\n",
            "tensor(0.0436, grad_fn=<DivBackward0>)\n",
            "features.36\n",
            "features.40\n",
            "features.43\n"
          ]
        },
        {
          "output_type": "stream",
          "name": "stderr",
          "text": [
            "64it [00:00, 80.24it/s]\n"
          ]
        },
        {
          "output_type": "stream",
          "name": "stdout",
          "text": [
            "features.46\n",
            "features.49\n",
            "!!\n"
          ]
        },
        {
          "output_type": "stream",
          "name": "stderr",
          "text": [
            "\r0it [00:00, ?it/s]"
          ]
        },
        {
          "output_type": "stream",
          "name": "stdout",
          "text": [
            "features.0\n",
            "features.3\n",
            "features.7\n",
            "features.10\n",
            "features.14\n",
            "features.17\n"
          ]
        },
        {
          "output_type": "stream",
          "name": "stderr",
          "text": [
            "\r30it [00:00, 263.86it/s]"
          ]
        },
        {
          "output_type": "stream",
          "name": "stdout",
          "text": [
            "features.20\n",
            "features.23\n",
            "features.27\n",
            "features.30\n",
            "features.33\n",
            "tensor(0.0432, grad_fn=<DivBackward0>)\n",
            "features.36\n",
            "features.40\n",
            "features.43\n"
          ]
        },
        {
          "output_type": "stream",
          "name": "stderr",
          "text": [
            "64it [00:00, 80.37it/s]\n"
          ]
        },
        {
          "output_type": "stream",
          "name": "stdout",
          "text": [
            "features.46\n",
            "features.49\n",
            "!!\n"
          ]
        },
        {
          "output_type": "stream",
          "name": "stderr",
          "text": [
            "\r0it [00:00, ?it/s]"
          ]
        },
        {
          "output_type": "stream",
          "name": "stdout",
          "text": [
            "features.0\n",
            "features.3\n",
            "features.7\n",
            "features.10\n",
            "features.14\n",
            "features.17\n",
            "features.20\n"
          ]
        },
        {
          "output_type": "stream",
          "name": "stderr",
          "text": [
            "\r30it [00:00, 250.22it/s]"
          ]
        },
        {
          "output_type": "stream",
          "name": "stdout",
          "text": [
            "features.23\n",
            "features.27\n",
            "features.30\n",
            "features.33\n",
            "tensor(0.0442, grad_fn=<DivBackward0>)\n",
            "features.36\n",
            "features.40\n",
            "features.43\n"
          ]
        },
        {
          "output_type": "stream",
          "name": "stderr",
          "text": [
            "64it [00:00, 80.29it/s]\n"
          ]
        },
        {
          "output_type": "stream",
          "name": "stdout",
          "text": [
            "features.46\n",
            "features.49\n",
            "!!\n"
          ]
        },
        {
          "output_type": "stream",
          "name": "stderr",
          "text": [
            "\r0it [00:00, ?it/s]"
          ]
        },
        {
          "output_type": "stream",
          "name": "stdout",
          "text": [
            "features.0\n",
            "features.3\n",
            "features.7\n",
            "features.10\n",
            "features.14\n",
            "features.17\n"
          ]
        },
        {
          "output_type": "stream",
          "name": "stderr",
          "text": [
            "\r30it [00:00, 255.02it/s]"
          ]
        },
        {
          "output_type": "stream",
          "name": "stdout",
          "text": [
            "features.20\n",
            "features.23\n",
            "features.27\n",
            "features.30\n",
            "features.33\n",
            "tensor(0.0439, grad_fn=<DivBackward0>)\n",
            "features.36\n",
            "features.40\n",
            "features.43\n"
          ]
        },
        {
          "output_type": "stream",
          "name": "stderr",
          "text": [
            "64it [00:00, 79.06it/s]\n"
          ]
        },
        {
          "output_type": "stream",
          "name": "stdout",
          "text": [
            "features.46\n",
            "features.49\n",
            "!!\n"
          ]
        },
        {
          "output_type": "stream",
          "name": "stderr",
          "text": [
            "\r0it [00:00, ?it/s]"
          ]
        },
        {
          "output_type": "stream",
          "name": "stdout",
          "text": [
            "features.0\n",
            "features.3\n",
            "features.7\n",
            "features.10\n",
            "features.14\n",
            "features.17\n"
          ]
        },
        {
          "output_type": "stream",
          "name": "stderr",
          "text": [
            "\r30it [00:00, 245.89it/s]"
          ]
        },
        {
          "output_type": "stream",
          "name": "stdout",
          "text": [
            "features.20\n",
            "features.23\n",
            "features.27\n",
            "features.30\n",
            "features.33\n",
            "tensor(0.0434, grad_fn=<DivBackward0>)\n",
            "features.36\n",
            "features.40\n",
            "features.43\n"
          ]
        },
        {
          "output_type": "stream",
          "name": "stderr",
          "text": [
            "64it [00:00, 80.19it/s]\n"
          ]
        },
        {
          "output_type": "stream",
          "name": "stdout",
          "text": [
            "features.46\n",
            "features.49\n",
            "!!\n"
          ]
        },
        {
          "output_type": "stream",
          "name": "stderr",
          "text": [
            "\r0it [00:00, ?it/s]"
          ]
        },
        {
          "output_type": "stream",
          "name": "stdout",
          "text": [
            "features.0\n",
            "features.3\n",
            "features.7\n",
            "features.10\n",
            "features.14\n",
            "features.17"
          ]
        },
        {
          "output_type": "stream",
          "name": "stderr",
          "text": [
            "\r26it [00:00, 247.08it/s]"
          ]
        },
        {
          "output_type": "stream",
          "name": "stdout",
          "text": [
            "\n",
            "features.20\n",
            "features.23\n",
            "features.27\n",
            "features.30\n",
            "features.33\n",
            "tensor(0.0432, grad_fn=<DivBackward0>)\n",
            "features.36\n",
            "features.40\n",
            "features.43\n"
          ]
        },
        {
          "output_type": "stream",
          "name": "stderr",
          "text": [
            "64it [00:00, 78.39it/s]\n"
          ]
        },
        {
          "output_type": "stream",
          "name": "stdout",
          "text": [
            "features.46\n",
            "features.49\n",
            "!!\n"
          ]
        },
        {
          "output_type": "stream",
          "name": "stderr",
          "text": [
            "\r0it [00:00, ?it/s]"
          ]
        },
        {
          "output_type": "stream",
          "name": "stdout",
          "text": [
            "features.0\n",
            "features.3\n",
            "features.7\n",
            "features.10\n",
            "features.14\n",
            "features.17\n"
          ]
        },
        {
          "output_type": "stream",
          "name": "stderr",
          "text": [
            "\r30it [00:00, 258.97it/s]"
          ]
        },
        {
          "output_type": "stream",
          "name": "stdout",
          "text": [
            "features.20\n",
            "features.23\n",
            "features.27\n",
            "features.30\n",
            "features.33\n",
            "tensor(0.0432, grad_fn=<DivBackward0>)\n",
            "features.36\n",
            "features.40\n",
            "features.43\n"
          ]
        },
        {
          "output_type": "stream",
          "name": "stderr",
          "text": [
            "64it [00:00, 81.75it/s]\n"
          ]
        },
        {
          "output_type": "stream",
          "name": "stdout",
          "text": [
            "features.46\n",
            "features.49\n",
            "!!\n"
          ]
        },
        {
          "output_type": "stream",
          "name": "stderr",
          "text": [
            "\r0it [00:00, ?it/s]"
          ]
        },
        {
          "output_type": "stream",
          "name": "stdout",
          "text": [
            "features.0\n",
            "features.3\n",
            "features.7\n",
            "features.10\n",
            "features.14\n",
            "features.17\n",
            "features.20\n"
          ]
        },
        {
          "output_type": "stream",
          "name": "stderr",
          "text": [
            "\r30it [00:00, 264.41it/s]"
          ]
        },
        {
          "output_type": "stream",
          "name": "stdout",
          "text": [
            "features.23\n",
            "features.27\n",
            "features.30\n",
            "features.33\n",
            "tensor(0.0438, grad_fn=<DivBackward0>)\n",
            "features.36\n",
            "features.40\n",
            "features.43\n"
          ]
        },
        {
          "output_type": "stream",
          "name": "stderr",
          "text": [
            "64it [00:00, 78.59it/s]\n"
          ]
        },
        {
          "output_type": "stream",
          "name": "stdout",
          "text": [
            "features.46\n",
            "features.49\n",
            "!!\n"
          ]
        },
        {
          "output_type": "stream",
          "name": "stderr",
          "text": [
            "\r0it [00:00, ?it/s]"
          ]
        },
        {
          "output_type": "stream",
          "name": "stdout",
          "text": [
            "features.0\n",
            "features.3\n",
            "features.7\n",
            "features.10\n",
            "features.14\n",
            "features.17\n",
            "features.20\n"
          ]
        },
        {
          "output_type": "stream",
          "name": "stderr",
          "text": [
            "\r30it [00:00, 250.22it/s]"
          ]
        },
        {
          "output_type": "stream",
          "name": "stdout",
          "text": [
            "features.23\n",
            "features.27\n",
            "features.30\n",
            "features.33\n",
            "tensor(0.0438, grad_fn=<DivBackward0>)\n",
            "features.36\n",
            "features.40\n",
            "features.43\n"
          ]
        },
        {
          "output_type": "stream",
          "name": "stderr",
          "text": [
            "64it [00:00, 79.74it/s]\n"
          ]
        },
        {
          "output_type": "stream",
          "name": "stdout",
          "text": [
            "features.46\n",
            "features.49\n",
            "!!\n"
          ]
        },
        {
          "output_type": "stream",
          "name": "stderr",
          "text": [
            "30it [00:00, 210.45it/s]"
          ]
        },
        {
          "output_type": "stream",
          "name": "stdout",
          "text": [
            "features.0\n",
            "features.3\n",
            "features.7\n",
            "features.10\n",
            "features.14\n",
            "features.17\n",
            "features.20\n",
            "features.23\n",
            "features.27\n",
            "features.30\n",
            "features.33\n",
            "tensor(0.0431, grad_fn=<DivBackward0>)\n",
            "features.36\n",
            "features.40\n",
            "features.43\n",
            "features.46\n"
          ]
        },
        {
          "output_type": "stream",
          "name": "stderr",
          "text": [
            "64it [00:01, 53.82it/s]\n"
          ]
        },
        {
          "output_type": "stream",
          "name": "stdout",
          "text": [
            "features.49\n",
            "!!\n"
          ]
        },
        {
          "output_type": "stream",
          "name": "stderr",
          "text": [
            "\r0it [00:00, ?it/s]"
          ]
        },
        {
          "output_type": "stream",
          "name": "stdout",
          "text": [
            "features.0\n",
            "features.3\n",
            "features.7\n",
            "features.10\n",
            "features.14\n",
            "features.17\n",
            "features.20\n"
          ]
        },
        {
          "output_type": "stream",
          "name": "stderr",
          "text": [
            "\r26it [00:00, 202.74it/s]"
          ]
        },
        {
          "output_type": "stream",
          "name": "stdout",
          "text": [
            "features.23\n",
            "features.27\n",
            "features.30\n",
            "features.33\n",
            "tensor(0.0437, grad_fn=<DivBackward0>)\n",
            "features.36\n",
            "features.40\n"
          ]
        },
        {
          "output_type": "stream",
          "name": "stderr",
          "text": [
            "\r47it [00:01, 39.12it/s] "
          ]
        },
        {
          "output_type": "stream",
          "name": "stdout",
          "text": [
            "features.43\n",
            "features.46\n"
          ]
        },
        {
          "output_type": "stream",
          "name": "stderr",
          "text": [
            "64it [00:01, 49.62it/s]\n"
          ]
        },
        {
          "output_type": "stream",
          "name": "stdout",
          "text": [
            "features.49\n",
            "!!\n"
          ]
        },
        {
          "output_type": "stream",
          "name": "stderr",
          "text": [
            "\r0it [00:00, ?it/s]"
          ]
        },
        {
          "output_type": "stream",
          "name": "stdout",
          "text": [
            "features.0\n",
            "features.3\n",
            "features.7\n",
            "features.10\n",
            "features.14\n",
            "features.17\n"
          ]
        },
        {
          "output_type": "stream",
          "name": "stderr",
          "text": [
            "\r26it [00:00, 198.12it/s]"
          ]
        },
        {
          "output_type": "stream",
          "name": "stdout",
          "text": [
            "features.20\n",
            "features.23\n",
            "features.27\n",
            "features.30\n",
            "features.33\n",
            "tensor(0.0434, grad_fn=<DivBackward0>)\n",
            "features.36\n",
            "features.40\n"
          ]
        },
        {
          "output_type": "stream",
          "name": "stderr",
          "text": [
            "\r46it [00:01, 36.68it/s] "
          ]
        },
        {
          "output_type": "stream",
          "name": "stdout",
          "text": [
            "features.43\n",
            "features.46\n"
          ]
        },
        {
          "output_type": "stream",
          "name": "stderr",
          "text": [
            "64it [00:01, 46.18it/s]\n"
          ]
        },
        {
          "output_type": "stream",
          "name": "stdout",
          "text": [
            "features.49\n",
            "!!\n"
          ]
        },
        {
          "output_type": "stream",
          "name": "stderr",
          "text": [
            "\r0it [00:00, ?it/s]"
          ]
        },
        {
          "output_type": "stream",
          "name": "stdout",
          "text": [
            "features.0\n",
            "features.3\n",
            "features.7\n",
            "features.10\n",
            "features.14\n",
            "features.17\n"
          ]
        },
        {
          "output_type": "stream",
          "name": "stderr",
          "text": [
            "\r26it [00:00, 194.83it/s]"
          ]
        },
        {
          "output_type": "stream",
          "name": "stdout",
          "text": [
            "features.20\n",
            "features.23\n",
            "features.27\n",
            "features.30\n",
            "features.33\n",
            "tensor(0.0432, grad_fn=<DivBackward0>)\n",
            "features.36\n",
            "features.40\n"
          ]
        },
        {
          "output_type": "stream",
          "name": "stderr",
          "text": [
            "\r46it [00:01, 37.25it/s] "
          ]
        },
        {
          "output_type": "stream",
          "name": "stdout",
          "text": [
            "features.43\n",
            "features.46\n",
            "features.49\n"
          ]
        },
        {
          "output_type": "stream",
          "name": "stderr",
          "text": [
            "64it [00:01, 52.55it/s]\n"
          ]
        },
        {
          "output_type": "stream",
          "name": "stdout",
          "text": [
            "!!\n"
          ]
        },
        {
          "output_type": "stream",
          "name": "stderr",
          "text": [
            "30it [00:00, 242.10it/s]"
          ]
        },
        {
          "output_type": "stream",
          "name": "stdout",
          "text": [
            "features.0\n",
            "features.3\n",
            "features.7\n",
            "features.10\n",
            "features.14\n",
            "features.17\n",
            "features.20\n",
            "features.23\n",
            "features.27\n",
            "features.30\n",
            "features.33\n",
            "tensor(0.0441, grad_fn=<DivBackward0>)\n",
            "features.36\n",
            "features.40\n",
            "features.43\n"
          ]
        },
        {
          "output_type": "stream",
          "name": "stderr",
          "text": [
            "64it [00:00, 78.70it/s]\n"
          ]
        },
        {
          "output_type": "stream",
          "name": "stdout",
          "text": [
            "features.46\n",
            "features.49\n",
            "!!\n"
          ]
        },
        {
          "output_type": "stream",
          "name": "stderr",
          "text": [
            "\r0it [00:00, ?it/s]"
          ]
        },
        {
          "output_type": "stream",
          "name": "stdout",
          "text": [
            "features.0\n",
            "features.3\n",
            "features.7\n",
            "features.10\n",
            "features.14\n",
            "features.17\n"
          ]
        },
        {
          "output_type": "stream",
          "name": "stderr",
          "text": [
            "\r30it [00:00, 260.98it/s]"
          ]
        },
        {
          "output_type": "stream",
          "name": "stdout",
          "text": [
            "features.20\n",
            "features.23\n",
            "features.27\n",
            "features.30\n",
            "features.33\n",
            "tensor(0.0429, grad_fn=<DivBackward0>)\n",
            "features.36\n",
            "features.40\n",
            "features.43\n"
          ]
        },
        {
          "output_type": "stream",
          "name": "stderr",
          "text": [
            "64it [00:00, 79.33it/s]\n"
          ]
        },
        {
          "output_type": "stream",
          "name": "stdout",
          "text": [
            "features.46\n",
            "features.49\n",
            "!!\n"
          ]
        },
        {
          "output_type": "stream",
          "name": "stderr",
          "text": [
            "\r0it [00:00, ?it/s]"
          ]
        },
        {
          "output_type": "stream",
          "name": "stdout",
          "text": [
            "features.0\n",
            "features.3\n",
            "features.7\n",
            "features.10\n",
            "features.14\n",
            "features.17\n"
          ]
        },
        {
          "output_type": "stream",
          "name": "stderr",
          "text": [
            "\r30it [00:00, 228.03it/s]"
          ]
        },
        {
          "output_type": "stream",
          "name": "stdout",
          "text": [
            "features.20\n",
            "features.23\n",
            "features.27\n",
            "features.30\n",
            "features.33\n",
            "tensor(0.0422, grad_fn=<DivBackward0>)\n",
            "features.36\n",
            "features.40\n",
            "features.43\n"
          ]
        },
        {
          "output_type": "stream",
          "name": "stderr",
          "text": [
            "64it [00:00, 76.54it/s]\n"
          ]
        },
        {
          "output_type": "stream",
          "name": "stdout",
          "text": [
            "features.46\n",
            "features.49\n",
            "!!\n"
          ]
        },
        {
          "output_type": "stream",
          "name": "stderr",
          "text": [
            "\r0it [00:00, ?it/s]"
          ]
        },
        {
          "output_type": "stream",
          "name": "stdout",
          "text": [
            "features.0\n",
            "features.3\n",
            "features.7\n",
            "features.10\n",
            "features.14\n",
            "features.17\n"
          ]
        },
        {
          "output_type": "stream",
          "name": "stderr",
          "text": [
            "\r30it [00:00, 261.04it/s]"
          ]
        },
        {
          "output_type": "stream",
          "name": "stdout",
          "text": [
            "features.20\n",
            "features.23\n",
            "features.27\n",
            "features.30\n",
            "features.33\n",
            "tensor(0.0434, grad_fn=<DivBackward0>)\n",
            "features.36\n",
            "features.40\n",
            "features.43\n"
          ]
        },
        {
          "output_type": "stream",
          "name": "stderr",
          "text": [
            "64it [00:00, 80.37it/s]\n"
          ]
        },
        {
          "output_type": "stream",
          "name": "stdout",
          "text": [
            "features.46\n",
            "features.49\n",
            "!!\n"
          ]
        },
        {
          "output_type": "stream",
          "name": "stderr",
          "text": [
            "\r0it [00:00, ?it/s]"
          ]
        },
        {
          "output_type": "stream",
          "name": "stdout",
          "text": [
            "features.0\n",
            "features.3\n",
            "features.7\n",
            "features.10\n",
            "features.14\n",
            "features.17\n",
            "features.20\n"
          ]
        },
        {
          "output_type": "stream",
          "name": "stderr",
          "text": [
            "\r30it [00:00, 263.85it/s]"
          ]
        },
        {
          "output_type": "stream",
          "name": "stdout",
          "text": [
            "features.23\n",
            "features.27\n",
            "features.30\n",
            "features.33\n",
            "tensor(0.0448, grad_fn=<DivBackward0>)\n",
            "features.36\n",
            "features.40\n",
            "features.43\n"
          ]
        },
        {
          "output_type": "stream",
          "name": "stderr",
          "text": [
            "64it [00:00, 82.27it/s]\n"
          ]
        },
        {
          "output_type": "stream",
          "name": "stdout",
          "text": [
            "features.46\n",
            "features.49\n",
            "!!\n"
          ]
        },
        {
          "output_type": "stream",
          "name": "stderr",
          "text": [
            "\r0it [00:00, ?it/s]"
          ]
        },
        {
          "output_type": "stream",
          "name": "stdout",
          "text": [
            "features.0\n",
            "features.3\n",
            "features.7\n",
            "features.10\n",
            "features.14\n",
            "features.17\n",
            "features.20\n"
          ]
        },
        {
          "output_type": "stream",
          "name": "stderr",
          "text": [
            "\r30it [00:00, 231.61it/s]"
          ]
        },
        {
          "output_type": "stream",
          "name": "stdout",
          "text": [
            "features.23\n",
            "features.27\n",
            "features.30\n",
            "features.33\n",
            "tensor(0.0436, grad_fn=<DivBackward0>)\n",
            "features.36\n",
            "features.40\n",
            "features.43\n"
          ]
        },
        {
          "output_type": "stream",
          "name": "stderr",
          "text": [
            "64it [00:00, 80.56it/s]\n"
          ]
        },
        {
          "output_type": "stream",
          "name": "stdout",
          "text": [
            "features.46\n",
            "features.49\n",
            "!!\n"
          ]
        },
        {
          "output_type": "stream",
          "name": "stderr",
          "text": [
            "\r0it [00:00, ?it/s]"
          ]
        },
        {
          "output_type": "stream",
          "name": "stdout",
          "text": [
            "features.0\n",
            "features.3\n",
            "features.7\n",
            "features.10\n",
            "features.14\n",
            "features.17\n"
          ]
        },
        {
          "output_type": "stream",
          "name": "stderr",
          "text": [
            "\r30it [00:00, 258.40it/s]"
          ]
        },
        {
          "output_type": "stream",
          "name": "stdout",
          "text": [
            "features.20\n",
            "features.23\n",
            "features.27\n",
            "features.30\n",
            "features.33\n",
            "tensor(0.0446, grad_fn=<DivBackward0>)\n",
            "features.36\n",
            "features.40\n",
            "features.43\n"
          ]
        },
        {
          "output_type": "stream",
          "name": "stderr",
          "text": [
            "64it [00:00, 79.98it/s]\n"
          ]
        },
        {
          "output_type": "stream",
          "name": "stdout",
          "text": [
            "features.46\n",
            "features.49\n",
            "!!\n"
          ]
        },
        {
          "output_type": "stream",
          "name": "stderr",
          "text": [
            "\r0it [00:00, ?it/s]"
          ]
        },
        {
          "output_type": "stream",
          "name": "stdout",
          "text": [
            "features.0\n",
            "features.3\n",
            "features.7\n",
            "features.10\n",
            "features.14\n"
          ]
        },
        {
          "output_type": "stream",
          "name": "stderr",
          "text": [
            "\r30it [00:00, 244.68it/s]"
          ]
        },
        {
          "output_type": "stream",
          "name": "stdout",
          "text": [
            "features.17\n",
            "features.20\n",
            "features.23\n",
            "features.27\n",
            "features.30\n",
            "features.33\n",
            "tensor(0.0434, grad_fn=<DivBackward0>)\n",
            "features.36\n",
            "features.40\n",
            "features.43\n"
          ]
        },
        {
          "output_type": "stream",
          "name": "stderr",
          "text": [
            "64it [00:00, 81.02it/s]\n"
          ]
        },
        {
          "output_type": "stream",
          "name": "stdout",
          "text": [
            "features.46\n",
            "features.49\n",
            "!!\n"
          ]
        },
        {
          "output_type": "stream",
          "name": "stderr",
          "text": [
            "\r0it [00:00, ?it/s]"
          ]
        },
        {
          "output_type": "stream",
          "name": "stdout",
          "text": [
            "features.0\n",
            "features.3\n",
            "features.7\n",
            "features.10\n",
            "features.14\n",
            "features.17\n"
          ]
        },
        {
          "output_type": "stream",
          "name": "stderr",
          "text": [
            "\r30it [00:00, 254.85it/s]"
          ]
        },
        {
          "output_type": "stream",
          "name": "stdout",
          "text": [
            "features.20\n",
            "features.23\n",
            "features.27\n",
            "features.30\n",
            "features.33\n",
            "tensor(0.0440, grad_fn=<DivBackward0>)\n",
            "features.36\n",
            "features.40\n",
            "features.43\n"
          ]
        },
        {
          "output_type": "stream",
          "name": "stderr",
          "text": [
            "64it [00:00, 79.99it/s]\n"
          ]
        },
        {
          "output_type": "stream",
          "name": "stdout",
          "text": [
            "features.46\n",
            "features.49\n",
            "!!\n"
          ]
        },
        {
          "output_type": "stream",
          "name": "stderr",
          "text": [
            "\r0it [00:00, ?it/s]"
          ]
        },
        {
          "output_type": "stream",
          "name": "stdout",
          "text": [
            "features.0\n",
            "features.3\n",
            "features.7\n",
            "features.10\n",
            "features.14\n",
            "features.17\n"
          ]
        },
        {
          "output_type": "stream",
          "name": "stderr",
          "text": [
            "\r30it [00:00, 249.00it/s]"
          ]
        },
        {
          "output_type": "stream",
          "name": "stdout",
          "text": [
            "features.20\n",
            "features.23\n",
            "features.27\n",
            "features.30\n",
            "features.33\n",
            "tensor(0.0448, grad_fn=<DivBackward0>)\n",
            "features.36\n",
            "features.40\n",
            "features.43\n"
          ]
        },
        {
          "output_type": "stream",
          "name": "stderr",
          "text": [
            "64it [00:00, 80.53it/s]\n"
          ]
        },
        {
          "output_type": "stream",
          "name": "stdout",
          "text": [
            "features.46\n",
            "features.49\n",
            "!!\n"
          ]
        },
        {
          "output_type": "stream",
          "name": "stderr",
          "text": [
            "\r0it [00:00, ?it/s]"
          ]
        },
        {
          "output_type": "stream",
          "name": "stdout",
          "text": [
            "features.0\n",
            "features.3\n",
            "features.7\n",
            "features.10\n",
            "features.14\n",
            "features.17\n",
            "features.20\n"
          ]
        },
        {
          "output_type": "stream",
          "name": "stderr",
          "text": [
            "\r30it [00:00, 271.60it/s]"
          ]
        },
        {
          "output_type": "stream",
          "name": "stdout",
          "text": [
            "features.23\n",
            "features.27\n",
            "features.30\n",
            "features.33\n",
            "tensor(0.0441, grad_fn=<DivBackward0>)\n",
            "features.36\n",
            "features.40\n",
            "features.43\n"
          ]
        },
        {
          "output_type": "stream",
          "name": "stderr",
          "text": [
            "64it [00:00, 80.02it/s]\n"
          ]
        },
        {
          "output_type": "stream",
          "name": "stdout",
          "text": [
            "features.46\n",
            "features.49\n",
            "!!\n"
          ]
        },
        {
          "output_type": "stream",
          "name": "stderr",
          "text": [
            "\r0it [00:00, ?it/s]"
          ]
        },
        {
          "output_type": "stream",
          "name": "stdout",
          "text": [
            "features.0\n",
            "features.3\n",
            "features.7\n",
            "features.10\n",
            "features.14\n"
          ]
        },
        {
          "output_type": "stream",
          "name": "stderr",
          "text": [
            "\r30it [00:00, 257.87it/s]"
          ]
        },
        {
          "output_type": "stream",
          "name": "stdout",
          "text": [
            "features.17\n",
            "features.20\n",
            "features.23\n",
            "features.27\n",
            "features.30\n",
            "features.33\n",
            "tensor(0.0449, grad_fn=<DivBackward0>)\n",
            "features.36\n",
            "features.40\n",
            "features.43\n"
          ]
        },
        {
          "output_type": "stream",
          "name": "stderr",
          "text": [
            "64it [00:00, 82.43it/s]\n"
          ]
        },
        {
          "output_type": "stream",
          "name": "stdout",
          "text": [
            "features.46\n",
            "features.49\n",
            "!!\n"
          ]
        },
        {
          "output_type": "stream",
          "name": "stderr",
          "text": [
            "\r0it [00:00, ?it/s]"
          ]
        },
        {
          "output_type": "stream",
          "name": "stdout",
          "text": [
            "features.0\n",
            "features.3\n",
            "features.7\n",
            "features.10\n",
            "features.14\n",
            "features.17\n"
          ]
        },
        {
          "output_type": "stream",
          "name": "stderr",
          "text": [
            "\r26it [00:00, 216.19it/s]"
          ]
        },
        {
          "output_type": "stream",
          "name": "stdout",
          "text": [
            "features.20\n",
            "features.23\n",
            "features.27\n",
            "features.30\n",
            "features.33\n",
            "tensor(0.0444, grad_fn=<DivBackward0>)\n",
            "features.36\n",
            "features.40\n"
          ]
        },
        {
          "output_type": "stream",
          "name": "stderr",
          "text": [
            "\r48it [00:01, 40.85it/s] "
          ]
        },
        {
          "output_type": "stream",
          "name": "stdout",
          "text": [
            "features.43\n",
            "features.46\n"
          ]
        },
        {
          "output_type": "stream",
          "name": "stderr",
          "text": [
            "64it [00:01, 49.82it/s]\n"
          ]
        },
        {
          "output_type": "stream",
          "name": "stdout",
          "text": [
            "features.49\n",
            "!!\n"
          ]
        },
        {
          "output_type": "stream",
          "name": "stderr",
          "text": [
            "\r0it [00:00, ?it/s]"
          ]
        },
        {
          "output_type": "stream",
          "name": "stdout",
          "text": [
            "features.0\n",
            "features.3\n",
            "features.7\n",
            "features.10\n",
            "features.14\n",
            "features.17\n"
          ]
        },
        {
          "output_type": "stream",
          "name": "stderr",
          "text": [
            "\r26it [00:00, 207.56it/s]"
          ]
        },
        {
          "output_type": "stream",
          "name": "stdout",
          "text": [
            "features.20\n",
            "features.23\n",
            "features.27\n",
            "features.30\n",
            "features.33\n",
            "tensor(0.0439, grad_fn=<DivBackward0>)\n",
            "features.36\n",
            "features.40\n"
          ]
        },
        {
          "output_type": "stream",
          "name": "stderr",
          "text": [
            "\r47it [00:00, 41.10it/s] "
          ]
        },
        {
          "output_type": "stream",
          "name": "stdout",
          "text": [
            "features.43\n",
            "features.46\n"
          ]
        },
        {
          "output_type": "stream",
          "name": "stderr",
          "text": [
            "64it [00:01, 52.19it/s]\n"
          ]
        },
        {
          "output_type": "stream",
          "name": "stdout",
          "text": [
            "features.49\n",
            "!!\n"
          ]
        },
        {
          "output_type": "stream",
          "name": "stderr",
          "text": [
            "\r0it [00:00, ?it/s]"
          ]
        },
        {
          "output_type": "stream",
          "name": "stdout",
          "text": [
            "features.0\n",
            "features.3\n",
            "features.7\n",
            "features.10\n",
            "features.14\n",
            "features.17\n",
            "features.20\n"
          ]
        },
        {
          "output_type": "stream",
          "name": "stderr",
          "text": [
            "\r23it [00:00, 225.77it/s]"
          ]
        },
        {
          "output_type": "stream",
          "name": "stdout",
          "text": [
            "features.23\n",
            "features.27\n",
            "features.30\n",
            "features.33\n",
            "tensor(0.0433, grad_fn=<DivBackward0>)\n",
            "features.36\n",
            "features.40\n"
          ]
        },
        {
          "output_type": "stream",
          "name": "stderr",
          "text": [
            "\r46it [00:01, 36.86it/s] "
          ]
        },
        {
          "output_type": "stream",
          "name": "stdout",
          "text": [
            "features.43\n",
            "features.46\n"
          ]
        },
        {
          "output_type": "stream",
          "name": "stderr",
          "text": [
            "64it [00:01, 46.55it/s]\n"
          ]
        },
        {
          "output_type": "stream",
          "name": "stdout",
          "text": [
            "features.49\n",
            "!!\n"
          ]
        },
        {
          "output_type": "stream",
          "name": "stderr",
          "text": [
            "\r0it [00:00, ?it/s]"
          ]
        },
        {
          "output_type": "stream",
          "name": "stdout",
          "text": [
            "features.0\n",
            "features.3\n",
            "features.7\n",
            "features.10\n",
            "features.14\n"
          ]
        },
        {
          "output_type": "stream",
          "name": "stderr",
          "text": [
            "\r23it [00:00, 198.31it/s]"
          ]
        },
        {
          "output_type": "stream",
          "name": "stdout",
          "text": [
            "features.17\n",
            "features.20\n",
            "features.23\n",
            "features.27\n",
            "features.30\n",
            "features.33\n",
            "tensor(0.0432, grad_fn=<DivBackward0>)\n",
            "features.36\n",
            "features.40\n"
          ]
        },
        {
          "output_type": "stream",
          "name": "stderr",
          "text": [
            "\r43it [00:01, 36.73it/s] "
          ]
        },
        {
          "output_type": "stream",
          "name": "stdout",
          "text": [
            "features.43\n",
            "features.46\n"
          ]
        },
        {
          "output_type": "stream",
          "name": "stderr",
          "text": [
            "64it [00:01, 44.18it/s]\n"
          ]
        },
        {
          "output_type": "stream",
          "name": "stdout",
          "text": [
            "features.49\n",
            "!!\n"
          ]
        },
        {
          "output_type": "stream",
          "name": "stderr",
          "text": [
            "\r0it [00:00, ?it/s]"
          ]
        },
        {
          "output_type": "stream",
          "name": "stdout",
          "text": [
            "features.0\n",
            "features.3\n",
            "features.7\n",
            "features.10\n",
            "features.14\n",
            "features.17\n"
          ]
        },
        {
          "output_type": "stream",
          "name": "stderr",
          "text": [
            "\r23it [00:00, 224.72it/s]"
          ]
        },
        {
          "output_type": "stream",
          "name": "stdout",
          "text": [
            "features.20\n",
            "features.23\n",
            "features.27\n",
            "features.30\n",
            "features.33\n",
            "tensor(0.0433, grad_fn=<DivBackward0>)\n",
            "features.36\n",
            "features.40\n",
            "features.43\n"
          ]
        },
        {
          "output_type": "stream",
          "name": "stderr",
          "text": [
            "64it [00:00, 70.13it/s]\n"
          ]
        },
        {
          "output_type": "stream",
          "name": "stdout",
          "text": [
            "features.46\n",
            "features.49\n",
            "!!\n"
          ]
        },
        {
          "output_type": "stream",
          "name": "stderr",
          "text": [
            "\r0it [00:00, ?it/s]"
          ]
        },
        {
          "output_type": "stream",
          "name": "stdout",
          "text": [
            "features.0\n",
            "features.3\n",
            "features.7\n",
            "features.10\n",
            "features.14\n",
            "features.17\n"
          ]
        },
        {
          "output_type": "stream",
          "name": "stderr",
          "text": [
            "\r30it [00:00, 260.35it/s]"
          ]
        },
        {
          "output_type": "stream",
          "name": "stdout",
          "text": [
            "features.20\n",
            "features.23\n",
            "features.27\n",
            "features.30\n",
            "features.33\n",
            "tensor(0.0426, grad_fn=<DivBackward0>)\n",
            "features.36\n",
            "features.40\n",
            "features.43\n"
          ]
        },
        {
          "output_type": "stream",
          "name": "stderr",
          "text": [
            "64it [00:00, 82.55it/s]\n"
          ]
        },
        {
          "output_type": "stream",
          "name": "stdout",
          "text": [
            "features.46\n",
            "features.49\n",
            "!!\n"
          ]
        },
        {
          "output_type": "stream",
          "name": "stderr",
          "text": [
            "\r0it [00:00, ?it/s]"
          ]
        },
        {
          "output_type": "stream",
          "name": "stdout",
          "text": [
            "features.0\n",
            "features.3\n",
            "features.7\n",
            "features.10\n"
          ]
        },
        {
          "output_type": "stream",
          "name": "stderr",
          "text": [
            "\r30it [00:00, 253.54it/s]"
          ]
        },
        {
          "output_type": "stream",
          "name": "stdout",
          "text": [
            "features.14\n",
            "features.17\n",
            "features.20\n",
            "features.23\n",
            "features.27\n",
            "features.30\n",
            "features.33\n",
            "tensor(0.0441, grad_fn=<DivBackward0>)\n",
            "features.36\n",
            "features.40\n",
            "features.43\n"
          ]
        },
        {
          "output_type": "stream",
          "name": "stderr",
          "text": [
            "64it [00:00, 81.69it/s]\n"
          ]
        },
        {
          "output_type": "stream",
          "name": "stdout",
          "text": [
            "features.46\n",
            "features.49\n",
            "!!\n"
          ]
        },
        {
          "output_type": "stream",
          "name": "stderr",
          "text": [
            "\r0it [00:00, ?it/s]"
          ]
        },
        {
          "output_type": "stream",
          "name": "stdout",
          "text": [
            "features.0\n",
            "features.3\n",
            "features.7\n",
            "features.10\n",
            "features.14\n"
          ]
        },
        {
          "output_type": "stream",
          "name": "stderr",
          "text": [
            "\r26it [00:00, 235.23it/s]"
          ]
        },
        {
          "output_type": "stream",
          "name": "stdout",
          "text": [
            "features.17\n",
            "features.20\n",
            "features.23\n",
            "features.27\n",
            "features.30\n",
            "features.33\n",
            "tensor(0.0431, grad_fn=<DivBackward0>)\n",
            "features.36\n",
            "features.40\n",
            "features.43\n"
          ]
        },
        {
          "output_type": "stream",
          "name": "stderr",
          "text": [
            "64it [00:00, 79.04it/s]\n"
          ]
        },
        {
          "output_type": "stream",
          "name": "stdout",
          "text": [
            "features.46\n",
            "features.49\n",
            "!!\n"
          ]
        },
        {
          "output_type": "stream",
          "name": "stderr",
          "text": [
            "\r0it [00:00, ?it/s]"
          ]
        },
        {
          "output_type": "stream",
          "name": "stdout",
          "text": [
            "features.0\n",
            "features.3\n",
            "features.7\n",
            "features.10\n",
            "features.14\n",
            "features.17\n"
          ]
        },
        {
          "output_type": "stream",
          "name": "stderr",
          "text": [
            "\r30it [00:00, 253.67it/s]"
          ]
        },
        {
          "output_type": "stream",
          "name": "stdout",
          "text": [
            "features.20\n",
            "features.23\n",
            "features.27\n",
            "features.30\n",
            "features.33\n",
            "tensor(0.0433, grad_fn=<DivBackward0>)\n",
            "features.36\n",
            "features.40\n",
            "features.43\n"
          ]
        },
        {
          "output_type": "stream",
          "name": "stderr",
          "text": [
            "64it [00:00, 78.72it/s]\n"
          ]
        },
        {
          "output_type": "stream",
          "name": "stdout",
          "text": [
            "features.46\n",
            "features.49\n",
            "!!\n"
          ]
        },
        {
          "output_type": "stream",
          "name": "stderr",
          "text": [
            "\r0it [00:00, ?it/s]"
          ]
        },
        {
          "output_type": "stream",
          "name": "stdout",
          "text": [
            "features.0\n",
            "features.3\n",
            "features.7\n",
            "features.10\n",
            "features.14\n",
            "features.17\n"
          ]
        },
        {
          "output_type": "stream",
          "name": "stderr",
          "text": [
            "\r30it [00:00, 248.95it/s]"
          ]
        },
        {
          "output_type": "stream",
          "name": "stdout",
          "text": [
            "features.20\n",
            "features.23\n",
            "features.27\n",
            "features.30\n",
            "features.33\n",
            "tensor(0.0437, grad_fn=<DivBackward0>)\n",
            "features.36\n",
            "features.40\n",
            "features.43\n"
          ]
        },
        {
          "output_type": "stream",
          "name": "stderr",
          "text": [
            "64it [00:00, 78.83it/s]\n"
          ]
        },
        {
          "output_type": "stream",
          "name": "stdout",
          "text": [
            "features.46\n",
            "features.49\n",
            "!!\n"
          ]
        },
        {
          "output_type": "stream",
          "name": "stderr",
          "text": [
            "\r0it [00:00, ?it/s]"
          ]
        },
        {
          "output_type": "stream",
          "name": "stdout",
          "text": [
            "features.0\n",
            "features.3\n",
            "features.7\n",
            "features.10\n",
            "features.14\n",
            "features.17\n"
          ]
        },
        {
          "output_type": "stream",
          "name": "stderr",
          "text": [
            "\r30it [00:00, 253.54it/s]"
          ]
        },
        {
          "output_type": "stream",
          "name": "stdout",
          "text": [
            "features.20\n",
            "features.23\n",
            "features.27\n",
            "features.30\n",
            "features.33\n",
            "tensor(0.0436, grad_fn=<DivBackward0>)\n",
            "features.36\n",
            "features.40\n",
            "features.43\n"
          ]
        },
        {
          "output_type": "stream",
          "name": "stderr",
          "text": [
            "64it [00:00, 80.42it/s]\n"
          ]
        },
        {
          "output_type": "stream",
          "name": "stdout",
          "text": [
            "features.46\n",
            "features.49\n",
            "!!\n"
          ]
        },
        {
          "output_type": "stream",
          "name": "stderr",
          "text": [
            "\r0it [00:00, ?it/s]"
          ]
        },
        {
          "output_type": "stream",
          "name": "stdout",
          "text": [
            "features.0\n",
            "features.3\n",
            "features.7\n",
            "features.10\n",
            "features.14\n"
          ]
        },
        {
          "output_type": "stream",
          "name": "stderr",
          "text": [
            "\r30it [00:00, 251.89it/s]"
          ]
        },
        {
          "output_type": "stream",
          "name": "stdout",
          "text": [
            "features.17\n",
            "features.20\n",
            "features.23\n",
            "features.27\n",
            "features.30\n",
            "features.33\n",
            "tensor(0.0442, grad_fn=<DivBackward0>)\n",
            "features.36\n",
            "features.40\n",
            "features.43\n"
          ]
        },
        {
          "output_type": "stream",
          "name": "stderr",
          "text": [
            "64it [00:00, 80.40it/s]\n"
          ]
        },
        {
          "output_type": "stream",
          "name": "stdout",
          "text": [
            "features.46\n",
            "features.49\n",
            "!!\n"
          ]
        },
        {
          "output_type": "stream",
          "name": "stderr",
          "text": [
            "\r0it [00:00, ?it/s]"
          ]
        },
        {
          "output_type": "stream",
          "name": "stdout",
          "text": [
            "features.0\n",
            "features.3\n",
            "features.7\n",
            "features.10\n",
            "features.14\n"
          ]
        },
        {
          "output_type": "stream",
          "name": "stderr",
          "text": [
            "\r30it [00:00, 229.66it/s]"
          ]
        },
        {
          "output_type": "stream",
          "name": "stdout",
          "text": [
            "features.17\n",
            "features.20\n",
            "features.23\n",
            "features.27\n",
            "features.30\n",
            "features.33\n",
            "tensor(0.0452, grad_fn=<DivBackward0>)\n",
            "features.36\n",
            "features.40\n",
            "features.43\n"
          ]
        },
        {
          "output_type": "stream",
          "name": "stderr",
          "text": [
            "64it [00:00, 80.56it/s]\n"
          ]
        },
        {
          "output_type": "stream",
          "name": "stdout",
          "text": [
            "features.46\n",
            "features.49\n",
            "!!\n"
          ]
        },
        {
          "output_type": "stream",
          "name": "stderr",
          "text": [
            "\r0it [00:00, ?it/s]"
          ]
        },
        {
          "output_type": "stream",
          "name": "stdout",
          "text": [
            "features.0\n",
            "features.3\n",
            "features.7\n",
            "features.10\n",
            "features.14\n",
            "features.17\n",
            "features.20\n"
          ]
        },
        {
          "output_type": "stream",
          "name": "stderr",
          "text": [
            "\r30it [00:00, 227.55it/s]"
          ]
        },
        {
          "output_type": "stream",
          "name": "stdout",
          "text": [
            "features.23\n",
            "features.27\n",
            "features.30\n",
            "features.33\n",
            "tensor(0.0439, grad_fn=<DivBackward0>)\n",
            "features.36\n",
            "features.40\n",
            "features.43\n"
          ]
        },
        {
          "output_type": "stream",
          "name": "stderr",
          "text": [
            "64it [00:00, 79.06it/s]\n"
          ]
        },
        {
          "output_type": "stream",
          "name": "stdout",
          "text": [
            "features.46\n",
            "features.49\n",
            "!!\n"
          ]
        },
        {
          "output_type": "stream",
          "name": "stderr",
          "text": [
            "\r0it [00:00, ?it/s]"
          ]
        },
        {
          "output_type": "stream",
          "name": "stdout",
          "text": [
            "features.0\n",
            "features.3\n",
            "features.7\n",
            "features.10\n",
            "features.14\n",
            "features.17\n"
          ]
        },
        {
          "output_type": "stream",
          "name": "stderr",
          "text": [
            "\r30it [00:00, 238.32it/s]"
          ]
        },
        {
          "output_type": "stream",
          "name": "stdout",
          "text": [
            "features.20\n",
            "features.23\n",
            "features.27\n",
            "features.30\n",
            "features.33\n",
            "tensor(0.0436, grad_fn=<DivBackward0>)\n",
            "features.36\n",
            "features.40\n",
            "features.43\n"
          ]
        },
        {
          "output_type": "stream",
          "name": "stderr",
          "text": [
            "64it [00:00, 77.66it/s]\n"
          ]
        },
        {
          "output_type": "stream",
          "name": "stdout",
          "text": [
            "features.46\n",
            "features.49\n",
            "!!\n"
          ]
        },
        {
          "output_type": "stream",
          "name": "stderr",
          "text": [
            "\r0it [00:00, ?it/s]"
          ]
        },
        {
          "output_type": "stream",
          "name": "stdout",
          "text": [
            "features.0\n",
            "features.3\n",
            "features.7\n",
            "features.10\n",
            "features.14\n"
          ]
        },
        {
          "output_type": "stream",
          "name": "stderr",
          "text": [
            "\r30it [00:00, 257.99it/s]"
          ]
        },
        {
          "output_type": "stream",
          "name": "stdout",
          "text": [
            "features.17\n",
            "features.20\n",
            "features.23\n",
            "features.27\n",
            "features.30\n",
            "features.33\n",
            "tensor(0.0437, grad_fn=<DivBackward0>)\n",
            "features.36\n",
            "features.40\n",
            "features.43\n"
          ]
        },
        {
          "output_type": "stream",
          "name": "stderr",
          "text": [
            "64it [00:00, 79.13it/s]\n"
          ]
        },
        {
          "output_type": "stream",
          "name": "stdout",
          "text": [
            "features.46\n",
            "features.49\n",
            "!!\n"
          ]
        },
        {
          "output_type": "stream",
          "name": "stderr",
          "text": [
            "\r0it [00:00, ?it/s]"
          ]
        },
        {
          "output_type": "stream",
          "name": "stdout",
          "text": [
            "features.0\n",
            "features.3\n",
            "features.7\n",
            "features.10\n",
            "features.14\n"
          ]
        },
        {
          "output_type": "stream",
          "name": "stderr",
          "text": [
            "\r30it [00:00, 253.83it/s]"
          ]
        },
        {
          "output_type": "stream",
          "name": "stdout",
          "text": [
            "features.17\n",
            "features.20\n",
            "features.23\n",
            "features.27\n",
            "features.30\n",
            "features.33\n",
            "tensor(0.0436, grad_fn=<DivBackward0>)\n",
            "features.36\n",
            "features.40\n",
            "features.43\n",
            "features.46\n"
          ]
        },
        {
          "output_type": "stream",
          "name": "stderr",
          "text": [
            "64it [00:01, 61.25it/s]\n"
          ]
        },
        {
          "output_type": "stream",
          "name": "stdout",
          "text": [
            "features.49\n",
            "!!\n"
          ]
        },
        {
          "output_type": "stream",
          "name": "stderr",
          "text": [
            "\r0it [00:00, ?it/s]"
          ]
        },
        {
          "output_type": "stream",
          "name": "stdout",
          "text": [
            "features.0\n",
            "features.3\n",
            "features.7\n",
            "features.10\n",
            "features.14\n",
            "features.17\n"
          ]
        },
        {
          "output_type": "stream",
          "name": "stderr",
          "text": [
            "\r23it [00:00, 204.60it/s]"
          ]
        },
        {
          "output_type": "stream",
          "name": "stdout",
          "text": [
            "features.20\n",
            "features.23\n",
            "features.27\n",
            "features.30\n",
            "features.33\n",
            "tensor(0.0424, grad_fn=<DivBackward0>)\n",
            "features.36\n",
            "features.40\n"
          ]
        },
        {
          "output_type": "stream",
          "name": "stderr",
          "text": [
            "\r44it [00:00, 42.29it/s] "
          ]
        },
        {
          "output_type": "stream",
          "name": "stdout",
          "text": [
            "features.43\n",
            "features.46\n"
          ]
        },
        {
          "output_type": "stream",
          "name": "stderr",
          "text": [
            "64it [00:01, 49.40it/s]\n"
          ]
        },
        {
          "output_type": "stream",
          "name": "stdout",
          "text": [
            "features.49\n",
            "!!\n"
          ]
        },
        {
          "output_type": "stream",
          "name": "stderr",
          "text": [
            "\r0it [00:00, ?it/s]"
          ]
        },
        {
          "output_type": "stream",
          "name": "stdout",
          "text": [
            "features.0\n",
            "features.3\n",
            "features.7\n",
            "features.10\n",
            "features.14\n",
            "features.17\n"
          ]
        },
        {
          "output_type": "stream",
          "name": "stderr",
          "text": [
            "\r23it [00:00, 229.96it/s]"
          ]
        },
        {
          "output_type": "stream",
          "name": "stdout",
          "text": [
            "features.20\n",
            "features.23\n",
            "features.27\n",
            "features.30\n",
            "features.33\n",
            "tensor(0.0429, grad_fn=<DivBackward0>)\n",
            "features.36\n",
            "features.40\n"
          ]
        },
        {
          "output_type": "stream",
          "name": "stderr",
          "text": [
            "\r46it [00:01, 38.67it/s] "
          ]
        },
        {
          "output_type": "stream",
          "name": "stdout",
          "text": [
            "features.43\n",
            "features.46\n"
          ]
        },
        {
          "output_type": "stream",
          "name": "stderr",
          "text": [
            "64it [00:01, 48.48it/s]\n"
          ]
        },
        {
          "output_type": "stream",
          "name": "stdout",
          "text": [
            "features.49\n",
            "!!\n"
          ]
        },
        {
          "output_type": "stream",
          "name": "stderr",
          "text": [
            "\r0it [00:00, ?it/s]"
          ]
        },
        {
          "output_type": "stream",
          "name": "stdout",
          "text": [
            "features.0\n",
            "features.3\n",
            "features.7\n",
            "features.10\n",
            "features.14\n",
            "features.17\n"
          ]
        },
        {
          "output_type": "stream",
          "name": "stderr",
          "text": [
            "\r23it [00:00, 225.70it/s]"
          ]
        },
        {
          "output_type": "stream",
          "name": "stdout",
          "text": [
            "features.20\n",
            "features.23\n",
            "features.27\n",
            "features.30\n",
            "features.33\n",
            "tensor(0.0433, grad_fn=<DivBackward0>)\n",
            "features.36\n",
            "features.40\n"
          ]
        },
        {
          "output_type": "stream",
          "name": "stderr",
          "text": [
            "\r46it [00:01, 34.09it/s] "
          ]
        },
        {
          "output_type": "stream",
          "name": "stdout",
          "text": [
            "features.43\n",
            "features.46\n"
          ]
        },
        {
          "output_type": "stream",
          "name": "stderr",
          "text": [
            "64it [00:01, 43.46it/s]\n"
          ]
        },
        {
          "output_type": "stream",
          "name": "stdout",
          "text": [
            "features.49\n",
            "!!\n"
          ]
        },
        {
          "output_type": "stream",
          "name": "stderr",
          "text": [
            "\r0it [00:00, ?it/s]"
          ]
        },
        {
          "output_type": "stream",
          "name": "stdout",
          "text": [
            "features.0\n",
            "features.3\n",
            "features.7\n",
            "features.10\n",
            "features.14\n"
          ]
        },
        {
          "output_type": "stream",
          "name": "stderr",
          "text": [
            "\r23it [00:00, 180.87it/s]"
          ]
        },
        {
          "output_type": "stream",
          "name": "stdout",
          "text": [
            "features.17\n",
            "features.20\n",
            "features.23\n",
            "features.27\n",
            "features.30\n",
            "features.33\n"
          ]
        },
        {
          "output_type": "stream",
          "name": "stderr",
          "text": [
            "\r42it [00:00, 56.95it/s] "
          ]
        },
        {
          "output_type": "stream",
          "name": "stdout",
          "text": [
            "tensor(0.0437, grad_fn=<DivBackward0>)\n",
            "features.36\n",
            "features.40\n",
            "features.43\n"
          ]
        },
        {
          "output_type": "stream",
          "name": "stderr",
          "text": [
            "64it [00:00, 65.55it/s]\n"
          ]
        },
        {
          "output_type": "stream",
          "name": "stdout",
          "text": [
            "features.46\n",
            "features.49\n",
            "!!\n"
          ]
        },
        {
          "output_type": "stream",
          "name": "stderr",
          "text": [
            "\r0it [00:00, ?it/s]"
          ]
        },
        {
          "output_type": "stream",
          "name": "stdout",
          "text": [
            "features.0\n",
            "features.3\n",
            "features.7\n",
            "features.10\n",
            "features.14\n",
            "features.17\n"
          ]
        },
        {
          "output_type": "stream",
          "name": "stderr",
          "text": [
            "\r30it [00:00, 248.09it/s]"
          ]
        },
        {
          "output_type": "stream",
          "name": "stdout",
          "text": [
            "features.20\n",
            "features.23\n",
            "features.27\n",
            "features.30\n",
            "features.33\n",
            "tensor(0.0435, grad_fn=<DivBackward0>)\n",
            "features.36\n",
            "features.40\n",
            "features.43\n"
          ]
        },
        {
          "output_type": "stream",
          "name": "stderr",
          "text": [
            "64it [00:00, 80.96it/s]\n"
          ]
        },
        {
          "output_type": "stream",
          "name": "stdout",
          "text": [
            "features.46\n",
            "features.49\n",
            "!!\n"
          ]
        },
        {
          "output_type": "stream",
          "name": "stderr",
          "text": [
            "\r0it [00:00, ?it/s]"
          ]
        },
        {
          "output_type": "stream",
          "name": "stdout",
          "text": [
            "features.0\n",
            "features.3\n",
            "features.7\n",
            "features.10\n",
            "features.14\n",
            "features.17\n"
          ]
        },
        {
          "output_type": "stream",
          "name": "stderr",
          "text": [
            "\r30it [00:00, 256.05it/s]"
          ]
        },
        {
          "output_type": "stream",
          "name": "stdout",
          "text": [
            "features.20\n",
            "features.23\n",
            "features.27\n",
            "features.30\n",
            "features.33\n",
            "tensor(0.0442, grad_fn=<DivBackward0>)\n",
            "features.36\n",
            "features.40\n",
            "features.43\n"
          ]
        },
        {
          "output_type": "stream",
          "name": "stderr",
          "text": [
            "64it [00:00, 82.06it/s]\n"
          ]
        },
        {
          "output_type": "stream",
          "name": "stdout",
          "text": [
            "features.46\n",
            "features.49\n",
            "!!\n"
          ]
        },
        {
          "output_type": "stream",
          "name": "stderr",
          "text": [
            "\r0it [00:00, ?it/s]"
          ]
        },
        {
          "output_type": "stream",
          "name": "stdout",
          "text": [
            "features.0\n",
            "features.3\n",
            "features.7\n",
            "features.10\n",
            "features.14\n",
            "features.17\n"
          ]
        },
        {
          "output_type": "stream",
          "name": "stderr",
          "text": [
            "\r30it [00:00, 256.23it/s]"
          ]
        },
        {
          "output_type": "stream",
          "name": "stdout",
          "text": [
            "features.20\n",
            "features.23\n",
            "features.27\n",
            "features.30\n",
            "features.33\n",
            "tensor(0.0449, grad_fn=<DivBackward0>)\n",
            "features.36\n",
            "features.40\n",
            "features.43\n"
          ]
        },
        {
          "output_type": "stream",
          "name": "stderr",
          "text": [
            "64it [00:00, 79.88it/s]\n"
          ]
        },
        {
          "output_type": "stream",
          "name": "stdout",
          "text": [
            "features.46\n",
            "features.49\n",
            "!!\n"
          ]
        },
        {
          "output_type": "stream",
          "name": "stderr",
          "text": [
            "\r0it [00:00, ?it/s]"
          ]
        },
        {
          "output_type": "stream",
          "name": "stdout",
          "text": [
            "features.0\n",
            "features.3\n",
            "features.7\n",
            "features.10\n",
            "features.14\n",
            "features.17\n"
          ]
        },
        {
          "output_type": "stream",
          "name": "stderr",
          "text": [
            "\r30it [00:00, 226.07it/s]"
          ]
        },
        {
          "output_type": "stream",
          "name": "stdout",
          "text": [
            "features.20\n",
            "features.23\n",
            "features.27\n",
            "features.30\n",
            "features.33\n",
            "tensor(0.0430, grad_fn=<DivBackward0>)\n",
            "features.36\n",
            "features.40\n",
            "features.43\n"
          ]
        },
        {
          "output_type": "stream",
          "name": "stderr",
          "text": [
            "64it [00:00, 79.75it/s]\n"
          ]
        },
        {
          "output_type": "stream",
          "name": "stdout",
          "text": [
            "features.46\n",
            "features.49\n",
            "!!\n"
          ]
        },
        {
          "output_type": "stream",
          "name": "stderr",
          "text": [
            "\r0it [00:00, ?it/s]"
          ]
        },
        {
          "output_type": "stream",
          "name": "stdout",
          "text": [
            "features.0\n",
            "features.3\n",
            "features.7\n",
            "features.10\n",
            "features.14\n"
          ]
        },
        {
          "output_type": "stream",
          "name": "stderr",
          "text": [
            "\r26it [00:00, 242.65it/s]"
          ]
        },
        {
          "output_type": "stream",
          "name": "stdout",
          "text": [
            "features.17\n",
            "features.20\n",
            "features.23\n",
            "features.27\n",
            "features.30\n",
            "features.33\n",
            "tensor(0.0437, grad_fn=<DivBackward0>)\n",
            "features.36\n",
            "features.40\n",
            "features.43\n"
          ]
        },
        {
          "output_type": "stream",
          "name": "stderr",
          "text": [
            "64it [00:00, 79.78it/s]\n"
          ]
        },
        {
          "output_type": "stream",
          "name": "stdout",
          "text": [
            "features.46\n",
            "features.49\n",
            "!!\n"
          ]
        },
        {
          "output_type": "stream",
          "name": "stderr",
          "text": [
            "\r0it [00:00, ?it/s]"
          ]
        },
        {
          "output_type": "stream",
          "name": "stdout",
          "text": [
            "features.0\n",
            "features.3\n",
            "features.7\n",
            "features.10\n",
            "features.14\n",
            "features.17\n"
          ]
        },
        {
          "output_type": "stream",
          "name": "stderr",
          "text": [
            "\r30it [00:00, 258.83it/s]"
          ]
        },
        {
          "output_type": "stream",
          "name": "stdout",
          "text": [
            "features.20\n",
            "features.23\n",
            "features.27\n",
            "features.30\n",
            "features.33\n",
            "tensor(0.0434, grad_fn=<DivBackward0>)\n",
            "features.36\n",
            "features.40\n",
            "features.43\n"
          ]
        },
        {
          "output_type": "stream",
          "name": "stderr",
          "text": [
            "64it [00:00, 82.45it/s]\n"
          ]
        },
        {
          "output_type": "stream",
          "name": "stdout",
          "text": [
            "features.46\n",
            "features.49\n",
            "!!\n"
          ]
        },
        {
          "output_type": "stream",
          "name": "stderr",
          "text": [
            "\r0it [00:00, ?it/s]"
          ]
        },
        {
          "output_type": "stream",
          "name": "stdout",
          "text": [
            "features.0\n",
            "features.3\n",
            "features.7\n",
            "features.10\n",
            "features.14\n",
            "features.17\n"
          ]
        },
        {
          "output_type": "stream",
          "name": "stderr",
          "text": [
            "\r30it [00:00, 243.56it/s]"
          ]
        },
        {
          "output_type": "stream",
          "name": "stdout",
          "text": [
            "features.20\n",
            "features.23\n",
            "features.27\n",
            "features.30\n",
            "features.33\n",
            "tensor(0.0427, grad_fn=<DivBackward0>)\n",
            "features.36\n",
            "features.40\n",
            "features.43\n"
          ]
        },
        {
          "output_type": "stream",
          "name": "stderr",
          "text": [
            "64it [00:00, 82.62it/s]\n"
          ]
        },
        {
          "output_type": "stream",
          "name": "stdout",
          "text": [
            "features.46\n",
            "features.49\n",
            "!!\n"
          ]
        },
        {
          "output_type": "stream",
          "name": "stderr",
          "text": [
            "\r0it [00:00, ?it/s]"
          ]
        },
        {
          "output_type": "stream",
          "name": "stdout",
          "text": [
            "features.0\n",
            "features.3\n",
            "features.7\n",
            "features.10\n",
            "features.14\n",
            "features.17\n"
          ]
        },
        {
          "output_type": "stream",
          "name": "stderr",
          "text": [
            "\r30it [00:00, 243.47it/s]"
          ]
        },
        {
          "output_type": "stream",
          "name": "stdout",
          "text": [
            "features.20\n",
            "features.23\n",
            "features.27\n",
            "features.30\n",
            "features.33\n",
            "tensor(0.0443, grad_fn=<DivBackward0>)\n",
            "features.36\n",
            "features.40\n",
            "features.43\n"
          ]
        },
        {
          "output_type": "stream",
          "name": "stderr",
          "text": [
            "64it [00:00, 80.17it/s]\n"
          ]
        },
        {
          "output_type": "stream",
          "name": "stdout",
          "text": [
            "features.46\n",
            "features.49\n",
            "!!\n"
          ]
        },
        {
          "output_type": "stream",
          "name": "stderr",
          "text": [
            "\r0it [00:00, ?it/s]"
          ]
        },
        {
          "output_type": "stream",
          "name": "stdout",
          "text": [
            "features.0\n",
            "features.3\n",
            "features.7\n",
            "features.10\n",
            "features.14"
          ]
        },
        {
          "output_type": "stream",
          "name": "stderr",
          "text": [
            "\r26it [00:00, 255.11it/s]"
          ]
        },
        {
          "output_type": "stream",
          "name": "stdout",
          "text": [
            "\n",
            "features.17\n",
            "features.20\n",
            "features.23\n",
            "features.27\n",
            "features.30\n",
            "features.33\n",
            "tensor(0.0440, grad_fn=<DivBackward0>)\n",
            "features.36\n",
            "features.40\n",
            "features.43\n"
          ]
        },
        {
          "output_type": "stream",
          "name": "stderr",
          "text": [
            "64it [00:00, 81.45it/s]\n"
          ]
        },
        {
          "output_type": "stream",
          "name": "stdout",
          "text": [
            "features.46\n",
            "features.49\n",
            "!!\n"
          ]
        },
        {
          "output_type": "stream",
          "name": "stderr",
          "text": [
            "\r0it [00:00, ?it/s]"
          ]
        },
        {
          "output_type": "stream",
          "name": "stdout",
          "text": [
            "features.0\n",
            "features.3\n",
            "features.7\n",
            "features.10\n",
            "features.14\n",
            "features.17\n",
            "features.20\n"
          ]
        },
        {
          "output_type": "stream",
          "name": "stderr",
          "text": [
            "\r30it [00:00, 249.35it/s]"
          ]
        },
        {
          "output_type": "stream",
          "name": "stdout",
          "text": [
            "features.23\n",
            "features.27\n",
            "features.30\n",
            "features.33\n",
            "tensor(0.0446, grad_fn=<DivBackward0>)\n",
            "features.36\n",
            "features.40\n",
            "features.43\n"
          ]
        },
        {
          "output_type": "stream",
          "name": "stderr",
          "text": [
            "64it [00:00, 78.87it/s]\n"
          ]
        },
        {
          "output_type": "stream",
          "name": "stdout",
          "text": [
            "features.46\n",
            "features.49\n",
            "!!\n"
          ]
        },
        {
          "output_type": "stream",
          "name": "stderr",
          "text": [
            "\r0it [00:00, ?it/s]"
          ]
        },
        {
          "output_type": "stream",
          "name": "stdout",
          "text": [
            "features.0\n",
            "features.3\n",
            "features.7\n",
            "features.10\n",
            "features.14\n",
            "features.17\n",
            "features.20\n"
          ]
        },
        {
          "output_type": "stream",
          "name": "stderr",
          "text": [
            "\r30it [00:00, 242.42it/s]"
          ]
        },
        {
          "output_type": "stream",
          "name": "stdout",
          "text": [
            "features.23\n",
            "features.27\n",
            "features.30\n",
            "features.33\n",
            "tensor(0.0435, grad_fn=<DivBackward0>)\n",
            "features.36\n",
            "features.40\n",
            "features.43\n"
          ]
        },
        {
          "output_type": "stream",
          "name": "stderr",
          "text": [
            "64it [00:00, 78.81it/s]\n"
          ]
        },
        {
          "output_type": "stream",
          "name": "stdout",
          "text": [
            "features.46\n",
            "features.49\n",
            "!!\n"
          ]
        },
        {
          "output_type": "stream",
          "name": "stderr",
          "text": [
            "\r0it [00:00, ?it/s]"
          ]
        },
        {
          "output_type": "stream",
          "name": "stdout",
          "text": [
            "features.0\n",
            "features.3\n",
            "features.7\n",
            "features.10\n",
            "features.14\n",
            "features.17\n"
          ]
        },
        {
          "output_type": "stream",
          "name": "stderr",
          "text": [
            "\r26it [00:00, 219.25it/s]"
          ]
        },
        {
          "output_type": "stream",
          "name": "stdout",
          "text": [
            "features.20\n",
            "features.23\n",
            "features.27\n",
            "features.30\n",
            "features.33\n",
            "tensor(0.0437, grad_fn=<DivBackward0>)\n",
            "features.36\n",
            "features.40\n"
          ]
        },
        {
          "output_type": "stream",
          "name": "stderr",
          "text": [
            "\r48it [00:00, 56.10it/s] "
          ]
        },
        {
          "output_type": "stream",
          "name": "stdout",
          "text": [
            "features.43\n",
            "features.46\n"
          ]
        },
        {
          "output_type": "stream",
          "name": "stderr",
          "text": [
            "64it [00:01, 63.72it/s]\n"
          ]
        },
        {
          "output_type": "stream",
          "name": "stdout",
          "text": [
            "features.49\n",
            "!!\n"
          ]
        },
        {
          "output_type": "stream",
          "name": "stderr",
          "text": [
            "\r0it [00:00, ?it/s]"
          ]
        },
        {
          "output_type": "stream",
          "name": "stdout",
          "text": [
            "features.0\n",
            "features.3\n",
            "features.7\n",
            "features.10\n",
            "features.14\n",
            "features.17\n",
            "features.20\n"
          ]
        },
        {
          "output_type": "stream",
          "name": "stderr",
          "text": [
            "\r26it [00:00, 212.08it/s]"
          ]
        },
        {
          "output_type": "stream",
          "name": "stdout",
          "text": [
            "features.23\n",
            "features.27\n",
            "features.30\n",
            "features.33\n",
            "tensor(0.0435, grad_fn=<DivBackward0>)\n",
            "features.36\n",
            "features.40\n"
          ]
        },
        {
          "output_type": "stream",
          "name": "stderr",
          "text": [
            "\r48it [00:00, 41.83it/s] "
          ]
        },
        {
          "output_type": "stream",
          "name": "stdout",
          "text": [
            "features.43\n",
            "features.46\n"
          ]
        },
        {
          "output_type": "stream",
          "name": "stderr",
          "text": [
            "64it [00:01, 51.31it/s]\n"
          ]
        },
        {
          "output_type": "stream",
          "name": "stdout",
          "text": [
            "features.49\n",
            "!!\n"
          ]
        },
        {
          "output_type": "stream",
          "name": "stderr",
          "text": [
            "\r0it [00:00, ?it/s]"
          ]
        },
        {
          "output_type": "stream",
          "name": "stdout",
          "text": [
            "features.0\n",
            "features.3\n",
            "features.7\n",
            "features.10\n",
            "features.14\n",
            "features.17\n"
          ]
        },
        {
          "output_type": "stream",
          "name": "stderr",
          "text": [
            "\r26it [00:00, 218.05it/s]"
          ]
        },
        {
          "output_type": "stream",
          "name": "stdout",
          "text": [
            "features.20\n",
            "features.23\n",
            "features.27\n",
            "features.30\n",
            "features.33\n",
            "tensor(0.0443, grad_fn=<DivBackward0>)\n",
            "features.36\n",
            "features.40\n"
          ]
        },
        {
          "output_type": "stream",
          "name": "stderr",
          "text": [
            "\r48it [00:01, 40.84it/s] "
          ]
        },
        {
          "output_type": "stream",
          "name": "stdout",
          "text": [
            "features.43\n",
            "features.46\n"
          ]
        },
        {
          "output_type": "stream",
          "name": "stderr",
          "text": [
            "64it [00:01, 50.42it/s]\n"
          ]
        },
        {
          "output_type": "stream",
          "name": "stdout",
          "text": [
            "features.49\n",
            "!!\n"
          ]
        },
        {
          "output_type": "stream",
          "name": "stderr",
          "text": [
            "\r0it [00:00, ?it/s]"
          ]
        },
        {
          "output_type": "stream",
          "name": "stdout",
          "text": [
            "features.0\n",
            "features.3\n",
            "features.7\n",
            "features.10\n",
            "features.14\n",
            "features.17\n"
          ]
        },
        {
          "output_type": "stream",
          "name": "stderr",
          "text": [
            "\r23it [00:00, 221.32it/s]"
          ]
        },
        {
          "output_type": "stream",
          "name": "stdout",
          "text": [
            "features.20\n",
            "features.23\n",
            "features.27\n",
            "features.30\n",
            "features.33\n",
            "tensor(0.0437, grad_fn=<DivBackward0>)\n",
            "features.36\n",
            "features.40\n"
          ]
        },
        {
          "output_type": "stream",
          "name": "stderr",
          "text": [
            "\r46it [00:01, 37.18it/s] "
          ]
        },
        {
          "output_type": "stream",
          "name": "stdout",
          "text": [
            "features.43\n",
            "features.46\n"
          ]
        },
        {
          "output_type": "stream",
          "name": "stderr",
          "text": [
            "64it [00:01, 47.12it/s]\n"
          ]
        },
        {
          "output_type": "stream",
          "name": "stdout",
          "text": [
            "features.49\n",
            "!!\n"
          ]
        },
        {
          "output_type": "stream",
          "name": "stderr",
          "text": [
            "\r0it [00:00, ?it/s]"
          ]
        },
        {
          "output_type": "stream",
          "name": "stdout",
          "text": [
            "features.0\n",
            "features.3\n",
            "features.7\n",
            "features.10\n",
            "features.14\n",
            "features.17\n"
          ]
        },
        {
          "output_type": "stream",
          "name": "stderr",
          "text": [
            "\r23it [00:00, 196.84it/s]"
          ]
        },
        {
          "output_type": "stream",
          "name": "stdout",
          "text": [
            "features.20\n",
            "features.23\n",
            "features.27\n",
            "features.30\n",
            "features.33\n",
            "tensor(0.0440, grad_fn=<DivBackward0>)\n",
            "features.36\n",
            "features.40\n"
          ]
        },
        {
          "output_type": "stream",
          "name": "stderr",
          "text": [
            "\r43it [00:00, 37.57it/s] "
          ]
        },
        {
          "output_type": "stream",
          "name": "stdout",
          "text": [
            "features.43\n",
            "features.46\n"
          ]
        },
        {
          "output_type": "stream",
          "name": "stderr",
          "text": [
            "64it [00:01, 49.64it/s]\n"
          ]
        },
        {
          "output_type": "stream",
          "name": "stdout",
          "text": [
            "features.49\n",
            "!!\n"
          ]
        },
        {
          "output_type": "stream",
          "name": "stderr",
          "text": [
            "30it [00:00, 250.55it/s]"
          ]
        },
        {
          "output_type": "stream",
          "name": "stdout",
          "text": [
            "features.0\n",
            "features.3\n",
            "features.7\n",
            "features.10\n",
            "features.14\n",
            "features.17\n",
            "features.20\n",
            "features.23\n",
            "features.27\n",
            "features.30\n",
            "features.33\n",
            "tensor(0.0432, grad_fn=<DivBackward0>)\n",
            "features.36\n",
            "features.40\n",
            "features.43\n"
          ]
        },
        {
          "output_type": "stream",
          "name": "stderr",
          "text": [
            "64it [00:00, 80.43it/s]\n"
          ]
        },
        {
          "output_type": "stream",
          "name": "stdout",
          "text": [
            "features.46\n",
            "features.49\n",
            "!!\n"
          ]
        },
        {
          "output_type": "stream",
          "name": "stderr",
          "text": [
            "\r0it [00:00, ?it/s]"
          ]
        },
        {
          "output_type": "stream",
          "name": "stdout",
          "text": [
            "features.0\n",
            "features.3\n",
            "features.7\n",
            "features.10\n",
            "features.14\n"
          ]
        },
        {
          "output_type": "stream",
          "name": "stderr",
          "text": [
            "\r30it [00:00, 234.29it/s]"
          ]
        },
        {
          "output_type": "stream",
          "name": "stdout",
          "text": [
            "features.17\n",
            "features.20\n",
            "features.23\n",
            "features.27\n",
            "features.30\n",
            "features.33\n",
            "tensor(0.0442, grad_fn=<DivBackward0>)\n",
            "features.36\n",
            "features.40\n",
            "features.43\n"
          ]
        },
        {
          "output_type": "stream",
          "name": "stderr",
          "text": [
            "64it [00:00, 80.54it/s]\n"
          ]
        },
        {
          "output_type": "stream",
          "name": "stdout",
          "text": [
            "features.46\n",
            "features.49\n",
            "!!\n"
          ]
        },
        {
          "output_type": "stream",
          "name": "stderr",
          "text": [
            "\r0it [00:00, ?it/s]"
          ]
        },
        {
          "output_type": "stream",
          "name": "stdout",
          "text": [
            "features.0\n",
            "features.3\n",
            "features.7\n",
            "features.10\n",
            "features.14\n",
            "features.17\n"
          ]
        },
        {
          "output_type": "stream",
          "name": "stderr",
          "text": [
            "\r30it [00:00, 219.19it/s]"
          ]
        },
        {
          "output_type": "stream",
          "name": "stdout",
          "text": [
            "features.20\n",
            "features.23\n",
            "features.27\n",
            "features.30\n",
            "features.33\n",
            "tensor(0.0433, grad_fn=<DivBackward0>)\n",
            "features.36\n",
            "features.40\n",
            "features.43\n"
          ]
        },
        {
          "output_type": "stream",
          "name": "stderr",
          "text": [
            "64it [00:00, 77.57it/s]\n"
          ]
        },
        {
          "output_type": "stream",
          "name": "stdout",
          "text": [
            "features.46\n",
            "features.49\n",
            "!!\n"
          ]
        },
        {
          "output_type": "stream",
          "name": "stderr",
          "text": [
            "\r0it [00:00, ?it/s]"
          ]
        },
        {
          "output_type": "stream",
          "name": "stdout",
          "text": [
            "features.0\n",
            "features.3\n",
            "features.7\n",
            "features.10\n",
            "features.14\n"
          ]
        },
        {
          "output_type": "stream",
          "name": "stderr",
          "text": [
            "\r30it [00:00, 255.81it/s]"
          ]
        },
        {
          "output_type": "stream",
          "name": "stdout",
          "text": [
            "features.17\n",
            "features.20\n",
            "features.23\n",
            "features.27\n",
            "features.30\n",
            "features.33\n",
            "tensor(0.0447, grad_fn=<DivBackward0>)\n",
            "features.36\n",
            "features.40\n",
            "features.43\n"
          ]
        },
        {
          "output_type": "stream",
          "name": "stderr",
          "text": [
            "64it [00:00, 81.80it/s]\n"
          ]
        },
        {
          "output_type": "stream",
          "name": "stdout",
          "text": [
            "features.46\n",
            "features.49\n",
            "!!\n"
          ]
        },
        {
          "output_type": "stream",
          "name": "stderr",
          "text": [
            "\r0it [00:00, ?it/s]"
          ]
        },
        {
          "output_type": "stream",
          "name": "stdout",
          "text": [
            "features.0\n",
            "features.3\n",
            "features.7\n",
            "features.10\n",
            "features.14\n",
            "features.17\n",
            "features.20\n"
          ]
        },
        {
          "output_type": "stream",
          "name": "stderr",
          "text": [
            "\r26it [00:00, 258.08it/s]"
          ]
        },
        {
          "output_type": "stream",
          "name": "stdout",
          "text": [
            "features.23\n",
            "features.27\n",
            "features.30\n",
            "features.33\n",
            "tensor(0.0439, grad_fn=<DivBackward0>)\n",
            "features.36\n",
            "features.40\n",
            "features.43\n"
          ]
        },
        {
          "output_type": "stream",
          "name": "stderr",
          "text": [
            "64it [00:00, 77.44it/s]\n"
          ]
        },
        {
          "output_type": "stream",
          "name": "stdout",
          "text": [
            "features.46\n",
            "features.49\n",
            "!!\n"
          ]
        },
        {
          "output_type": "stream",
          "name": "stderr",
          "text": [
            "\r0it [00:00, ?it/s]"
          ]
        },
        {
          "output_type": "stream",
          "name": "stdout",
          "text": [
            "features.0\n",
            "features.3\n",
            "features.7\n",
            "features.10\n",
            "features.14\n"
          ]
        },
        {
          "output_type": "stream",
          "name": "stderr",
          "text": [
            "\r30it [00:00, 246.49it/s]"
          ]
        },
        {
          "output_type": "stream",
          "name": "stdout",
          "text": [
            "features.17\n",
            "features.20\n",
            "features.23\n",
            "features.27\n",
            "features.30\n",
            "features.33\n",
            "tensor(0.0439, grad_fn=<DivBackward0>)\n",
            "features.36\n",
            "features.40\n",
            "features.43\n"
          ]
        },
        {
          "output_type": "stream",
          "name": "stderr",
          "text": [
            "64it [00:00, 80.32it/s]\n"
          ]
        },
        {
          "output_type": "stream",
          "name": "stdout",
          "text": [
            "features.46\n",
            "features.49\n",
            "!!\n"
          ]
        },
        {
          "output_type": "stream",
          "name": "stderr",
          "text": [
            "\r0it [00:00, ?it/s]"
          ]
        },
        {
          "output_type": "stream",
          "name": "stdout",
          "text": [
            "features.0\n",
            "features.3\n",
            "features.7\n",
            "features.10\n",
            "features.14\n"
          ]
        },
        {
          "output_type": "stream",
          "name": "stderr",
          "text": [
            "\r30it [00:00, 249.29it/s]"
          ]
        },
        {
          "output_type": "stream",
          "name": "stdout",
          "text": [
            "features.17\n",
            "features.20\n",
            "features.23\n",
            "features.27\n",
            "features.30\n",
            "features.33\n",
            "tensor(0.0434, grad_fn=<DivBackward0>)\n",
            "features.36\n",
            "features.40\n",
            "features.43\n"
          ]
        },
        {
          "output_type": "stream",
          "name": "stderr",
          "text": [
            "64it [00:00, 82.63it/s]\n"
          ]
        },
        {
          "output_type": "stream",
          "name": "stdout",
          "text": [
            "features.46\n",
            "features.49\n",
            "!!\n"
          ]
        },
        {
          "output_type": "stream",
          "name": "stderr",
          "text": [
            "\r0it [00:00, ?it/s]"
          ]
        },
        {
          "output_type": "stream",
          "name": "stdout",
          "text": [
            "features.0\n",
            "features.3\n",
            "features.7\n",
            "features.10\n",
            "features.14\n",
            "features.17\n"
          ]
        },
        {
          "output_type": "stream",
          "name": "stderr",
          "text": [
            "\r30it [00:00, 247.85it/s]"
          ]
        },
        {
          "output_type": "stream",
          "name": "stdout",
          "text": [
            "features.20\n",
            "features.23\n",
            "features.27\n",
            "features.30\n",
            "features.33\n",
            "tensor(0.0434, grad_fn=<DivBackward0>)\n",
            "features.36\n",
            "features.40\n",
            "features.43\n"
          ]
        },
        {
          "output_type": "stream",
          "name": "stderr",
          "text": [
            "64it [00:00, 82.07it/s]\n"
          ]
        },
        {
          "output_type": "stream",
          "name": "stdout",
          "text": [
            "features.46\n",
            "features.49\n",
            "!!\n"
          ]
        },
        {
          "output_type": "stream",
          "name": "stderr",
          "text": [
            "\r0it [00:00, ?it/s]"
          ]
        },
        {
          "output_type": "stream",
          "name": "stdout",
          "text": [
            "features.0\n",
            "features.3\n",
            "features.7\n",
            "features.10\n",
            "features.14\n",
            "features.17\n",
            "features.20\n"
          ]
        },
        {
          "output_type": "stream",
          "name": "stderr",
          "text": [
            "\r30it [00:00, 251.60it/s]"
          ]
        },
        {
          "output_type": "stream",
          "name": "stdout",
          "text": [
            "features.23\n",
            "features.27\n",
            "features.30\n",
            "features.33\n",
            "tensor(0.0433, grad_fn=<DivBackward0>)\n",
            "features.36\n",
            "features.40\n",
            "features.43\n"
          ]
        },
        {
          "output_type": "stream",
          "name": "stderr",
          "text": [
            "64it [00:00, 82.13it/s]\n"
          ]
        },
        {
          "output_type": "stream",
          "name": "stdout",
          "text": [
            "features.46\n",
            "features.49\n",
            "!!\n"
          ]
        },
        {
          "output_type": "stream",
          "name": "stderr",
          "text": [
            "\r0it [00:00, ?it/s]"
          ]
        },
        {
          "output_type": "stream",
          "name": "stdout",
          "text": [
            "features.0\n",
            "features.3\n",
            "features.7\n",
            "features.10\n",
            "features.14\n",
            "features.17\n"
          ]
        },
        {
          "output_type": "stream",
          "name": "stderr",
          "text": [
            "\r26it [00:00, 232.94it/s]"
          ]
        },
        {
          "output_type": "stream",
          "name": "stdout",
          "text": [
            "features.20\n",
            "features.23\n",
            "features.27\n",
            "features.30\n",
            "features.33\n",
            "tensor(0.0443, grad_fn=<DivBackward0>)\n",
            "features.36\n",
            "features.40\n",
            "features.43\n",
            "features.46\n"
          ]
        },
        {
          "output_type": "stream",
          "name": "stderr",
          "text": [
            "64it [00:00, 80.06it/s]\n"
          ]
        },
        {
          "output_type": "stream",
          "name": "stdout",
          "text": [
            "features.49\n",
            "!!\n"
          ]
        },
        {
          "output_type": "stream",
          "name": "stderr",
          "text": [
            "\r0it [00:00, ?it/s]"
          ]
        },
        {
          "output_type": "stream",
          "name": "stdout",
          "text": [
            "features.0\n",
            "features.3\n",
            "features.7\n",
            "features.10\n",
            "features.14\n",
            "features.17\n",
            "features.20\n",
            "features.23\n",
            "features.27\n"
          ]
        },
        {
          "output_type": "stream",
          "name": "stderr",
          "text": [
            "\r30it [00:00, 234.20it/s]"
          ]
        },
        {
          "output_type": "stream",
          "name": "stdout",
          "text": [
            "features.30\n",
            "features.33\n",
            "tensor(0.0427, grad_fn=<DivBackward0>)\n",
            "features.36\n",
            "features.40\n",
            "features.43\n"
          ]
        },
        {
          "output_type": "stream",
          "name": "stderr",
          "text": [
            "64it [00:00, 79.87it/s]\n"
          ]
        },
        {
          "output_type": "stream",
          "name": "stdout",
          "text": [
            "features.46\n",
            "features.49\n",
            "!!\n"
          ]
        },
        {
          "output_type": "stream",
          "name": "stderr",
          "text": [
            "\r0it [00:00, ?it/s]"
          ]
        },
        {
          "output_type": "stream",
          "name": "stdout",
          "text": [
            "features.0\n",
            "features.3\n",
            "features.7\n",
            "features.10\n",
            "features.14\n"
          ]
        },
        {
          "output_type": "stream",
          "name": "stderr",
          "text": [
            "\r26it [00:00, 241.05it/s]"
          ]
        },
        {
          "output_type": "stream",
          "name": "stdout",
          "text": [
            "features.17\n",
            "features.20\n",
            "features.23\n",
            "features.27\n",
            "features.30\n",
            "features.33\n",
            "tensor(0.0443, grad_fn=<DivBackward0>)\n",
            "features.36\n",
            "features.40\n",
            "features.43\n"
          ]
        },
        {
          "output_type": "stream",
          "name": "stderr",
          "text": [
            "64it [00:00, 79.83it/s]\n"
          ]
        },
        {
          "output_type": "stream",
          "name": "stdout",
          "text": [
            "features.46\n",
            "features.49\n",
            "!!\n"
          ]
        },
        {
          "output_type": "stream",
          "name": "stderr",
          "text": [
            "\r0it [00:00, ?it/s]"
          ]
        },
        {
          "output_type": "stream",
          "name": "stdout",
          "text": [
            "features.0\n",
            "features.3\n",
            "features.7\n",
            "features.10\n",
            "features.14\n",
            "features.17\n"
          ]
        },
        {
          "output_type": "stream",
          "name": "stderr",
          "text": [
            "\r30it [00:00, 247.36it/s]"
          ]
        },
        {
          "output_type": "stream",
          "name": "stdout",
          "text": [
            "features.20\n",
            "features.23\n",
            "features.27\n",
            "features.30\n",
            "features.33\n",
            "tensor(0.0436, grad_fn=<DivBackward0>)\n",
            "features.36\n",
            "features.40\n",
            "features.43\n",
            "features.46\n"
          ]
        },
        {
          "output_type": "stream",
          "name": "stderr",
          "text": [
            "64it [00:01, 54.30it/s]\n"
          ]
        },
        {
          "output_type": "stream",
          "name": "stdout",
          "text": [
            "features.49\n",
            "!!\n"
          ]
        },
        {
          "output_type": "stream",
          "name": "stderr",
          "text": [
            "\r0it [00:00, ?it/s]"
          ]
        },
        {
          "output_type": "stream",
          "name": "stdout",
          "text": [
            "features.0\n",
            "features.3\n",
            "features.7\n",
            "features.10\n",
            "features.14\n",
            "features.17\n"
          ]
        },
        {
          "output_type": "stream",
          "name": "stderr",
          "text": [
            "\r26it [00:00, 204.02it/s]"
          ]
        },
        {
          "output_type": "stream",
          "name": "stdout",
          "text": [
            "features.20\n",
            "features.23\n",
            "features.27\n",
            "features.30\n",
            "features.33\n",
            "tensor(0.0447, grad_fn=<DivBackward0>)\n",
            "features.36\n",
            "features.40\n"
          ]
        },
        {
          "output_type": "stream",
          "name": "stderr",
          "text": [
            "\r47it [00:01, 40.16it/s] "
          ]
        },
        {
          "output_type": "stream",
          "name": "stdout",
          "text": [
            "features.43\n",
            "features.46\n"
          ]
        },
        {
          "output_type": "stream",
          "name": "stderr",
          "text": [
            "64it [00:01, 50.11it/s]\n"
          ]
        },
        {
          "output_type": "stream",
          "name": "stdout",
          "text": [
            "features.49\n",
            "!!\n"
          ]
        },
        {
          "output_type": "stream",
          "name": "stderr",
          "text": [
            "\r0it [00:00, ?it/s]"
          ]
        },
        {
          "output_type": "stream",
          "name": "stdout",
          "text": [
            "features.0\n",
            "features.3\n",
            "features.7\n",
            "features.10\n",
            "features.14\n",
            "features.17\n"
          ]
        },
        {
          "output_type": "stream",
          "name": "stderr",
          "text": [
            "\r26it [00:00, 202.28it/s]"
          ]
        },
        {
          "output_type": "stream",
          "name": "stdout",
          "text": [
            "features.20\n",
            "features.23\n",
            "features.27\n",
            "features.30\n",
            "features.33\n",
            "tensor(0.0439, grad_fn=<DivBackward0>)\n",
            "features.36\n",
            "features.40\n"
          ]
        },
        {
          "output_type": "stream",
          "name": "stderr",
          "text": [
            "\r47it [00:01, 39.12it/s] "
          ]
        },
        {
          "output_type": "stream",
          "name": "stdout",
          "text": [
            "features.43\n",
            "features.46\n"
          ]
        },
        {
          "output_type": "stream",
          "name": "stderr",
          "text": [
            "64it [00:01, 49.22it/s]\n"
          ]
        },
        {
          "output_type": "stream",
          "name": "stdout",
          "text": [
            "features.49\n",
            "!!\n"
          ]
        },
        {
          "output_type": "stream",
          "name": "stderr",
          "text": [
            "\r0it [00:00, ?it/s]"
          ]
        },
        {
          "output_type": "stream",
          "name": "stdout",
          "text": [
            "features.0\n",
            "features.3\n",
            "features.7\n",
            "features.10\n",
            "features.14\n",
            "features.17\n"
          ]
        },
        {
          "output_type": "stream",
          "name": "stderr",
          "text": [
            "\r23it [00:00, 222.92it/s]"
          ]
        },
        {
          "output_type": "stream",
          "name": "stdout",
          "text": [
            "features.20\n",
            "features.23\n",
            "features.27\n",
            "features.30\n",
            "features.33\n",
            "tensor(0.0438, grad_fn=<DivBackward0>)\n",
            "features.36\n",
            "features.40\n"
          ]
        },
        {
          "output_type": "stream",
          "name": "stderr",
          "text": [
            "\r46it [00:01, 36.41it/s] "
          ]
        },
        {
          "output_type": "stream",
          "name": "stdout",
          "text": [
            "features.43\n",
            "features.46\n"
          ]
        },
        {
          "output_type": "stream",
          "name": "stderr",
          "text": [
            "64it [00:01, 46.41it/s]\n"
          ]
        },
        {
          "output_type": "stream",
          "name": "stdout",
          "text": [
            "features.49\n",
            "!!\n"
          ]
        },
        {
          "output_type": "stream",
          "name": "stderr",
          "text": [
            "\r0it [00:00, ?it/s]"
          ]
        },
        {
          "output_type": "stream",
          "name": "stdout",
          "text": [
            "features.0\n",
            "features.3\n",
            "features.7\n",
            "features.10\n",
            "features.14\n",
            "features.17\n"
          ]
        },
        {
          "output_type": "stream",
          "name": "stderr",
          "text": [
            "\r23it [00:00, 229.06it/s]"
          ]
        },
        {
          "output_type": "stream",
          "name": "stdout",
          "text": [
            "features.20\n",
            "features.23\n",
            "features.27\n",
            "features.30\n",
            "features.33\n",
            "tensor(0.0432, grad_fn=<DivBackward0>)\n",
            "features.36\n",
            "features.40\n",
            "features.43\n"
          ]
        },
        {
          "output_type": "stream",
          "name": "stderr",
          "text": [
            "64it [00:01, 63.69it/s]\n"
          ]
        },
        {
          "output_type": "stream",
          "name": "stdout",
          "text": [
            "features.46\n",
            "features.49\n",
            "!!\n"
          ]
        },
        {
          "output_type": "stream",
          "name": "stderr",
          "text": [
            "\r0it [00:00, ?it/s]"
          ]
        },
        {
          "output_type": "stream",
          "name": "stdout",
          "text": [
            "features.0\n",
            "features.3\n",
            "features.7\n",
            "features.10\n",
            "features.14\n",
            "features.17\n"
          ]
        },
        {
          "output_type": "stream",
          "name": "stderr",
          "text": [
            "\r30it [00:00, 245.88it/s]"
          ]
        },
        {
          "output_type": "stream",
          "name": "stdout",
          "text": [
            "features.20\n",
            "features.23\n",
            "features.27\n",
            "features.30\n",
            "features.33\n",
            "tensor(0.0435, grad_fn=<DivBackward0>)\n",
            "features.36\n",
            "features.40\n",
            "features.43\n"
          ]
        },
        {
          "output_type": "stream",
          "name": "stderr",
          "text": [
            "64it [00:00, 81.88it/s]\n"
          ]
        },
        {
          "output_type": "stream",
          "name": "stdout",
          "text": [
            "features.46\n",
            "features.49\n",
            "!!\n"
          ]
        },
        {
          "output_type": "stream",
          "name": "stderr",
          "text": [
            "\r0it [00:00, ?it/s]"
          ]
        },
        {
          "output_type": "stream",
          "name": "stdout",
          "text": [
            "features.0\n",
            "features.3\n",
            "features.7\n",
            "features.10\n",
            "features.14\n",
            "features.17\n"
          ]
        },
        {
          "output_type": "stream",
          "name": "stderr",
          "text": [
            "\r30it [00:00, 248.31it/s]"
          ]
        },
        {
          "output_type": "stream",
          "name": "stdout",
          "text": [
            "features.20\n",
            "features.23\n",
            "features.27\n",
            "features.30\n",
            "features.33\n",
            "tensor(0.0437, grad_fn=<DivBackward0>)\n",
            "features.36\n",
            "features.40\n",
            "features.43\n"
          ]
        },
        {
          "output_type": "stream",
          "name": "stderr",
          "text": [
            "64it [00:00, 82.77it/s]\n"
          ]
        },
        {
          "output_type": "stream",
          "name": "stdout",
          "text": [
            "features.46\n",
            "features.49\n",
            "!!\n"
          ]
        },
        {
          "output_type": "stream",
          "name": "stderr",
          "text": [
            "\r0it [00:00, ?it/s]"
          ]
        },
        {
          "output_type": "stream",
          "name": "stdout",
          "text": [
            "features.0\n",
            "features.3\n",
            "features.7\n",
            "features.10\n",
            "features.14\n",
            "features.17\n"
          ]
        },
        {
          "output_type": "stream",
          "name": "stderr",
          "text": [
            "\r30it [00:00, 248.11it/s]"
          ]
        },
        {
          "output_type": "stream",
          "name": "stdout",
          "text": [
            "features.20\n",
            "features.23\n",
            "features.27\n",
            "features.30\n",
            "features.33\n",
            "tensor(0.0434, grad_fn=<DivBackward0>)\n",
            "features.36\n",
            "features.40\n",
            "features.43\n"
          ]
        },
        {
          "output_type": "stream",
          "name": "stderr",
          "text": [
            "64it [00:00, 86.03it/s]\n"
          ]
        },
        {
          "output_type": "stream",
          "name": "stdout",
          "text": [
            "features.46\n",
            "features.49\n",
            "!!\n"
          ]
        },
        {
          "output_type": "stream",
          "name": "stderr",
          "text": [
            "\r0it [00:00, ?it/s]"
          ]
        },
        {
          "output_type": "stream",
          "name": "stdout",
          "text": [
            "features.0\n",
            "features.3\n",
            "features.7\n",
            "features.10\n",
            "features.14\n",
            "features.17\n"
          ]
        },
        {
          "output_type": "stream",
          "name": "stderr",
          "text": [
            "\r26it [00:00, 236.69it/s]"
          ]
        },
        {
          "output_type": "stream",
          "name": "stdout",
          "text": [
            "features.20\n",
            "features.23\n",
            "features.27\n",
            "features.30\n",
            "features.33\n",
            "tensor(0.0442, grad_fn=<DivBackward0>)\n",
            "features.36\n",
            "features.40\n",
            "features.43\n"
          ]
        },
        {
          "output_type": "stream",
          "name": "stderr",
          "text": [
            "64it [00:00, 80.01it/s]\n"
          ]
        },
        {
          "output_type": "stream",
          "name": "stdout",
          "text": [
            "features.46\n",
            "features.49\n",
            "!!\n"
          ]
        },
        {
          "output_type": "stream",
          "name": "stderr",
          "text": [
            "\r0it [00:00, ?it/s]"
          ]
        },
        {
          "output_type": "stream",
          "name": "stdout",
          "text": [
            "features.0\n",
            "features.3\n",
            "features.7\n",
            "features.10\n",
            "features.14\n",
            "features.17\n"
          ]
        },
        {
          "output_type": "stream",
          "name": "stderr",
          "text": [
            "\r30it [00:00, 245.47it/s]"
          ]
        },
        {
          "output_type": "stream",
          "name": "stdout",
          "text": [
            "features.20\n",
            "features.23\n",
            "features.27\n",
            "features.30\n",
            "features.33\n",
            "tensor(0.0430, grad_fn=<DivBackward0>)\n",
            "features.36\n",
            "features.40\n",
            "features.43\n"
          ]
        },
        {
          "output_type": "stream",
          "name": "stderr",
          "text": [
            "64it [00:00, 82.45it/s]\n"
          ]
        },
        {
          "output_type": "stream",
          "name": "stdout",
          "text": [
            "features.46\n",
            "features.49\n",
            "!!\n"
          ]
        },
        {
          "output_type": "stream",
          "name": "stderr",
          "text": [
            "\r0it [00:00, ?it/s]"
          ]
        },
        {
          "output_type": "stream",
          "name": "stdout",
          "text": [
            "features.0\n",
            "features.3\n",
            "features.7\n",
            "features.10\n",
            "features.14\n",
            "features.17\n"
          ]
        },
        {
          "output_type": "stream",
          "name": "stderr",
          "text": [
            "\r30it [00:00, 248.02it/s]"
          ]
        },
        {
          "output_type": "stream",
          "name": "stdout",
          "text": [
            "features.20\n",
            "features.23\n",
            "features.27\n",
            "features.30\n",
            "features.33\n",
            "tensor(0.0429, grad_fn=<DivBackward0>)\n",
            "features.36\n",
            "features.40\n",
            "features.43\n"
          ]
        },
        {
          "output_type": "stream",
          "name": "stderr",
          "text": [
            "64it [00:00, 83.69it/s]\n"
          ]
        },
        {
          "output_type": "stream",
          "name": "stdout",
          "text": [
            "features.46\n",
            "features.49\n",
            "!!\n"
          ]
        },
        {
          "output_type": "stream",
          "name": "stderr",
          "text": [
            "\r0it [00:00, ?it/s]"
          ]
        },
        {
          "output_type": "stream",
          "name": "stdout",
          "text": [
            "features.0\n",
            "features.3\n",
            "features.7\n",
            "features.10\n",
            "features.14\n",
            "features.17\n"
          ]
        },
        {
          "output_type": "stream",
          "name": "stderr",
          "text": [
            "\r30it [00:00, 239.19it/s]"
          ]
        },
        {
          "output_type": "stream",
          "name": "stdout",
          "text": [
            "features.20\n",
            "features.23\n",
            "features.27\n",
            "features.30\n",
            "features.33\n",
            "tensor(0.0441, grad_fn=<DivBackward0>)\n",
            "features.36\n",
            "features.40\n",
            "features.43\n"
          ]
        },
        {
          "output_type": "stream",
          "name": "stderr",
          "text": [
            "64it [00:00, 82.12it/s]\n"
          ]
        },
        {
          "output_type": "stream",
          "name": "stdout",
          "text": [
            "features.46\n",
            "features.49\n",
            "!!\n"
          ]
        },
        {
          "output_type": "stream",
          "name": "stderr",
          "text": [
            "\r0it [00:00, ?it/s]"
          ]
        },
        {
          "output_type": "stream",
          "name": "stdout",
          "text": [
            "features.0\n",
            "features.3\n",
            "features.7\n",
            "features.10\n",
            "features.14\n"
          ]
        },
        {
          "output_type": "stream",
          "name": "stderr",
          "text": [
            "\r30it [00:00, 237.20it/s]"
          ]
        },
        {
          "output_type": "stream",
          "name": "stdout",
          "text": [
            "features.17\n",
            "features.20\n",
            "features.23\n",
            "features.27\n",
            "features.30\n",
            "features.33\n",
            "tensor(0.0430, grad_fn=<DivBackward0>)\n",
            "features.36\n",
            "features.40\n",
            "features.43\n"
          ]
        },
        {
          "output_type": "stream",
          "name": "stderr",
          "text": [
            "64it [00:00, 83.63it/s]\n"
          ]
        },
        {
          "output_type": "stream",
          "name": "stdout",
          "text": [
            "features.46\n",
            "features.49\n",
            "!!\n"
          ]
        },
        {
          "output_type": "stream",
          "name": "stderr",
          "text": [
            "\r0it [00:00, ?it/s]"
          ]
        },
        {
          "output_type": "stream",
          "name": "stdout",
          "text": [
            "features.0\n",
            "features.3\n",
            "features.7\n",
            "features.10\n",
            "features.14\n",
            "features.17\n"
          ]
        },
        {
          "output_type": "stream",
          "name": "stderr",
          "text": [
            "\r30it [00:00, 214.87it/s]"
          ]
        },
        {
          "output_type": "stream",
          "name": "stdout",
          "text": [
            "features.20\n",
            "features.23\n",
            "features.27\n",
            "features.30\n",
            "features.33\n",
            "tensor(0.0436, grad_fn=<DivBackward0>)\n",
            "features.36\n",
            "features.40\n",
            "features.43\n"
          ]
        },
        {
          "output_type": "stream",
          "name": "stderr",
          "text": [
            "64it [00:00, 81.18it/s]\n"
          ]
        },
        {
          "output_type": "stream",
          "name": "stdout",
          "text": [
            "features.46\n",
            "features.49\n",
            "!!\n"
          ]
        },
        {
          "output_type": "stream",
          "name": "stderr",
          "text": [
            "\r0it [00:00, ?it/s]"
          ]
        },
        {
          "output_type": "stream",
          "name": "stdout",
          "text": [
            "features.0\n",
            "features.3\n",
            "features.7\n",
            "features.10\n",
            "features.14\n",
            "features.17\n"
          ]
        },
        {
          "output_type": "stream",
          "name": "stderr",
          "text": [
            "\r30it [00:00, 240.04it/s]"
          ]
        },
        {
          "output_type": "stream",
          "name": "stdout",
          "text": [
            "features.20\n",
            "features.23\n",
            "features.27\n",
            "features.30\n",
            "features.33\n",
            "tensor(0.0431, grad_fn=<DivBackward0>)\n",
            "features.36\n",
            "features.40\n",
            "features.43\n"
          ]
        },
        {
          "output_type": "stream",
          "name": "stderr",
          "text": [
            "64it [00:00, 82.41it/s]\n"
          ]
        },
        {
          "output_type": "stream",
          "name": "stdout",
          "text": [
            "features.46\n",
            "features.49\n",
            "!!\n"
          ]
        },
        {
          "output_type": "stream",
          "name": "stderr",
          "text": [
            "\r0it [00:00, ?it/s]"
          ]
        },
        {
          "output_type": "stream",
          "name": "stdout",
          "text": [
            "features.0\n",
            "features.3\n",
            "features.7\n",
            "features.10\n",
            "features.14\n",
            "features.17\n"
          ]
        },
        {
          "output_type": "stream",
          "name": "stderr",
          "text": [
            "\r30it [00:00, 209.54it/s]"
          ]
        },
        {
          "output_type": "stream",
          "name": "stdout",
          "text": [
            "features.20\n",
            "features.23\n",
            "features.27\n",
            "features.30\n",
            "features.33\n",
            "tensor(0.0433, grad_fn=<DivBackward0>)\n",
            "features.36\n",
            "features.40\n",
            "features.43\n"
          ]
        },
        {
          "output_type": "stream",
          "name": "stderr",
          "text": [
            "64it [00:00, 79.64it/s]"
          ]
        },
        {
          "output_type": "stream",
          "name": "stdout",
          "text": [
            "features.46\n",
            "features.49\n"
          ]
        },
        {
          "output_type": "stream",
          "name": "stderr",
          "text": [
            "\n"
          ]
        },
        {
          "output_type": "stream",
          "name": "stdout",
          "text": [
            "!!\n"
          ]
        },
        {
          "output_type": "stream",
          "name": "stderr",
          "text": [
            "26it [00:00, 233.91it/s]"
          ]
        },
        {
          "output_type": "stream",
          "name": "stdout",
          "text": [
            "features.0\n",
            "features.3\n",
            "features.7\n",
            "features.10\n",
            "features.14\n",
            "features.17\n",
            "features.20\n",
            "features.23\n",
            "features.27\n",
            "features.30\n",
            "features.33\n",
            "tensor(0.1688, grad_fn=<DivBackward0>)\n",
            "features.36\n",
            "features.40\n",
            "features.43\n",
            "features.46\n"
          ]
        },
        {
          "output_type": "stream",
          "name": "stderr",
          "text": [
            "64it [00:01, 56.00it/s]\n"
          ]
        },
        {
          "output_type": "stream",
          "name": "stdout",
          "text": [
            "features.49\n",
            "!!\n"
          ]
        },
        {
          "output_type": "stream",
          "name": "stderr",
          "text": [
            "\r0it [00:00, ?it/s]"
          ]
        },
        {
          "output_type": "stream",
          "name": "stdout",
          "text": [
            "features.0\n",
            "features.3\n",
            "features.7\n",
            "features.10\n",
            "features.14\n"
          ]
        },
        {
          "output_type": "stream",
          "name": "stderr",
          "text": [
            "\r23it [00:00, 195.27it/s]"
          ]
        },
        {
          "output_type": "stream",
          "name": "stdout",
          "text": [
            "features.17\n",
            "features.20\n",
            "features.23\n",
            "features.27\n",
            "features.30\n",
            "features.33\n",
            "tensor(0.1621, grad_fn=<DivBackward0>)\n",
            "features.36\n",
            "features.40\n"
          ]
        },
        {
          "output_type": "stream",
          "name": "stderr",
          "text": [
            "\r43it [00:00, 41.18it/s] "
          ]
        },
        {
          "output_type": "stream",
          "name": "stdout",
          "text": [
            "features.43\n",
            "features.46\n"
          ]
        },
        {
          "output_type": "stream",
          "name": "stderr",
          "text": [
            "64it [00:01, 49.35it/s]\n"
          ]
        },
        {
          "output_type": "stream",
          "name": "stdout",
          "text": [
            "features.49\n",
            "!!\n"
          ]
        },
        {
          "output_type": "stream",
          "name": "stderr",
          "text": [
            "\r0it [00:00, ?it/s]"
          ]
        },
        {
          "output_type": "stream",
          "name": "stdout",
          "text": [
            "features.0\n",
            "features.3\n",
            "features.7\n",
            "features.10\n",
            "features.14\n",
            "features.17\n"
          ]
        },
        {
          "output_type": "stream",
          "name": "stderr",
          "text": [
            "\r23it [00:00, 221.77it/s]"
          ]
        },
        {
          "output_type": "stream",
          "name": "stdout",
          "text": [
            "features.20\n",
            "features.23\n",
            "features.27\n",
            "features.30\n",
            "features.33\n",
            "tensor(0.1660, grad_fn=<DivBackward0>)\n",
            "features.36\n",
            "features.40\n"
          ]
        },
        {
          "output_type": "stream",
          "name": "stderr",
          "text": [
            "\r46it [00:01, 38.31it/s] "
          ]
        },
        {
          "output_type": "stream",
          "name": "stdout",
          "text": [
            "features.43\n",
            "features.46\n"
          ]
        },
        {
          "output_type": "stream",
          "name": "stderr",
          "text": [
            "64it [00:01, 48.41it/s]\n"
          ]
        },
        {
          "output_type": "stream",
          "name": "stdout",
          "text": [
            "features.49\n",
            "!!\n"
          ]
        },
        {
          "output_type": "stream",
          "name": "stderr",
          "text": [
            "\r0it [00:00, ?it/s]"
          ]
        },
        {
          "output_type": "stream",
          "name": "stdout",
          "text": [
            "features.0\n",
            "features.3\n",
            "features.7\n",
            "features.10\n",
            "features.14\n",
            "features.17\n"
          ]
        },
        {
          "output_type": "stream",
          "name": "stderr",
          "text": [
            "\r23it [00:00, 203.28it/s]"
          ]
        },
        {
          "output_type": "stream",
          "name": "stdout",
          "text": [
            "features.20\n",
            "features.23\n",
            "features.27\n",
            "features.30\n",
            "features.33\n",
            "tensor(0.1611, grad_fn=<DivBackward0>)\n",
            "features.36\n",
            "features.40\n"
          ]
        },
        {
          "output_type": "stream",
          "name": "stderr",
          "text": [
            "\r44it [00:01, 38.30it/s] "
          ]
        },
        {
          "output_type": "stream",
          "name": "stdout",
          "text": [
            "features.43\n",
            "features.46\n"
          ]
        },
        {
          "output_type": "stream",
          "name": "stderr",
          "text": [
            "64it [00:01, 45.33it/s]\n"
          ]
        },
        {
          "output_type": "stream",
          "name": "stdout",
          "text": [
            "features.49\n",
            "!!\n"
          ]
        },
        {
          "output_type": "stream",
          "name": "stderr",
          "text": [
            "\r0it [00:00, ?it/s]"
          ]
        },
        {
          "output_type": "stream",
          "name": "stdout",
          "text": [
            "features.0\n",
            "features.3\n",
            "features.7\n",
            "features.10\n",
            "features.14\n",
            "features.17\n"
          ]
        },
        {
          "output_type": "stream",
          "name": "stderr",
          "text": [
            "\r23it [00:00, 218.83it/s]"
          ]
        },
        {
          "output_type": "stream",
          "name": "stdout",
          "text": [
            "features.20\n",
            "features.23\n",
            "features.27\n",
            "features.30\n",
            "features.33\n"
          ]
        },
        {
          "output_type": "stream",
          "name": "stderr",
          "text": [
            "\r45it [00:00, 44.48it/s] "
          ]
        },
        {
          "output_type": "stream",
          "name": "stdout",
          "text": [
            "tensor(0.1679, grad_fn=<DivBackward0>)\n",
            "features.36\n",
            "features.40\n",
            "features.43\n",
            "features.46\n",
            "features.49\n"
          ]
        },
        {
          "output_type": "stream",
          "name": "stderr",
          "text": [
            "64it [00:01, 56.85it/s]\n"
          ]
        },
        {
          "output_type": "stream",
          "name": "stdout",
          "text": [
            "!!\n"
          ]
        },
        {
          "output_type": "stream",
          "name": "stderr",
          "text": [
            "30it [00:00, 245.41it/s]"
          ]
        },
        {
          "output_type": "stream",
          "name": "stdout",
          "text": [
            "features.0\n",
            "features.3\n",
            "features.7\n",
            "features.10\n",
            "features.14\n",
            "features.17\n",
            "features.20\n",
            "features.23\n",
            "features.27\n",
            "features.30\n",
            "features.33\n",
            "tensor(0.1667, grad_fn=<DivBackward0>)\n",
            "features.36\n",
            "features.40\n",
            "features.43\n"
          ]
        },
        {
          "output_type": "stream",
          "name": "stderr",
          "text": [
            "64it [00:00, 80.96it/s]\n"
          ]
        },
        {
          "output_type": "stream",
          "name": "stdout",
          "text": [
            "features.46\n",
            "features.49\n",
            "!!\n"
          ]
        },
        {
          "output_type": "stream",
          "name": "stderr",
          "text": [
            "\r0it [00:00, ?it/s]"
          ]
        },
        {
          "output_type": "stream",
          "name": "stdout",
          "text": [
            "features.0\n",
            "features.3\n",
            "features.7\n",
            "features.10\n",
            "features.14\n"
          ]
        },
        {
          "output_type": "stream",
          "name": "stderr",
          "text": [
            "\r26it [00:00, 255.14it/s]"
          ]
        },
        {
          "output_type": "stream",
          "name": "stdout",
          "text": [
            "features.17\n",
            "features.20\n",
            "features.23\n",
            "features.27\n",
            "features.30\n",
            "features.33\n",
            "tensor(0.1598, grad_fn=<DivBackward0>)\n",
            "features.36\n",
            "features.40\n",
            "features.43\n"
          ]
        },
        {
          "output_type": "stream",
          "name": "stderr",
          "text": [
            "64it [00:00, 81.54it/s]\n"
          ]
        },
        {
          "output_type": "stream",
          "name": "stdout",
          "text": [
            "features.46\n",
            "features.49\n",
            "!!\n"
          ]
        },
        {
          "output_type": "stream",
          "name": "stderr",
          "text": [
            "\r0it [00:00, ?it/s]"
          ]
        },
        {
          "output_type": "stream",
          "name": "stdout",
          "text": [
            "features.0\n",
            "features.3\n",
            "features.7\n",
            "features.10\n",
            "features.14\n",
            "features.17\n"
          ]
        },
        {
          "output_type": "stream",
          "name": "stderr",
          "text": [
            "\r26it [00:00, 251.17it/s]"
          ]
        },
        {
          "output_type": "stream",
          "name": "stdout",
          "text": [
            "features.20\n",
            "features.23\n",
            "features.27\n",
            "features.30\n",
            "features.33\n",
            "tensor(0.1618, grad_fn=<DivBackward0>)\n",
            "features.36\n",
            "features.40\n",
            "features.43\n"
          ]
        },
        {
          "output_type": "stream",
          "name": "stderr",
          "text": [
            "64it [00:00, 80.55it/s]\n"
          ]
        },
        {
          "output_type": "stream",
          "name": "stdout",
          "text": [
            "features.46\n",
            "features.49\n",
            "!!\n"
          ]
        },
        {
          "output_type": "stream",
          "name": "stderr",
          "text": [
            "\r0it [00:00, ?it/s]"
          ]
        },
        {
          "output_type": "stream",
          "name": "stdout",
          "text": [
            "features.0\n",
            "features.3\n",
            "features.7\n",
            "features.10\n",
            "features.14\n",
            "features.17\n"
          ]
        },
        {
          "output_type": "stream",
          "name": "stderr",
          "text": [
            "\r30it [00:00, 239.97it/s]"
          ]
        },
        {
          "output_type": "stream",
          "name": "stdout",
          "text": [
            "features.20\n",
            "features.23\n",
            "features.27\n",
            "features.30\n",
            "features.33\n",
            "tensor(0.1621, grad_fn=<DivBackward0>)\n",
            "features.36\n",
            "features.40\n",
            "features.43\n"
          ]
        },
        {
          "output_type": "stream",
          "name": "stderr",
          "text": [
            "64it [00:00, 81.03it/s]\n"
          ]
        },
        {
          "output_type": "stream",
          "name": "stdout",
          "text": [
            "features.46\n",
            "features.49\n",
            "!!\n"
          ]
        },
        {
          "output_type": "stream",
          "name": "stderr",
          "text": [
            "\r0it [00:00, ?it/s]"
          ]
        },
        {
          "output_type": "stream",
          "name": "stdout",
          "text": [
            "features.0\n",
            "features.3\n",
            "features.7\n",
            "features.10\n",
            "features.14\n",
            "features.17\n"
          ]
        },
        {
          "output_type": "stream",
          "name": "stderr",
          "text": [
            "\r26it [00:00, 251.50it/s]"
          ]
        },
        {
          "output_type": "stream",
          "name": "stdout",
          "text": [
            "features.20\n",
            "features.23\n",
            "features.27\n",
            "features.30\n",
            "features.33\n",
            "tensor(0.1636, grad_fn=<DivBackward0>)\n",
            "features.36\n",
            "features.40\n",
            "features.43\n"
          ]
        },
        {
          "output_type": "stream",
          "name": "stderr",
          "text": [
            "64it [00:00, 79.93it/s]\n"
          ]
        },
        {
          "output_type": "stream",
          "name": "stdout",
          "text": [
            "features.46\n",
            "features.49\n",
            "!!\n"
          ]
        },
        {
          "output_type": "stream",
          "name": "stderr",
          "text": [
            "\r0it [00:00, ?it/s]"
          ]
        },
        {
          "output_type": "stream",
          "name": "stdout",
          "text": [
            "features.0\n",
            "features.3\n",
            "features.7\n",
            "features.10\n",
            "features.14\n",
            "features.17\n"
          ]
        },
        {
          "output_type": "stream",
          "name": "stderr",
          "text": [
            "\r30it [00:00, 232.02it/s]"
          ]
        },
        {
          "output_type": "stream",
          "name": "stdout",
          "text": [
            "features.20\n",
            "features.23\n",
            "features.27\n",
            "features.30\n",
            "features.33\n",
            "tensor(0.1685, grad_fn=<DivBackward0>)\n",
            "features.36\n",
            "features.40\n",
            "features.43\n"
          ]
        },
        {
          "output_type": "stream",
          "name": "stderr",
          "text": [
            "64it [00:00, 82.31it/s]\n"
          ]
        },
        {
          "output_type": "stream",
          "name": "stdout",
          "text": [
            "features.46\n",
            "features.49\n",
            "!!\n"
          ]
        },
        {
          "output_type": "stream",
          "name": "stderr",
          "text": [
            "\r0it [00:00, ?it/s]"
          ]
        },
        {
          "output_type": "stream",
          "name": "stdout",
          "text": [
            "features.0\n",
            "features.3\n",
            "features.7\n",
            "features.10\n",
            "features.14\n"
          ]
        },
        {
          "output_type": "stream",
          "name": "stderr",
          "text": [
            "\r30it [00:00, 236.41it/s]"
          ]
        },
        {
          "output_type": "stream",
          "name": "stdout",
          "text": [
            "features.17\n",
            "features.20\n",
            "features.23\n",
            "features.27\n",
            "features.30\n",
            "features.33\n",
            "tensor(0.1637, grad_fn=<DivBackward0>)\n",
            "features.36\n",
            "features.40\n",
            "features.43\n"
          ]
        },
        {
          "output_type": "stream",
          "name": "stderr",
          "text": [
            "64it [00:00, 84.38it/s]\n"
          ]
        },
        {
          "output_type": "stream",
          "name": "stdout",
          "text": [
            "features.46\n",
            "features.49\n",
            "!!\n"
          ]
        },
        {
          "output_type": "stream",
          "name": "stderr",
          "text": [
            "\r0it [00:00, ?it/s]"
          ]
        },
        {
          "output_type": "stream",
          "name": "stdout",
          "text": [
            "features.0\n",
            "features.3\n",
            "features.7\n",
            "features.10\n",
            "features.14\n",
            "features.17\n"
          ]
        },
        {
          "output_type": "stream",
          "name": "stderr",
          "text": [
            "\r30it [00:00, 223.81it/s]"
          ]
        },
        {
          "output_type": "stream",
          "name": "stdout",
          "text": [
            "features.20\n",
            "features.23\n",
            "features.27\n",
            "features.30\n",
            "features.33\n",
            "tensor(0.1526, grad_fn=<DivBackward0>)\n",
            "features.36\n",
            "features.40\n",
            "features.43\n"
          ]
        },
        {
          "output_type": "stream",
          "name": "stderr",
          "text": [
            "64it [00:00, 80.38it/s]\n"
          ]
        },
        {
          "output_type": "stream",
          "name": "stdout",
          "text": [
            "features.46\n",
            "features.49\n",
            "!!\n"
          ]
        },
        {
          "output_type": "stream",
          "name": "stderr",
          "text": [
            "\r0it [00:00, ?it/s]"
          ]
        },
        {
          "output_type": "stream",
          "name": "stdout",
          "text": [
            "features.0\n",
            "features.3\n",
            "features.7\n",
            "features.10\n",
            "features.14\n",
            "features.17\n"
          ]
        },
        {
          "output_type": "stream",
          "name": "stderr",
          "text": [
            "\r30it [00:00, 233.93it/s]"
          ]
        },
        {
          "output_type": "stream",
          "name": "stdout",
          "text": [
            "features.20\n",
            "features.23\n",
            "features.27\n",
            "features.30\n",
            "features.33\n",
            "tensor(0.1676, grad_fn=<DivBackward0>)\n",
            "features.36\n",
            "features.40\n",
            "features.43\n"
          ]
        },
        {
          "output_type": "stream",
          "name": "stderr",
          "text": [
            "64it [00:00, 82.10it/s]\n"
          ]
        },
        {
          "output_type": "stream",
          "name": "stdout",
          "text": [
            "features.46\n",
            "features.49\n",
            "!!\n"
          ]
        },
        {
          "output_type": "stream",
          "name": "stderr",
          "text": [
            "\r0it [00:00, ?it/s]"
          ]
        },
        {
          "output_type": "stream",
          "name": "stdout",
          "text": [
            "features.0\n",
            "features.3\n",
            "features.7\n",
            "features.10\n",
            "features.14\n",
            "features.17\n"
          ]
        },
        {
          "output_type": "stream",
          "name": "stderr",
          "text": [
            "\r30it [00:00, 233.58it/s]"
          ]
        },
        {
          "output_type": "stream",
          "name": "stdout",
          "text": [
            "features.20\n",
            "features.23\n",
            "features.27\n",
            "features.30\n",
            "features.33\n",
            "tensor(0.1647, grad_fn=<DivBackward0>)\n",
            "features.36\n",
            "features.40\n",
            "features.43\n"
          ]
        },
        {
          "output_type": "stream",
          "name": "stderr",
          "text": [
            "64it [00:00, 82.56it/s]\n"
          ]
        },
        {
          "output_type": "stream",
          "name": "stdout",
          "text": [
            "features.46\n",
            "features.49\n",
            "!!\n"
          ]
        },
        {
          "output_type": "stream",
          "name": "stderr",
          "text": [
            "\r0it [00:00, ?it/s]"
          ]
        },
        {
          "output_type": "stream",
          "name": "stdout",
          "text": [
            "features.0\n",
            "features.3\n",
            "features.7\n",
            "features.10\n",
            "features.14\n",
            "features.17\n"
          ]
        },
        {
          "output_type": "stream",
          "name": "stderr",
          "text": [
            "\r30it [00:00, 240.28it/s]"
          ]
        },
        {
          "output_type": "stream",
          "name": "stdout",
          "text": [
            "features.20\n",
            "features.23\n",
            "features.27\n",
            "features.30\n",
            "features.33\n",
            "tensor(0.1637, grad_fn=<DivBackward0>)\n",
            "features.36\n",
            "features.40\n",
            "features.43\n"
          ]
        },
        {
          "output_type": "stream",
          "name": "stderr",
          "text": [
            "64it [00:00, 84.53it/s]\n"
          ]
        },
        {
          "output_type": "stream",
          "name": "stdout",
          "text": [
            "features.46\n",
            "features.49\n",
            "!!\n"
          ]
        },
        {
          "output_type": "stream",
          "name": "stderr",
          "text": [
            "\r0it [00:00, ?it/s]"
          ]
        },
        {
          "output_type": "stream",
          "name": "stdout",
          "text": [
            "features.0\n",
            "features.3\n",
            "features.7\n",
            "features.10\n",
            "features.14\n",
            "features.17\n"
          ]
        },
        {
          "output_type": "stream",
          "name": "stderr",
          "text": [
            "\r26it [00:00, 233.75it/s]"
          ]
        },
        {
          "output_type": "stream",
          "name": "stdout",
          "text": [
            "features.20\n",
            "features.23\n",
            "features.27\n",
            "features.30\n",
            "features.33\n",
            "tensor(0.1681, grad_fn=<DivBackward0>)\n",
            "features.36\n",
            "features.40\n",
            "features.43\n"
          ]
        },
        {
          "output_type": "stream",
          "name": "stderr",
          "text": [
            "64it [00:00, 80.66it/s]\n"
          ]
        },
        {
          "output_type": "stream",
          "name": "stdout",
          "text": [
            "features.46\n",
            "features.49\n",
            "!!\n"
          ]
        },
        {
          "output_type": "stream",
          "name": "stderr",
          "text": [
            "\r0it [00:00, ?it/s]"
          ]
        },
        {
          "output_type": "stream",
          "name": "stdout",
          "text": [
            "features.0\n",
            "features.3\n",
            "features.7\n",
            "features.10\n",
            "features.14\n",
            "features.17\n"
          ]
        },
        {
          "output_type": "stream",
          "name": "stderr",
          "text": [
            "\r30it [00:00, 240.39it/s]"
          ]
        },
        {
          "output_type": "stream",
          "name": "stdout",
          "text": [
            "features.20\n",
            "features.23\n",
            "features.27\n",
            "features.30\n",
            "features.33\n",
            "tensor(0.1669, grad_fn=<DivBackward0>)\n",
            "features.36\n",
            "features.40\n",
            "features.43\n",
            "features.46\n"
          ]
        },
        {
          "output_type": "stream",
          "name": "stderr",
          "text": [
            "64it [00:01, 54.34it/s]\n"
          ]
        },
        {
          "output_type": "stream",
          "name": "stdout",
          "text": [
            "features.49\n",
            "!!\n"
          ]
        },
        {
          "output_type": "stream",
          "name": "stderr",
          "text": [
            "\r0it [00:00, ?it/s]"
          ]
        },
        {
          "output_type": "stream",
          "name": "stdout",
          "text": [
            "features.0\n",
            "features.3\n",
            "features.7\n",
            "features.10\n",
            "features.14\n",
            "features.17\n",
            "features.20\n"
          ]
        },
        {
          "output_type": "stream",
          "name": "stderr",
          "text": [
            "\r26it [00:00, 208.35it/s]"
          ]
        },
        {
          "output_type": "stream",
          "name": "stdout",
          "text": [
            "features.23\n",
            "features.27\n",
            "features.30\n",
            "features.33\n",
            "tensor(0.1632, grad_fn=<DivBackward0>)\n",
            "features.36\n",
            "features.40\n"
          ]
        },
        {
          "output_type": "stream",
          "name": "stderr",
          "text": [
            "\r47it [00:00, 42.11it/s] "
          ]
        },
        {
          "output_type": "stream",
          "name": "stdout",
          "text": [
            "features.43\n",
            "features.46\n"
          ]
        },
        {
          "output_type": "stream",
          "name": "stderr",
          "text": [
            "64it [00:01, 52.49it/s]\n"
          ]
        },
        {
          "output_type": "stream",
          "name": "stdout",
          "text": [
            "features.49\n",
            "!!\n"
          ]
        },
        {
          "output_type": "stream",
          "name": "stderr",
          "text": [
            "\r0it [00:00, ?it/s]"
          ]
        },
        {
          "output_type": "stream",
          "name": "stdout",
          "text": [
            "features.0\n",
            "features.3\n",
            "features.7\n",
            "features.10\n",
            "features.14\n",
            "features.17\n"
          ]
        },
        {
          "output_type": "stream",
          "name": "stderr",
          "text": [
            "\r23it [00:00, 205.02it/s]"
          ]
        },
        {
          "output_type": "stream",
          "name": "stdout",
          "text": [
            "features.20\n",
            "features.23\n",
            "features.27\n",
            "features.30\n",
            "features.33\n",
            "tensor(0.1547, grad_fn=<DivBackward0>)\n",
            "features.36\n",
            "features.40\n"
          ]
        },
        {
          "output_type": "stream",
          "name": "stderr",
          "text": [
            "\r44it [00:00, 42.89it/s] "
          ]
        },
        {
          "output_type": "stream",
          "name": "stdout",
          "text": [
            "features.43\n",
            "features.46\n"
          ]
        },
        {
          "output_type": "stream",
          "name": "stderr",
          "text": [
            "64it [00:01, 48.75it/s]\n"
          ]
        },
        {
          "output_type": "stream",
          "name": "stdout",
          "text": [
            "features.49\n",
            "!!\n"
          ]
        },
        {
          "output_type": "stream",
          "name": "stderr",
          "text": [
            "\r0it [00:00, ?it/s]"
          ]
        },
        {
          "output_type": "stream",
          "name": "stdout",
          "text": [
            "features.0\n",
            "features.3\n",
            "features.7\n",
            "features.10\n",
            "features.14\n"
          ]
        },
        {
          "output_type": "stream",
          "name": "stderr",
          "text": [
            "\r23it [00:00, 226.73it/s]"
          ]
        },
        {
          "output_type": "stream",
          "name": "stdout",
          "text": [
            "features.17\n",
            "features.20\n",
            "features.23\n",
            "features.27\n",
            "features.30\n",
            "features.33\n",
            "tensor(0.1648, grad_fn=<DivBackward0>)\n",
            "features.36\n",
            "features.40\n"
          ]
        },
        {
          "output_type": "stream",
          "name": "stderr",
          "text": [
            "\r46it [00:01, 36.11it/s] "
          ]
        },
        {
          "output_type": "stream",
          "name": "stdout",
          "text": [
            "features.43\n",
            "features.46\n"
          ]
        },
        {
          "output_type": "stream",
          "name": "stderr",
          "text": [
            "64it [00:01, 46.62it/s]\n"
          ]
        },
        {
          "output_type": "stream",
          "name": "stdout",
          "text": [
            "features.49\n",
            "!!\n"
          ]
        },
        {
          "output_type": "stream",
          "name": "stderr",
          "text": [
            "\r0it [00:00, ?it/s]"
          ]
        },
        {
          "output_type": "stream",
          "name": "stdout",
          "text": [
            "features.0\n",
            "features.3\n",
            "features.7\n",
            "features.10\n",
            "features.14\n",
            "features.17\n"
          ]
        },
        {
          "output_type": "stream",
          "name": "stderr",
          "text": [
            "\r23it [00:00, 208.03it/s]"
          ]
        },
        {
          "output_type": "stream",
          "name": "stdout",
          "text": [
            "features.20\n",
            "features.23\n",
            "features.27\n",
            "features.30\n",
            "features.33\n"
          ]
        },
        {
          "output_type": "stream",
          "name": "stderr",
          "text": [
            "\r44it [00:00, 53.04it/s] "
          ]
        },
        {
          "output_type": "stream",
          "name": "stdout",
          "text": [
            "tensor(0.1684, grad_fn=<DivBackward0>)\n",
            "features.36\n",
            "features.40\n",
            "features.43\n"
          ]
        },
        {
          "output_type": "stream",
          "name": "stderr",
          "text": [
            "64it [00:00, 67.59it/s]\n"
          ]
        },
        {
          "output_type": "stream",
          "name": "stdout",
          "text": [
            "features.46\n",
            "features.49\n",
            "!!\n"
          ]
        },
        {
          "output_type": "stream",
          "name": "stderr",
          "text": [
            "\r0it [00:00, ?it/s]"
          ]
        },
        {
          "output_type": "stream",
          "name": "stdout",
          "text": [
            "features.0\n",
            "features.3\n",
            "features.7\n",
            "features.10\n",
            "features.14\n",
            "features.17\n",
            "features.20\n"
          ]
        },
        {
          "output_type": "stream",
          "name": "stderr",
          "text": [
            "\r30it [00:00, 219.17it/s]"
          ]
        },
        {
          "output_type": "stream",
          "name": "stdout",
          "text": [
            "features.23\n",
            "features.27\n",
            "features.30\n",
            "features.33\n",
            "tensor(0.1681, grad_fn=<DivBackward0>)\n",
            "features.36\n",
            "features.40\n",
            "features.43\n"
          ]
        },
        {
          "output_type": "stream",
          "name": "stderr",
          "text": [
            "64it [00:00, 80.70it/s]\n"
          ]
        },
        {
          "output_type": "stream",
          "name": "stdout",
          "text": [
            "features.46\n",
            "features.49\n",
            "!!\n"
          ]
        },
        {
          "output_type": "stream",
          "name": "stderr",
          "text": [
            "\r0it [00:00, ?it/s]"
          ]
        },
        {
          "output_type": "stream",
          "name": "stdout",
          "text": [
            "features.0\n",
            "features.3\n",
            "features.7\n",
            "features.10\n",
            "features.14\n"
          ]
        },
        {
          "output_type": "stream",
          "name": "stderr",
          "text": [
            "\r30it [00:00, 236.47it/s]"
          ]
        },
        {
          "output_type": "stream",
          "name": "stdout",
          "text": [
            "features.17\n",
            "features.20\n",
            "features.23\n",
            "features.27\n",
            "features.30\n",
            "features.33\n",
            "tensor(0.1643, grad_fn=<DivBackward0>)\n",
            "features.36\n",
            "features.40\n",
            "features.43\n"
          ]
        },
        {
          "output_type": "stream",
          "name": "stderr",
          "text": [
            "64it [00:00, 83.47it/s]\n"
          ]
        },
        {
          "output_type": "stream",
          "name": "stdout",
          "text": [
            "features.46\n",
            "features.49\n",
            "!!\n"
          ]
        },
        {
          "output_type": "stream",
          "name": "stderr",
          "text": [
            "\r0it [00:00, ?it/s]"
          ]
        },
        {
          "output_type": "stream",
          "name": "stdout",
          "text": [
            "features.0\n",
            "features.3\n",
            "features.7\n",
            "features.10\n",
            "features.14\n",
            "features.17\n"
          ]
        },
        {
          "output_type": "stream",
          "name": "stderr",
          "text": [
            "\r26it [00:00, 246.51it/s]"
          ]
        },
        {
          "output_type": "stream",
          "name": "stdout",
          "text": [
            "features.20\n",
            "features.23\n",
            "features.27\n",
            "features.30\n",
            "features.33\n",
            "tensor(0.1583, grad_fn=<DivBackward0>)\n",
            "features.36\n",
            "features.40\n",
            "features.43\n",
            "features.46\n"
          ]
        },
        {
          "output_type": "stream",
          "name": "stderr",
          "text": [
            "64it [00:00, 78.82it/s]\n"
          ]
        },
        {
          "output_type": "stream",
          "name": "stdout",
          "text": [
            "features.49\n",
            "!!\n"
          ]
        },
        {
          "output_type": "stream",
          "name": "stderr",
          "text": [
            "\r0it [00:00, ?it/s]"
          ]
        },
        {
          "output_type": "stream",
          "name": "stdout",
          "text": [
            "features.0\n",
            "features.3\n",
            "features.7\n",
            "features.10\n",
            "features.14\n",
            "features.17\n",
            "features.20\n",
            "features.23\n",
            "features.27\n"
          ]
        },
        {
          "output_type": "stream",
          "name": "stderr",
          "text": [
            "\r30it [00:00, 231.15it/s]"
          ]
        },
        {
          "output_type": "stream",
          "name": "stdout",
          "text": [
            "features.30\n",
            "features.33\n",
            "tensor(0.1649, grad_fn=<DivBackward0>)\n",
            "features.36\n",
            "features.40\n",
            "features.43\n"
          ]
        },
        {
          "output_type": "stream",
          "name": "stderr",
          "text": [
            "64it [00:00, 82.11it/s]\n"
          ]
        },
        {
          "output_type": "stream",
          "name": "stdout",
          "text": [
            "features.46\n",
            "features.49\n",
            "!!\n"
          ]
        },
        {
          "output_type": "stream",
          "name": "stderr",
          "text": [
            "\r0it [00:00, ?it/s]"
          ]
        },
        {
          "output_type": "stream",
          "name": "stdout",
          "text": [
            "features.0\n",
            "features.3\n",
            "features.7\n",
            "features.10\n",
            "features.14\n",
            "features.17\n"
          ]
        },
        {
          "output_type": "stream",
          "name": "stderr",
          "text": [
            "\r30it [00:00, 236.42it/s]"
          ]
        },
        {
          "output_type": "stream",
          "name": "stdout",
          "text": [
            "features.20\n",
            "features.23\n",
            "features.27\n",
            "features.30\n",
            "features.33\n",
            "tensor(0.1682, grad_fn=<DivBackward0>)\n",
            "features.36\n",
            "features.40\n",
            "features.43\n"
          ]
        },
        {
          "output_type": "stream",
          "name": "stderr",
          "text": [
            "64it [00:00, 83.31it/s]\n"
          ]
        },
        {
          "output_type": "stream",
          "name": "stdout",
          "text": [
            "features.46\n",
            "features.49\n",
            "!!\n"
          ]
        },
        {
          "output_type": "stream",
          "name": "stderr",
          "text": [
            "\r0it [00:00, ?it/s]"
          ]
        },
        {
          "output_type": "stream",
          "name": "stdout",
          "text": [
            "features.0\n",
            "features.3\n",
            "features.7\n",
            "features.10\n",
            "features.14\n",
            "features.17\n"
          ]
        },
        {
          "output_type": "stream",
          "name": "stderr",
          "text": [
            "\r30it [00:00, 220.85it/s]"
          ]
        },
        {
          "output_type": "stream",
          "name": "stdout",
          "text": [
            "features.20\n",
            "features.23\n",
            "features.27\n",
            "features.30\n",
            "features.33\n",
            "tensor(0.1713, grad_fn=<DivBackward0>)\n",
            "features.36\n",
            "features.40\n",
            "features.43\n"
          ]
        },
        {
          "output_type": "stream",
          "name": "stderr",
          "text": [
            "64it [00:00, 82.24it/s]\n"
          ]
        },
        {
          "output_type": "stream",
          "name": "stdout",
          "text": [
            "features.46\n",
            "features.49\n",
            "!!\n"
          ]
        },
        {
          "output_type": "stream",
          "name": "stderr",
          "text": [
            "\r0it [00:00, ?it/s]"
          ]
        },
        {
          "output_type": "stream",
          "name": "stdout",
          "text": [
            "features.0\n",
            "features.3\n",
            "features.7\n",
            "features.10\n",
            "features.14\n",
            "features.17\n"
          ]
        },
        {
          "output_type": "stream",
          "name": "stderr",
          "text": [
            "\r26it [00:00, 239.13it/s]"
          ]
        },
        {
          "output_type": "stream",
          "name": "stdout",
          "text": [
            "features.20\n",
            "features.23\n",
            "features.27\n",
            "features.30\n",
            "features.33\n",
            "tensor(0.1701, grad_fn=<DivBackward0>)\n",
            "features.36\n",
            "features.40\n",
            "features.43\n"
          ]
        },
        {
          "output_type": "stream",
          "name": "stderr",
          "text": [
            "64it [00:00, 81.07it/s]\n"
          ]
        },
        {
          "output_type": "stream",
          "name": "stdout",
          "text": [
            "features.46\n",
            "features.49\n",
            "!!\n"
          ]
        },
        {
          "output_type": "stream",
          "name": "stderr",
          "text": [
            "\r0it [00:00, ?it/s]"
          ]
        },
        {
          "output_type": "stream",
          "name": "stdout",
          "text": [
            "features.0\n",
            "features.3\n",
            "features.7\n",
            "features.10\n",
            "features.14\n",
            "features.17\n"
          ]
        },
        {
          "output_type": "stream",
          "name": "stderr",
          "text": [
            "\r30it [00:00, 235.42it/s]"
          ]
        },
        {
          "output_type": "stream",
          "name": "stdout",
          "text": [
            "features.20\n",
            "features.23\n",
            "features.27\n",
            "features.30\n",
            "features.33\n",
            "tensor(0.1624, grad_fn=<DivBackward0>)\n",
            "features.36\n",
            "features.40\n",
            "features.43\n"
          ]
        },
        {
          "output_type": "stream",
          "name": "stderr",
          "text": [
            "64it [00:00, 80.72it/s]\n"
          ]
        },
        {
          "output_type": "stream",
          "name": "stdout",
          "text": [
            "features.46\n",
            "features.49\n",
            "!!\n"
          ]
        },
        {
          "output_type": "stream",
          "name": "stderr",
          "text": [
            "\r0it [00:00, ?it/s]"
          ]
        },
        {
          "output_type": "stream",
          "name": "stdout",
          "text": [
            "features.0\n",
            "features.3\n",
            "features.7\n",
            "features.10\n",
            "features.14\n",
            "features.17\n"
          ]
        },
        {
          "output_type": "stream",
          "name": "stderr",
          "text": [
            "\r30it [00:00, 249.15it/s]"
          ]
        },
        {
          "output_type": "stream",
          "name": "stdout",
          "text": [
            "features.20\n",
            "features.23\n",
            "features.27\n",
            "features.30\n",
            "features.33\n",
            "tensor(0.1654, grad_fn=<DivBackward0>)\n",
            "features.36\n",
            "features.40\n",
            "features.43\n",
            "features.46\n",
            "features.49\n"
          ]
        },
        {
          "output_type": "stream",
          "name": "stderr",
          "text": [
            "64it [00:00, 75.21it/s]\n"
          ]
        },
        {
          "output_type": "stream",
          "name": "stdout",
          "text": [
            "!!\n"
          ]
        },
        {
          "output_type": "stream",
          "name": "stderr",
          "text": [
            "30it [00:00, 246.80it/s]"
          ]
        },
        {
          "output_type": "stream",
          "name": "stdout",
          "text": [
            "features.0\n",
            "features.3\n",
            "features.7\n",
            "features.10\n",
            "features.14\n",
            "features.17\n",
            "features.20\n",
            "features.23\n",
            "features.27\n",
            "features.30\n",
            "features.33\n",
            "tensor(0.1710, grad_fn=<DivBackward0>)\n",
            "features.36\n",
            "features.40\n",
            "features.43\n"
          ]
        },
        {
          "output_type": "stream",
          "name": "stderr",
          "text": [
            "64it [00:00, 83.77it/s]\n"
          ]
        },
        {
          "output_type": "stream",
          "name": "stdout",
          "text": [
            "features.46\n",
            "features.49\n",
            "!!\n"
          ]
        },
        {
          "output_type": "stream",
          "name": "stderr",
          "text": [
            "\r0it [00:00, ?it/s]"
          ]
        },
        {
          "output_type": "stream",
          "name": "stdout",
          "text": [
            "features.0\n",
            "features.3\n",
            "features.7\n",
            "features.10\n",
            "features.14\n"
          ]
        },
        {
          "output_type": "stream",
          "name": "stderr",
          "text": [
            "\r26it [00:00, 256.48it/s]"
          ]
        },
        {
          "output_type": "stream",
          "name": "stdout",
          "text": [
            "features.17\n",
            "features.20\n",
            "features.23\n",
            "features.27\n",
            "features.30\n",
            "features.33\n",
            "tensor(0.1597, grad_fn=<DivBackward0>)\n",
            "features.36\n",
            "features.40\n",
            "features.43\n"
          ]
        },
        {
          "output_type": "stream",
          "name": "stderr",
          "text": [
            "64it [00:00, 82.42it/s]\n"
          ]
        },
        {
          "output_type": "stream",
          "name": "stdout",
          "text": [
            "features.46\n",
            "features.49\n",
            "!!\n"
          ]
        },
        {
          "output_type": "stream",
          "name": "stderr",
          "text": [
            "\r0it [00:00, ?it/s]"
          ]
        },
        {
          "output_type": "stream",
          "name": "stdout",
          "text": [
            "features.0\n",
            "features.3\n",
            "features.7\n",
            "features.10\n",
            "features.14\n",
            "features.17\n"
          ]
        },
        {
          "output_type": "stream",
          "name": "stderr",
          "text": [
            "\r30it [00:00, 237.62it/s]"
          ]
        },
        {
          "output_type": "stream",
          "name": "stdout",
          "text": [
            "features.20\n",
            "features.23\n",
            "features.27\n",
            "features.30\n",
            "features.33\n",
            "tensor(0.1607, grad_fn=<DivBackward0>)\n",
            "features.36\n",
            "features.40\n",
            "features.43\n",
            "features.46\n",
            "features.49\n"
          ]
        },
        {
          "output_type": "stream",
          "name": "stderr",
          "text": [
            "64it [00:00, 74.20it/s]\n"
          ]
        },
        {
          "output_type": "stream",
          "name": "stdout",
          "text": [
            "!!\n"
          ]
        },
        {
          "output_type": "stream",
          "name": "stderr",
          "text": [
            "23it [00:00, 223.82it/s]"
          ]
        },
        {
          "output_type": "stream",
          "name": "stdout",
          "text": [
            "features.0\n",
            "features.3\n",
            "features.7\n",
            "features.10\n",
            "features.14\n",
            "features.17\n",
            "features.20\n",
            "features.23\n",
            "features.27\n",
            "features.30\n",
            "features.33\n",
            "tensor(0.1667, grad_fn=<DivBackward0>)\n",
            "features.36\n",
            "features.40\n"
          ]
        },
        {
          "output_type": "stream",
          "name": "stderr",
          "text": [
            "\r46it [00:00, 41.00it/s] "
          ]
        },
        {
          "output_type": "stream",
          "name": "stdout",
          "text": [
            "features.43\n",
            "features.46\n"
          ]
        },
        {
          "output_type": "stream",
          "name": "stderr",
          "text": [
            "64it [00:01, 52.74it/s]\n"
          ]
        },
        {
          "output_type": "stream",
          "name": "stdout",
          "text": [
            "features.49\n",
            "!!\n"
          ]
        },
        {
          "output_type": "stream",
          "name": "stderr",
          "text": [
            "\r0it [00:00, ?it/s]"
          ]
        },
        {
          "output_type": "stream",
          "name": "stdout",
          "text": [
            "features.0\n",
            "features.3\n",
            "features.7\n",
            "features.10\n",
            "features.14\n",
            "features.17\n"
          ]
        },
        {
          "output_type": "stream",
          "name": "stderr",
          "text": [
            "\r23it [00:00, 201.70it/s]"
          ]
        },
        {
          "output_type": "stream",
          "name": "stdout",
          "text": [
            "features.20\n",
            "features.23\n",
            "features.27\n",
            "features.30\n",
            "features.33\n",
            "tensor(0.1649, grad_fn=<DivBackward0>)\n",
            "features.36\n",
            "features.40\n"
          ]
        },
        {
          "output_type": "stream",
          "name": "stderr",
          "text": [
            "\r44it [00:00, 44.07it/s] "
          ]
        },
        {
          "output_type": "stream",
          "name": "stdout",
          "text": [
            "features.43\n",
            "features.46\n"
          ]
        },
        {
          "output_type": "stream",
          "name": "stderr",
          "text": [
            "64it [00:01, 51.95it/s]\n"
          ]
        },
        {
          "output_type": "stream",
          "name": "stdout",
          "text": [
            "features.49\n",
            "!!\n"
          ]
        },
        {
          "output_type": "stream",
          "name": "stderr",
          "text": [
            "\r0it [00:00, ?it/s]"
          ]
        },
        {
          "output_type": "stream",
          "name": "stdout",
          "text": [
            "features.0\n",
            "features.3\n",
            "features.7\n",
            "features.10\n",
            "features.14\n",
            "features.17\n"
          ]
        },
        {
          "output_type": "stream",
          "name": "stderr",
          "text": [
            "\r23it [00:00, 186.88it/s]"
          ]
        },
        {
          "output_type": "stream",
          "name": "stdout",
          "text": [
            "features.20\n",
            "features.23\n",
            "features.27\n",
            "features.30\n",
            "features.33\n"
          ]
        },
        {
          "output_type": "stream",
          "name": "stderr",
          "text": [
            "\r42it [00:00, 43.97it/s] "
          ]
        },
        {
          "output_type": "stream",
          "name": "stdout",
          "text": [
            "tensor(0.1634, grad_fn=<DivBackward0>)\n",
            "features.36\n",
            "features.40\n",
            "features.43\n",
            "features.46\n"
          ]
        },
        {
          "output_type": "stream",
          "name": "stderr",
          "text": [
            "64it [00:01, 46.08it/s]\n"
          ]
        },
        {
          "output_type": "stream",
          "name": "stdout",
          "text": [
            "features.49\n",
            "!!\n"
          ]
        },
        {
          "output_type": "stream",
          "name": "stderr",
          "text": [
            "\r0it [00:00, ?it/s]"
          ]
        },
        {
          "output_type": "stream",
          "name": "stdout",
          "text": [
            "features.0\n",
            "features.3\n",
            "features.7\n",
            "features.10\n",
            "features.14\n",
            "features.17\n"
          ]
        },
        {
          "output_type": "stream",
          "name": "stderr",
          "text": [
            "\r23it [00:00, 219.36it/s]"
          ]
        },
        {
          "output_type": "stream",
          "name": "stdout",
          "text": [
            "features.20\n",
            "features.23\n",
            "features.27\n",
            "features.30\n",
            "features.33\n",
            "tensor(0.1548, grad_fn=<DivBackward0>)\n",
            "features.36\n",
            "features.40\n"
          ]
        },
        {
          "output_type": "stream",
          "name": "stderr",
          "text": [
            "\r45it [00:00, 41.36it/s] "
          ]
        },
        {
          "output_type": "stream",
          "name": "stdout",
          "text": [
            "features.43\n",
            "features.46\n"
          ]
        },
        {
          "output_type": "stream",
          "name": "stderr",
          "text": [
            "64it [00:01, 47.76it/s]\n"
          ]
        },
        {
          "output_type": "stream",
          "name": "stdout",
          "text": [
            "features.49\n",
            "!!\n"
          ]
        },
        {
          "output_type": "stream",
          "name": "stderr",
          "text": [
            "\r0it [00:00, ?it/s]"
          ]
        },
        {
          "output_type": "stream",
          "name": "stdout",
          "text": [
            "features.0\n",
            "features.3\n",
            "features.7\n",
            "features.10\n",
            "features.14\n",
            "features.17\n"
          ]
        },
        {
          "output_type": "stream",
          "name": "stderr",
          "text": [
            "\r26it [00:00, 196.71it/s]"
          ]
        },
        {
          "output_type": "stream",
          "name": "stdout",
          "text": [
            "features.20\n",
            "features.23\n",
            "features.27\n",
            "features.30\n",
            "features.33\n",
            "tensor(0.1661, grad_fn=<DivBackward0>)\n",
            "features.36\n",
            "features.40\n",
            "features.43\n"
          ]
        },
        {
          "output_type": "stream",
          "name": "stderr",
          "text": [
            "64it [00:00, 69.84it/s]\n"
          ]
        },
        {
          "output_type": "stream",
          "name": "stdout",
          "text": [
            "features.46\n",
            "features.49\n",
            "!!\n"
          ]
        },
        {
          "output_type": "stream",
          "name": "stderr",
          "text": [
            "\r0it [00:00, ?it/s]"
          ]
        },
        {
          "output_type": "stream",
          "name": "stdout",
          "text": [
            "features.0\n",
            "features.3\n",
            "features.7\n",
            "features.10\n",
            "features.14\n",
            "features.17\n"
          ]
        },
        {
          "output_type": "stream",
          "name": "stderr",
          "text": [
            "\r26it [00:00, 252.73it/s]"
          ]
        },
        {
          "output_type": "stream",
          "name": "stdout",
          "text": [
            "features.20\n",
            "features.23\n",
            "features.27\n",
            "features.30\n",
            "features.33\n",
            "tensor(0.1685, grad_fn=<DivBackward0>)\n",
            "features.36\n",
            "features.40\n",
            "features.43\n"
          ]
        },
        {
          "output_type": "stream",
          "name": "stderr",
          "text": [
            "64it [00:00, 80.07it/s]\n"
          ]
        },
        {
          "output_type": "stream",
          "name": "stdout",
          "text": [
            "features.46\n",
            "features.49\n",
            "!!\n"
          ]
        },
        {
          "output_type": "stream",
          "name": "stderr",
          "text": [
            "\r0it [00:00, ?it/s]"
          ]
        },
        {
          "output_type": "stream",
          "name": "stdout",
          "text": [
            "features.0\n",
            "features.3\n",
            "features.7\n",
            "features.10\n",
            "features.14\n",
            "features.17\n"
          ]
        },
        {
          "output_type": "stream",
          "name": "stderr",
          "text": [
            "\r30it [00:00, 233.95it/s]"
          ]
        },
        {
          "output_type": "stream",
          "name": "stdout",
          "text": [
            "features.20\n",
            "features.23\n",
            "features.27\n",
            "features.30\n",
            "features.33\n",
            "tensor(0.1538, grad_fn=<DivBackward0>)\n",
            "features.36\n",
            "features.40\n",
            "features.43\n"
          ]
        },
        {
          "output_type": "stream",
          "name": "stderr",
          "text": [
            "64it [00:00, 83.35it/s]\n"
          ]
        },
        {
          "output_type": "stream",
          "name": "stdout",
          "text": [
            "features.46\n",
            "features.49\n",
            "!!\n"
          ]
        },
        {
          "output_type": "stream",
          "name": "stderr",
          "text": [
            "\r0it [00:00, ?it/s]"
          ]
        },
        {
          "output_type": "stream",
          "name": "stdout",
          "text": [
            "features.0\n",
            "features.3\n",
            "features.7\n",
            "features.10\n",
            "features.14\n",
            "features.17\n"
          ]
        },
        {
          "output_type": "stream",
          "name": "stderr",
          "text": [
            "\r26it [00:00, 239.89it/s]"
          ]
        },
        {
          "output_type": "stream",
          "name": "stdout",
          "text": [
            "features.20\n",
            "features.23\n",
            "features.27\n",
            "features.30\n",
            "features.33\n",
            "tensor(0.1629, grad_fn=<DivBackward0>)\n",
            "features.36\n",
            "features.40\n",
            "features.43\n"
          ]
        },
        {
          "output_type": "stream",
          "name": "stderr",
          "text": [
            "64it [00:00, 79.87it/s]\n"
          ]
        },
        {
          "output_type": "stream",
          "name": "stdout",
          "text": [
            "features.46\n",
            "features.49\n",
            "!!\n"
          ]
        },
        {
          "output_type": "stream",
          "name": "stderr",
          "text": [
            "\r0it [00:00, ?it/s]"
          ]
        },
        {
          "output_type": "stream",
          "name": "stdout",
          "text": [
            "features.0\n",
            "features.3\n",
            "features.7\n",
            "features.10\n",
            "features.14\n",
            "features.17\n"
          ]
        },
        {
          "output_type": "stream",
          "name": "stderr",
          "text": [
            "\r30it [00:00, 235.83it/s]"
          ]
        },
        {
          "output_type": "stream",
          "name": "stdout",
          "text": [
            "features.20\n",
            "features.23\n",
            "features.27\n",
            "features.30\n",
            "features.33\n",
            "tensor(0.1615, grad_fn=<DivBackward0>)\n",
            "features.36\n",
            "features.40\n",
            "features.43\n"
          ]
        },
        {
          "output_type": "stream",
          "name": "stderr",
          "text": [
            "64it [00:00, 83.87it/s]\n"
          ]
        },
        {
          "output_type": "stream",
          "name": "stdout",
          "text": [
            "features.46\n",
            "features.49\n",
            "!!\n"
          ]
        },
        {
          "output_type": "stream",
          "name": "stderr",
          "text": [
            "\r0it [00:00, ?it/s]"
          ]
        },
        {
          "output_type": "stream",
          "name": "stdout",
          "text": [
            "features.0\n",
            "features.3\n",
            "features.7\n",
            "features.10\n",
            "features.14\n",
            "features.17\n"
          ]
        },
        {
          "output_type": "stream",
          "name": "stderr",
          "text": [
            "\r26it [00:00, 245.72it/s]"
          ]
        },
        {
          "output_type": "stream",
          "name": "stdout",
          "text": [
            "features.20\n",
            "features.23\n",
            "features.27\n",
            "features.30\n",
            "features.33\n",
            "tensor(0.1659, grad_fn=<DivBackward0>)\n",
            "features.36\n",
            "features.40\n",
            "features.43\n"
          ]
        },
        {
          "output_type": "stream",
          "name": "stderr",
          "text": [
            "64it [00:00, 81.42it/s]\n"
          ]
        },
        {
          "output_type": "stream",
          "name": "stdout",
          "text": [
            "features.46\n",
            "features.49\n",
            "!!\n"
          ]
        },
        {
          "output_type": "stream",
          "name": "stderr",
          "text": [
            "\r0it [00:00, ?it/s]"
          ]
        },
        {
          "output_type": "stream",
          "name": "stdout",
          "text": [
            "features.0\n",
            "features.3\n",
            "features.7\n",
            "features.10\n",
            "features.14\n",
            "features.17\n"
          ]
        },
        {
          "output_type": "stream",
          "name": "stderr",
          "text": [
            "\r30it [00:00, 226.48it/s]"
          ]
        },
        {
          "output_type": "stream",
          "name": "stdout",
          "text": [
            "features.20\n",
            "features.23\n",
            "features.27\n",
            "features.30\n",
            "features.33\n",
            "tensor(0.1610, grad_fn=<DivBackward0>)\n",
            "features.36\n",
            "features.40\n",
            "features.43\n"
          ]
        },
        {
          "output_type": "stream",
          "name": "stderr",
          "text": [
            "64it [00:00, 80.78it/s]\n"
          ]
        },
        {
          "output_type": "stream",
          "name": "stdout",
          "text": [
            "features.46\n",
            "features.49\n",
            "!!\n"
          ]
        },
        {
          "output_type": "stream",
          "name": "stderr",
          "text": [
            "\r0it [00:00, ?it/s]"
          ]
        },
        {
          "output_type": "stream",
          "name": "stdout",
          "text": [
            "features.0\n",
            "features.3\n",
            "features.7\n",
            "features.10\n",
            "features.14\n",
            "features.17\n"
          ]
        },
        {
          "output_type": "stream",
          "name": "stderr",
          "text": [
            "\r30it [00:00, 227.24it/s]"
          ]
        },
        {
          "output_type": "stream",
          "name": "stdout",
          "text": [
            "features.20\n",
            "features.23\n",
            "features.27\n",
            "features.30\n",
            "features.33\n",
            "tensor(0.1551, grad_fn=<DivBackward0>)\n",
            "features.36\n",
            "features.40\n",
            "features.43\n"
          ]
        },
        {
          "output_type": "stream",
          "name": "stderr",
          "text": [
            "64it [00:00, 82.73it/s]\n"
          ]
        },
        {
          "output_type": "stream",
          "name": "stdout",
          "text": [
            "features.46\n",
            "features.49\n",
            "!!\n"
          ]
        },
        {
          "output_type": "stream",
          "name": "stderr",
          "text": [
            "\r0it [00:00, ?it/s]"
          ]
        },
        {
          "output_type": "stream",
          "name": "stdout",
          "text": [
            "features.0\n",
            "features.3\n",
            "features.7\n",
            "features.10\n",
            "features.14\n",
            "features.17\n"
          ]
        },
        {
          "output_type": "stream",
          "name": "stderr",
          "text": [
            "\r30it [00:00, 241.80it/s]"
          ]
        },
        {
          "output_type": "stream",
          "name": "stdout",
          "text": [
            "features.20\n",
            "features.23\n",
            "features.27\n",
            "features.30\n",
            "features.33\n",
            "tensor(0.1681, grad_fn=<DivBackward0>)\n",
            "features.36\n",
            "features.40\n",
            "features.43\n",
            "features.46\n"
          ]
        },
        {
          "output_type": "stream",
          "name": "stderr",
          "text": [
            "64it [00:00, 81.38it/s]\n"
          ]
        },
        {
          "output_type": "stream",
          "name": "stdout",
          "text": [
            "features.49\n",
            "!!\n"
          ]
        },
        {
          "output_type": "stream",
          "name": "stderr",
          "text": [
            "\r0it [00:00, ?it/s]"
          ]
        },
        {
          "output_type": "stream",
          "name": "stdout",
          "text": [
            "features.0\n",
            "features.3\n",
            "features.7\n",
            "features.10\n",
            "features.14\n",
            "features.17\n",
            "features.20\n",
            "features.23\n",
            "features.27\n"
          ]
        },
        {
          "output_type": "stream",
          "name": "stderr",
          "text": [
            "\r30it [00:00, 212.05it/s]"
          ]
        },
        {
          "output_type": "stream",
          "name": "stdout",
          "text": [
            "features.30\n",
            "features.33\n",
            "tensor(0.1605, grad_fn=<DivBackward0>)\n",
            "features.36\n",
            "features.40\n",
            "features.43\n"
          ]
        },
        {
          "output_type": "stream",
          "name": "stderr",
          "text": [
            "64it [00:00, 80.20it/s]\n"
          ]
        },
        {
          "output_type": "stream",
          "name": "stdout",
          "text": [
            "features.46\n",
            "features.49\n",
            "!!\n"
          ]
        },
        {
          "output_type": "stream",
          "name": "stderr",
          "text": [
            "\r0it [00:00, ?it/s]"
          ]
        },
        {
          "output_type": "stream",
          "name": "stdout",
          "text": [
            "features.0\n",
            "features.3\n",
            "features.7\n",
            "features.10\n",
            "features.14\n",
            "features.17\n"
          ]
        },
        {
          "output_type": "stream",
          "name": "stderr",
          "text": [
            "\r26it [00:00, 219.20it/s]"
          ]
        },
        {
          "output_type": "stream",
          "name": "stdout",
          "text": [
            "features.20\n",
            "features.23\n",
            "features.27\n",
            "features.30\n",
            "features.33\n",
            "tensor(0.1609, grad_fn=<DivBackward0>)\n",
            "features.36\n",
            "features.40\n",
            "features.43\n"
          ]
        },
        {
          "output_type": "stream",
          "name": "stderr",
          "text": [
            "64it [00:00, 78.73it/s]\n"
          ]
        },
        {
          "output_type": "stream",
          "name": "stdout",
          "text": [
            "features.46\n",
            "features.49\n",
            "!!\n"
          ]
        },
        {
          "output_type": "stream",
          "name": "stderr",
          "text": [
            "\r0it [00:00, ?it/s]"
          ]
        },
        {
          "output_type": "stream",
          "name": "stdout",
          "text": [
            "features.0\n",
            "features.3\n",
            "features.7\n",
            "features.10\n",
            "features.14\n",
            "features.17\n"
          ]
        },
        {
          "output_type": "stream",
          "name": "stderr",
          "text": [
            "\r30it [00:00, 230.52it/s]"
          ]
        },
        {
          "output_type": "stream",
          "name": "stdout",
          "text": [
            "features.20\n",
            "features.23\n",
            "features.27\n",
            "features.30\n",
            "features.33\n",
            "tensor(0.1656, grad_fn=<DivBackward0>)\n",
            "features.36\n",
            "features.40\n",
            "features.43\n"
          ]
        },
        {
          "output_type": "stream",
          "name": "stderr",
          "text": [
            "64it [00:00, 82.29it/s]\n"
          ]
        },
        {
          "output_type": "stream",
          "name": "stdout",
          "text": [
            "features.46\n",
            "features.49\n",
            "!!\n"
          ]
        },
        {
          "output_type": "stream",
          "name": "stderr",
          "text": [
            "\r0it [00:00, ?it/s]"
          ]
        },
        {
          "output_type": "stream",
          "name": "stdout",
          "text": [
            "features.0\n",
            "features.3\n",
            "features.7\n",
            "features.10\n",
            "features.14\n"
          ]
        },
        {
          "output_type": "stream",
          "name": "stderr",
          "text": [
            "\r26it [00:00, 242.62it/s]"
          ]
        },
        {
          "output_type": "stream",
          "name": "stdout",
          "text": [
            "features.17\n",
            "features.20\n",
            "features.23\n",
            "features.27\n",
            "features.30\n",
            "features.33\n",
            "tensor(0.1650, grad_fn=<DivBackward0>)\n",
            "features.36\n",
            "features.40\n",
            "features.43\n"
          ]
        },
        {
          "output_type": "stream",
          "name": "stderr",
          "text": [
            "\r51it [00:00, 59.50it/s] "
          ]
        },
        {
          "output_type": "stream",
          "name": "stdout",
          "text": [
            "features.46\n",
            "features.49\n"
          ]
        },
        {
          "output_type": "stream",
          "name": "stderr",
          "text": [
            "64it [00:00, 71.23it/s]\n"
          ]
        },
        {
          "output_type": "stream",
          "name": "stdout",
          "text": [
            "!!\n"
          ]
        },
        {
          "output_type": "stream",
          "name": "stderr",
          "text": [
            "26it [00:00, 209.23it/s]"
          ]
        },
        {
          "output_type": "stream",
          "name": "stdout",
          "text": [
            "features.0\n",
            "features.3\n",
            "features.7\n",
            "features.10\n",
            "features.14\n",
            "features.17\n",
            "features.20\n",
            "features.23\n",
            "features.27\n",
            "features.30\n",
            "features.33\n",
            "tensor(0.1698, grad_fn=<DivBackward0>)\n",
            "features.36\n",
            "features.40\n"
          ]
        },
        {
          "output_type": "stream",
          "name": "stderr",
          "text": [
            "\r47it [00:00, 40.98it/s] "
          ]
        },
        {
          "output_type": "stream",
          "name": "stdout",
          "text": [
            "features.43\n",
            "features.46\n"
          ]
        },
        {
          "output_type": "stream",
          "name": "stderr",
          "text": [
            "64it [00:01, 51.24it/s]\n"
          ]
        },
        {
          "output_type": "stream",
          "name": "stdout",
          "text": [
            "features.49\n",
            "!!\n"
          ]
        },
        {
          "output_type": "stream",
          "name": "stderr",
          "text": [
            "\r0it [00:00, ?it/s]"
          ]
        },
        {
          "output_type": "stream",
          "name": "stdout",
          "text": [
            "features.0\n",
            "features.3\n",
            "features.7\n",
            "features.10\n",
            "features.14\n",
            "features.17\n"
          ]
        },
        {
          "output_type": "stream",
          "name": "stderr",
          "text": [
            "\r23it [00:00, 218.71it/s]"
          ]
        },
        {
          "output_type": "stream",
          "name": "stdout",
          "text": [
            "features.20\n",
            "features.23\n",
            "features.27\n",
            "features.30\n",
            "features.33\n",
            "tensor(0.1622, grad_fn=<DivBackward0>)\n",
            "features.36\n",
            "features.40\n"
          ]
        },
        {
          "output_type": "stream",
          "name": "stderr",
          "text": [
            "\r45it [00:00, 44.92it/s] "
          ]
        },
        {
          "output_type": "stream",
          "name": "stdout",
          "text": [
            "features.43\n",
            "features.46\n"
          ]
        },
        {
          "output_type": "stream",
          "name": "stderr",
          "text": [
            "64it [00:01, 51.35it/s]\n"
          ]
        },
        {
          "output_type": "stream",
          "name": "stdout",
          "text": [
            "features.49\n",
            "!!\n"
          ]
        },
        {
          "output_type": "stream",
          "name": "stderr",
          "text": [
            "\r0it [00:00, ?it/s]"
          ]
        },
        {
          "output_type": "stream",
          "name": "stdout",
          "text": [
            "features.0\n",
            "features.3\n",
            "features.7\n",
            "features.10\n",
            "features.14\n",
            "features.17\n"
          ]
        },
        {
          "output_type": "stream",
          "name": "stderr",
          "text": [
            "\r23it [00:00, 203.66it/s]"
          ]
        },
        {
          "output_type": "stream",
          "name": "stdout",
          "text": [
            "features.20\n",
            "features.23\n",
            "features.27\n",
            "features.30\n",
            "features.33\n",
            "tensor(0.1672, grad_fn=<DivBackward0>)\n",
            "features.36\n",
            "features.40\n"
          ]
        },
        {
          "output_type": "stream",
          "name": "stderr",
          "text": [
            "\r44it [00:00, 39.40it/s] "
          ]
        },
        {
          "output_type": "stream",
          "name": "stdout",
          "text": [
            "features.43\n",
            "features.46\n"
          ]
        },
        {
          "output_type": "stream",
          "name": "stderr",
          "text": [
            "64it [00:01, 46.36it/s]\n"
          ]
        },
        {
          "output_type": "stream",
          "name": "stdout",
          "text": [
            "features.49\n",
            "!!\n"
          ]
        },
        {
          "output_type": "stream",
          "name": "stderr",
          "text": [
            "\r0it [00:00, ?it/s]"
          ]
        },
        {
          "output_type": "stream",
          "name": "stdout",
          "text": [
            "features.0\n",
            "features.3\n",
            "features.7\n",
            "features.10\n",
            "features.14\n",
            "features.17\n"
          ]
        },
        {
          "output_type": "stream",
          "name": "stderr",
          "text": [
            "\r23it [00:00, 175.55it/s]"
          ]
        },
        {
          "output_type": "stream",
          "name": "stdout",
          "text": [
            "features.20\n",
            "features.23\n",
            "features.27\n",
            "features.30\n",
            "features.33\n"
          ]
        },
        {
          "output_type": "stream",
          "name": "stderr",
          "text": [
            "\r41it [00:00, 42.10it/s] "
          ]
        },
        {
          "output_type": "stream",
          "name": "stdout",
          "text": [
            "tensor(0.1635, grad_fn=<DivBackward0>)\n",
            "features.36\n",
            "features.40\n",
            "features.43\n",
            "features.46\n"
          ]
        },
        {
          "output_type": "stream",
          "name": "stderr",
          "text": [
            "64it [00:01, 47.14it/s]\n"
          ]
        },
        {
          "output_type": "stream",
          "name": "stdout",
          "text": [
            "features.49\n",
            "!!\n"
          ]
        },
        {
          "output_type": "stream",
          "name": "stderr",
          "text": [
            "\r0it [00:00, ?it/s]"
          ]
        },
        {
          "output_type": "stream",
          "name": "stdout",
          "text": [
            "features.0\n",
            "features.3\n",
            "features.7\n",
            "features.10\n",
            "features.14\n",
            "features.17\n"
          ]
        },
        {
          "output_type": "stream",
          "name": "stderr",
          "text": [
            "\r23it [00:00, 213.37it/s]"
          ]
        },
        {
          "output_type": "stream",
          "name": "stdout",
          "text": [
            "features.20\n",
            "features.23\n",
            "features.27\n",
            "features.30\n",
            "features.33\n"
          ]
        },
        {
          "output_type": "stream",
          "name": "stderr",
          "text": [
            "\r45it [00:00, 57.31it/s] "
          ]
        },
        {
          "output_type": "stream",
          "name": "stdout",
          "text": [
            "tensor(0.1655, grad_fn=<DivBackward0>)\n",
            "features.36\n",
            "features.40\n",
            "features.43\n"
          ]
        },
        {
          "output_type": "stream",
          "name": "stderr",
          "text": [
            "64it [00:00, 69.61it/s]\n"
          ]
        },
        {
          "output_type": "stream",
          "name": "stdout",
          "text": [
            "features.46\n",
            "features.49\n",
            "!!\n"
          ]
        },
        {
          "output_type": "stream",
          "name": "stderr",
          "text": [
            "\r0it [00:00, ?it/s]"
          ]
        },
        {
          "output_type": "stream",
          "name": "stdout",
          "text": [
            "features.0\n",
            "features.3\n",
            "features.7\n",
            "features.10\n",
            "features.14\n",
            "features.17\n"
          ]
        },
        {
          "output_type": "stream",
          "name": "stderr",
          "text": [
            "\r26it [00:00, 249.55it/s]"
          ]
        },
        {
          "output_type": "stream",
          "name": "stdout",
          "text": [
            "features.20\n",
            "features.23\n",
            "features.27\n",
            "features.30\n",
            "features.33\n",
            "tensor(0.1601, grad_fn=<DivBackward0>)\n",
            "features.36\n",
            "features.40\n",
            "features.43\n"
          ]
        },
        {
          "output_type": "stream",
          "name": "stderr",
          "text": [
            "64it [00:00, 78.93it/s]\n"
          ]
        },
        {
          "output_type": "stream",
          "name": "stdout",
          "text": [
            "features.46\n",
            "features.49\n",
            "!!\n"
          ]
        },
        {
          "output_type": "stream",
          "name": "stderr",
          "text": [
            "\r0it [00:00, ?it/s]"
          ]
        },
        {
          "output_type": "stream",
          "name": "stdout",
          "text": [
            "features.0\n",
            "features.3\n",
            "features.7\n",
            "features.10\n",
            "features.14\n",
            "features.17\n"
          ]
        },
        {
          "output_type": "stream",
          "name": "stderr",
          "text": [
            "\r30it [00:00, 237.92it/s]"
          ]
        },
        {
          "output_type": "stream",
          "name": "stdout",
          "text": [
            "features.20\n",
            "features.23\n",
            "features.27\n",
            "features.30\n",
            "features.33\n",
            "tensor(0.1660, grad_fn=<DivBackward0>)\n",
            "features.36\n",
            "features.40\n",
            "features.43\n"
          ]
        },
        {
          "output_type": "stream",
          "name": "stderr",
          "text": [
            "64it [00:00, 82.01it/s]\n"
          ]
        },
        {
          "output_type": "stream",
          "name": "stdout",
          "text": [
            "features.46\n",
            "features.49\n",
            "!!\n"
          ]
        },
        {
          "output_type": "stream",
          "name": "stderr",
          "text": [
            "\r0it [00:00, ?it/s]"
          ]
        },
        {
          "output_type": "stream",
          "name": "stdout",
          "text": [
            "features.0\n",
            "features.3\n",
            "features.7\n",
            "features.10\n",
            "features.14\n",
            "features.17\n"
          ]
        },
        {
          "output_type": "stream",
          "name": "stderr",
          "text": [
            "\r26it [00:00, 259.85it/s]"
          ]
        },
        {
          "output_type": "stream",
          "name": "stdout",
          "text": [
            "features.20\n",
            "features.23\n",
            "features.27\n",
            "features.30\n",
            "features.33\n",
            "tensor(0.1677, grad_fn=<DivBackward0>)\n",
            "features.36\n",
            "features.40\n",
            "features.43\n"
          ]
        },
        {
          "output_type": "stream",
          "name": "stderr",
          "text": [
            "64it [00:00, 80.60it/s]\n"
          ]
        },
        {
          "output_type": "stream",
          "name": "stdout",
          "text": [
            "features.46\n",
            "features.49\n",
            "!!\n"
          ]
        },
        {
          "output_type": "stream",
          "name": "stderr",
          "text": [
            "\r0it [00:00, ?it/s]"
          ]
        },
        {
          "output_type": "stream",
          "name": "stdout",
          "text": [
            "features.0\n",
            "features.3\n",
            "features.7\n",
            "features.10\n",
            "features.14\n"
          ]
        },
        {
          "output_type": "stream",
          "name": "stderr",
          "text": [
            "\r26it [00:00, 239.53it/s]"
          ]
        },
        {
          "output_type": "stream",
          "name": "stdout",
          "text": [
            "features.17\n",
            "features.20\n",
            "features.23\n",
            "features.27\n",
            "features.30\n",
            "features.33\n",
            "tensor(0.1691, grad_fn=<DivBackward0>)\n",
            "features.36\n",
            "features.40\n",
            "features.43\n"
          ]
        },
        {
          "output_type": "stream",
          "name": "stderr",
          "text": [
            "64it [00:00, 81.47it/s]\n"
          ]
        },
        {
          "output_type": "stream",
          "name": "stdout",
          "text": [
            "features.46\n",
            "features.49\n",
            "!!\n"
          ]
        },
        {
          "output_type": "stream",
          "name": "stderr",
          "text": [
            "\r0it [00:00, ?it/s]"
          ]
        },
        {
          "output_type": "stream",
          "name": "stdout",
          "text": [
            "features.0\n",
            "features.3\n",
            "features.7\n",
            "features.10\n",
            "features.14\n",
            "features.17\n"
          ]
        },
        {
          "output_type": "stream",
          "name": "stderr",
          "text": [
            "\r26it [00:00, 247.13it/s]"
          ]
        },
        {
          "output_type": "stream",
          "name": "stdout",
          "text": [
            "features.20\n",
            "features.23\n",
            "features.27\n",
            "features.30\n",
            "features.33\n",
            "tensor(0.1646, grad_fn=<DivBackward0>)\n",
            "features.36\n",
            "features.40\n",
            "features.43\n"
          ]
        },
        {
          "output_type": "stream",
          "name": "stderr",
          "text": [
            "64it [00:00, 80.12it/s]\n"
          ]
        },
        {
          "output_type": "stream",
          "name": "stdout",
          "text": [
            "features.46\n",
            "features.49\n",
            "!!\n"
          ]
        },
        {
          "output_type": "stream",
          "name": "stderr",
          "text": [
            "\r0it [00:00, ?it/s]"
          ]
        },
        {
          "output_type": "stream",
          "name": "stdout",
          "text": [
            "features.0\n",
            "features.3\n",
            "features.7\n",
            "features.10\n",
            "features.14\n",
            "features.17\n"
          ]
        },
        {
          "output_type": "stream",
          "name": "stderr",
          "text": [
            "\r30it [00:00, 233.02it/s]"
          ]
        },
        {
          "output_type": "stream",
          "name": "stdout",
          "text": [
            "features.20\n",
            "features.23\n",
            "features.27\n",
            "features.30\n",
            "features.33\n",
            "tensor(0.1657, grad_fn=<DivBackward0>)\n",
            "features.36\n",
            "features.40\n",
            "features.43\n"
          ]
        },
        {
          "output_type": "stream",
          "name": "stderr",
          "text": [
            "64it [00:00, 80.00it/s]\n"
          ]
        },
        {
          "output_type": "stream",
          "name": "stdout",
          "text": [
            "features.46\n",
            "features.49\n",
            "!!\n"
          ]
        },
        {
          "output_type": "stream",
          "name": "stderr",
          "text": [
            "\r0it [00:00, ?it/s]"
          ]
        },
        {
          "output_type": "stream",
          "name": "stdout",
          "text": [
            "features.0\n",
            "features.3\n",
            "features.7\n",
            "features.10\n",
            "features.14\n",
            "features.17\n"
          ]
        },
        {
          "output_type": "stream",
          "name": "stderr",
          "text": [
            "\r30it [00:00, 234.38it/s]"
          ]
        },
        {
          "output_type": "stream",
          "name": "stdout",
          "text": [
            "features.20\n",
            "features.23\n",
            "features.27\n",
            "features.30\n",
            "features.33\n",
            "tensor(0.1615, grad_fn=<DivBackward0>)\n",
            "features.36\n",
            "features.40\n",
            "features.43\n"
          ]
        },
        {
          "output_type": "stream",
          "name": "stderr",
          "text": [
            "64it [00:00, 78.44it/s]\n"
          ]
        },
        {
          "output_type": "stream",
          "name": "stdout",
          "text": [
            "features.46\n",
            "features.49\n",
            "!!\n"
          ]
        },
        {
          "output_type": "stream",
          "name": "stderr",
          "text": [
            "\r0it [00:00, ?it/s]"
          ]
        },
        {
          "output_type": "stream",
          "name": "stdout",
          "text": [
            "features.0\n",
            "features.3\n",
            "features.7\n",
            "features.10\n",
            "features.14\n"
          ]
        },
        {
          "output_type": "stream",
          "name": "stderr",
          "text": [
            "\r30it [00:00, 230.96it/s]"
          ]
        },
        {
          "output_type": "stream",
          "name": "stdout",
          "text": [
            "features.17\n",
            "features.20\n",
            "features.23\n",
            "features.27\n",
            "features.30\n",
            "features.33\n",
            "tensor(0.1570, grad_fn=<DivBackward0>)\n",
            "features.36\n",
            "features.40\n",
            "features.43\n"
          ]
        },
        {
          "output_type": "stream",
          "name": "stderr",
          "text": [
            "64it [00:00, 83.02it/s]\n"
          ]
        },
        {
          "output_type": "stream",
          "name": "stdout",
          "text": [
            "features.46\n",
            "features.49\n",
            "!!\n"
          ]
        },
        {
          "output_type": "stream",
          "name": "stderr",
          "text": [
            "\r0it [00:00, ?it/s]"
          ]
        },
        {
          "output_type": "stream",
          "name": "stdout",
          "text": [
            "features.0\n",
            "features.3\n",
            "features.7\n",
            "features.10\n",
            "features.14\n",
            "features.17\n"
          ]
        },
        {
          "output_type": "stream",
          "name": "stderr",
          "text": [
            "\r26it [00:00, 257.29it/s]"
          ]
        },
        {
          "output_type": "stream",
          "name": "stdout",
          "text": [
            "features.20\n",
            "features.23\n",
            "features.27\n",
            "features.30\n",
            "features.33\n",
            "tensor(0.1673, grad_fn=<DivBackward0>)\n",
            "features.36\n",
            "features.40\n",
            "features.43\n"
          ]
        },
        {
          "output_type": "stream",
          "name": "stderr",
          "text": [
            "64it [00:00, 79.85it/s]\n"
          ]
        },
        {
          "output_type": "stream",
          "name": "stdout",
          "text": [
            "features.46\n",
            "features.49\n",
            "!!\n"
          ]
        },
        {
          "output_type": "stream",
          "name": "stderr",
          "text": [
            "\r0it [00:00, ?it/s]"
          ]
        },
        {
          "output_type": "stream",
          "name": "stdout",
          "text": [
            "features.0\n",
            "features.3\n",
            "features.7\n",
            "features.10\n",
            "features.14\n",
            "features.17\n"
          ]
        },
        {
          "output_type": "stream",
          "name": "stderr",
          "text": [
            "\r30it [00:00, 230.37it/s]"
          ]
        },
        {
          "output_type": "stream",
          "name": "stdout",
          "text": [
            "features.20\n",
            "features.23\n",
            "features.27\n",
            "features.30\n",
            "features.33\n",
            "tensor(0.1707, grad_fn=<DivBackward0>)\n",
            "features.36\n",
            "features.40\n",
            "features.43\n"
          ]
        },
        {
          "output_type": "stream",
          "name": "stderr",
          "text": [
            "64it [00:00, 82.05it/s]\n"
          ]
        },
        {
          "output_type": "stream",
          "name": "stdout",
          "text": [
            "features.46\n",
            "features.49\n",
            "!!\n"
          ]
        },
        {
          "output_type": "stream",
          "name": "stderr",
          "text": [
            "\r0it [00:00, ?it/s]"
          ]
        },
        {
          "output_type": "stream",
          "name": "stdout",
          "text": [
            "features.0\n",
            "features.3\n",
            "features.7\n",
            "features.10\n",
            "features.14\n",
            "features.17\n"
          ]
        },
        {
          "output_type": "stream",
          "name": "stderr",
          "text": [
            "\r30it [00:00, 230.58it/s]"
          ]
        },
        {
          "output_type": "stream",
          "name": "stdout",
          "text": [
            "features.20\n",
            "features.23\n",
            "features.27\n",
            "features.30\n",
            "features.33\n",
            "tensor(0.1661, grad_fn=<DivBackward0>)\n",
            "features.36\n",
            "features.40\n",
            "features.43\n"
          ]
        },
        {
          "output_type": "stream",
          "name": "stderr",
          "text": [
            "64it [00:00, 80.16it/s]\n"
          ]
        },
        {
          "output_type": "stream",
          "name": "stdout",
          "text": [
            "features.46\n",
            "features.49\n",
            "!!\n"
          ]
        },
        {
          "output_type": "stream",
          "name": "stderr",
          "text": [
            "\r0it [00:00, ?it/s]"
          ]
        },
        {
          "output_type": "stream",
          "name": "stdout",
          "text": [
            "features.0\n",
            "features.3\n",
            "features.7\n",
            "features.10\n",
            "features.14\n",
            "features.17\n"
          ]
        },
        {
          "output_type": "stream",
          "name": "stderr",
          "text": [
            "\r30it [00:00, 233.85it/s]"
          ]
        },
        {
          "output_type": "stream",
          "name": "stdout",
          "text": [
            "features.20\n",
            "features.23\n",
            "features.27\n",
            "features.30\n",
            "features.33\n",
            "tensor(0.1676, grad_fn=<DivBackward0>)\n",
            "features.36\n",
            "features.40\n",
            "features.43\n",
            "features.46\n",
            "features.49\n"
          ]
        },
        {
          "output_type": "stream",
          "name": "stderr",
          "text": [
            "64it [00:00, 68.97it/s]\n"
          ]
        },
        {
          "output_type": "stream",
          "name": "stdout",
          "text": [
            "!!\n"
          ]
        },
        {
          "output_type": "stream",
          "name": "stderr",
          "text": [
            "23it [00:00, 216.18it/s]"
          ]
        },
        {
          "output_type": "stream",
          "name": "stdout",
          "text": [
            "features.0\n",
            "features.3\n",
            "features.7\n",
            "features.10\n",
            "features.14\n",
            "features.17\n",
            "features.20\n",
            "features.23\n",
            "features.27\n",
            "features.30\n",
            "features.33\n",
            "tensor(0.1614, grad_fn=<DivBackward0>)\n",
            "features.36\n",
            "features.40\n"
          ]
        },
        {
          "output_type": "stream",
          "name": "stderr",
          "text": [
            "\r45it [00:00, 45.35it/s] "
          ]
        },
        {
          "output_type": "stream",
          "name": "stdout",
          "text": [
            "features.43\n",
            "features.46\n"
          ]
        },
        {
          "output_type": "stream",
          "name": "stderr",
          "text": [
            "64it [00:01, 52.45it/s]\n"
          ]
        },
        {
          "output_type": "stream",
          "name": "stdout",
          "text": [
            "features.49\n",
            "!!\n"
          ]
        },
        {
          "output_type": "stream",
          "name": "stderr",
          "text": [
            "\r0it [00:00, ?it/s]"
          ]
        },
        {
          "output_type": "stream",
          "name": "stdout",
          "text": [
            "features.0\n",
            "features.3\n",
            "features.7\n",
            "features.10\n",
            "features.14\n",
            "features.17\n"
          ]
        },
        {
          "output_type": "stream",
          "name": "stderr",
          "text": [
            "\r23it [00:00, 227.76it/s]"
          ]
        },
        {
          "output_type": "stream",
          "name": "stdout",
          "text": [
            "features.20\n",
            "features.23\n",
            "features.27\n",
            "features.30\n",
            "features.33\n",
            "tensor(0.1584, grad_fn=<DivBackward0>)\n",
            "features.36\n",
            "features.40\n"
          ]
        },
        {
          "output_type": "stream",
          "name": "stderr",
          "text": [
            "\r46it [00:01, 39.56it/s] "
          ]
        },
        {
          "output_type": "stream",
          "name": "stdout",
          "text": [
            "features.43\n",
            "features.46\n"
          ]
        },
        {
          "output_type": "stream",
          "name": "stderr",
          "text": [
            "64it [00:01, 50.39it/s]\n"
          ]
        },
        {
          "output_type": "stream",
          "name": "stdout",
          "text": [
            "features.49\n",
            "!!\n"
          ]
        },
        {
          "output_type": "stream",
          "name": "stderr",
          "text": [
            "\r0it [00:00, ?it/s]"
          ]
        },
        {
          "output_type": "stream",
          "name": "stdout",
          "text": [
            "features.0\n",
            "features.3\n",
            "features.7\n",
            "features.10\n",
            "features.14\n",
            "features.17\n"
          ]
        },
        {
          "output_type": "stream",
          "name": "stderr",
          "text": [
            "\r23it [00:00, 194.70it/s]"
          ]
        },
        {
          "output_type": "stream",
          "name": "stdout",
          "text": [
            "features.20\n",
            "features.23\n",
            "features.27\n",
            "features.30\n",
            "features.33\n",
            "tensor(0.1620, grad_fn=<DivBackward0>)\n",
            "features.36\n",
            "features.40\n"
          ]
        },
        {
          "output_type": "stream",
          "name": "stderr",
          "text": [
            "\r43it [00:00, 38.40it/s] "
          ]
        },
        {
          "output_type": "stream",
          "name": "stdout",
          "text": [
            "features.43\n",
            "features.46\n"
          ]
        },
        {
          "output_type": "stream",
          "name": "stderr",
          "text": [
            "64it [00:01, 46.96it/s]\n"
          ]
        },
        {
          "output_type": "stream",
          "name": "stdout",
          "text": [
            "features.49\n",
            "!!\n"
          ]
        },
        {
          "output_type": "stream",
          "name": "stderr",
          "text": [
            "\r0it [00:00, ?it/s]"
          ]
        },
        {
          "output_type": "stream",
          "name": "stdout",
          "text": [
            "features.0\n",
            "features.3\n",
            "features.7\n",
            "features.10\n",
            "features.14\n",
            "features.17\n"
          ]
        },
        {
          "output_type": "stream",
          "name": "stderr",
          "text": [
            "\r23it [00:00, 217.82it/s]"
          ]
        },
        {
          "output_type": "stream",
          "name": "stdout",
          "text": [
            "features.20\n",
            "features.23\n",
            "features.27\n",
            "features.30\n",
            "features.33\n",
            "tensor(0.1650, grad_fn=<DivBackward0>)\n",
            "features.36\n",
            "features.40\n"
          ]
        },
        {
          "output_type": "stream",
          "name": "stderr",
          "text": [
            "\r45it [00:00, 40.09it/s] "
          ]
        },
        {
          "output_type": "stream",
          "name": "stdout",
          "text": [
            "features.43\n",
            "features.46\n",
            "features.49\n"
          ]
        },
        {
          "output_type": "stream",
          "name": "stderr",
          "text": [
            "64it [00:01, 50.63it/s]\n"
          ]
        },
        {
          "output_type": "stream",
          "name": "stdout",
          "text": [
            "!!\n"
          ]
        },
        {
          "output_type": "stream",
          "name": "stderr",
          "text": [
            "26it [00:00, 257.63it/s]"
          ]
        },
        {
          "output_type": "stream",
          "name": "stdout",
          "text": [
            "features.0\n",
            "features.3\n",
            "features.7\n",
            "features.10\n",
            "features.14\n",
            "features.17\n",
            "features.20\n",
            "features.23\n",
            "features.27\n",
            "features.30\n",
            "features.33\n",
            "tensor(0.1585, grad_fn=<DivBackward0>)\n",
            "features.36\n",
            "features.40\n",
            "features.43\n"
          ]
        },
        {
          "output_type": "stream",
          "name": "stderr",
          "text": [
            "64it [00:00, 81.02it/s]\n"
          ]
        },
        {
          "output_type": "stream",
          "name": "stdout",
          "text": [
            "features.46\n",
            "features.49\n",
            "!!\n"
          ]
        },
        {
          "output_type": "stream",
          "name": "stderr",
          "text": [
            "\r0it [00:00, ?it/s]"
          ]
        },
        {
          "output_type": "stream",
          "name": "stdout",
          "text": [
            "features.0\n",
            "features.3\n",
            "features.7\n",
            "features.10\n",
            "features.14\n",
            "features.17\n"
          ]
        },
        {
          "output_type": "stream",
          "name": "stderr",
          "text": [
            "\r26it [00:00, 250.73it/s]"
          ]
        },
        {
          "output_type": "stream",
          "name": "stdout",
          "text": [
            "features.20\n",
            "features.23\n",
            "features.27\n",
            "features.30\n",
            "features.33\n",
            "tensor(0.1616, grad_fn=<DivBackward0>)\n",
            "features.36\n",
            "features.40\n",
            "features.43\n"
          ]
        },
        {
          "output_type": "stream",
          "name": "stderr",
          "text": [
            "64it [00:00, 80.21it/s]\n"
          ]
        },
        {
          "output_type": "stream",
          "name": "stdout",
          "text": [
            "features.46\n",
            "features.49\n",
            "!!\n"
          ]
        },
        {
          "output_type": "stream",
          "name": "stderr",
          "text": [
            "\r0it [00:00, ?it/s]"
          ]
        },
        {
          "output_type": "stream",
          "name": "stdout",
          "text": [
            "features.0\n",
            "features.3\n",
            "features.7\n",
            "features.10\n",
            "features.14\n",
            "features.17\n"
          ]
        },
        {
          "output_type": "stream",
          "name": "stderr",
          "text": [
            "\r26it [00:00, 253.43it/s]"
          ]
        },
        {
          "output_type": "stream",
          "name": "stdout",
          "text": [
            "features.20\n",
            "features.23\n",
            "features.27\n",
            "features.30\n",
            "features.33\n",
            "tensor(0.1623, grad_fn=<DivBackward0>)\n",
            "features.36\n",
            "features.40\n",
            "features.43\n"
          ]
        },
        {
          "output_type": "stream",
          "name": "stderr",
          "text": [
            "64it [00:00, 80.59it/s]\n"
          ]
        },
        {
          "output_type": "stream",
          "name": "stdout",
          "text": [
            "features.46\n",
            "features.49\n",
            "!!\n"
          ]
        },
        {
          "output_type": "stream",
          "name": "stderr",
          "text": [
            "\r0it [00:00, ?it/s]"
          ]
        },
        {
          "output_type": "stream",
          "name": "stdout",
          "text": [
            "features.0\n",
            "features.3\n",
            "features.7\n",
            "features.10\n",
            "features.14\n",
            "features.17\n"
          ]
        },
        {
          "output_type": "stream",
          "name": "stderr",
          "text": [
            "\r26it [00:00, 258.57it/s]"
          ]
        },
        {
          "output_type": "stream",
          "name": "stdout",
          "text": [
            "features.20\n",
            "features.23\n",
            "features.27\n",
            "features.30\n",
            "features.33\n",
            "tensor(0.1659, grad_fn=<DivBackward0>)\n",
            "features.36\n",
            "features.40\n",
            "features.43\n"
          ]
        },
        {
          "output_type": "stream",
          "name": "stderr",
          "text": [
            "64it [00:00, 80.49it/s]\n"
          ]
        },
        {
          "output_type": "stream",
          "name": "stdout",
          "text": [
            "features.46\n",
            "features.49\n",
            "!!\n"
          ]
        },
        {
          "output_type": "stream",
          "name": "stderr",
          "text": [
            "\r0it [00:00, ?it/s]"
          ]
        },
        {
          "output_type": "stream",
          "name": "stdout",
          "text": [
            "features.0\n",
            "features.3\n",
            "features.7\n",
            "features.10\n",
            "features.14\n"
          ]
        },
        {
          "output_type": "stream",
          "name": "stderr",
          "text": [
            "\r26it [00:00, 232.50it/s]"
          ]
        },
        {
          "output_type": "stream",
          "name": "stdout",
          "text": [
            "features.17\n",
            "features.20\n",
            "features.23\n",
            "features.27\n",
            "features.30\n",
            "features.33\n",
            "tensor(0.1681, grad_fn=<DivBackward0>)\n",
            "features.36\n",
            "features.40\n",
            "features.43\n"
          ]
        },
        {
          "output_type": "stream",
          "name": "stderr",
          "text": [
            "64it [00:00, 81.26it/s]\n"
          ]
        },
        {
          "output_type": "stream",
          "name": "stdout",
          "text": [
            "features.46\n",
            "features.49\n",
            "!!\n"
          ]
        },
        {
          "output_type": "stream",
          "name": "stderr",
          "text": [
            "\r0it [00:00, ?it/s]"
          ]
        },
        {
          "output_type": "stream",
          "name": "stdout",
          "text": [
            "features.0\n",
            "features.3\n",
            "features.7\n",
            "features.10\n",
            "features.14\n",
            "features.17\n"
          ]
        },
        {
          "output_type": "stream",
          "name": "stderr",
          "text": [
            "\r26it [00:00, 253.61it/s]"
          ]
        },
        {
          "output_type": "stream",
          "name": "stdout",
          "text": [
            "features.20\n",
            "features.23\n",
            "features.27\n",
            "features.30\n",
            "features.33\n",
            "tensor(0.1678, grad_fn=<DivBackward0>)\n",
            "features.36\n",
            "features.40\n",
            "features.43\n"
          ]
        },
        {
          "output_type": "stream",
          "name": "stderr",
          "text": [
            "64it [00:00, 80.81it/s]\n"
          ]
        },
        {
          "output_type": "stream",
          "name": "stdout",
          "text": [
            "features.46\n",
            "features.49\n",
            "!!\n"
          ]
        },
        {
          "output_type": "stream",
          "name": "stderr",
          "text": [
            "\r0it [00:00, ?it/s]"
          ]
        },
        {
          "output_type": "stream",
          "name": "stdout",
          "text": [
            "features.0\n",
            "features.3\n",
            "features.7\n",
            "features.10\n",
            "features.14\n",
            "features.17\n"
          ]
        },
        {
          "output_type": "stream",
          "name": "stderr",
          "text": [
            "\r26it [00:00, 253.73it/s]"
          ]
        },
        {
          "output_type": "stream",
          "name": "stdout",
          "text": [
            "features.20\n",
            "features.23\n",
            "features.27\n",
            "features.30\n",
            "features.33\n",
            "tensor(0.1639, grad_fn=<DivBackward0>)\n",
            "features.36\n",
            "features.40\n",
            "features.43\n"
          ]
        },
        {
          "output_type": "stream",
          "name": "stderr",
          "text": [
            "64it [00:00, 81.78it/s]\n"
          ]
        },
        {
          "output_type": "stream",
          "name": "stdout",
          "text": [
            "features.46\n",
            "features.49\n",
            "!!\n"
          ]
        },
        {
          "output_type": "stream",
          "name": "stderr",
          "text": [
            "\r0it [00:00, ?it/s]"
          ]
        },
        {
          "output_type": "stream",
          "name": "stdout",
          "text": [
            "features.0\n",
            "features.3\n",
            "features.7\n",
            "features.10\n",
            "features.14\n",
            "features.17\n"
          ]
        },
        {
          "output_type": "stream",
          "name": "stderr",
          "text": [
            "\r30it [00:00, 226.91it/s]"
          ]
        },
        {
          "output_type": "stream",
          "name": "stdout",
          "text": [
            "features.20\n",
            "features.23\n",
            "features.27\n",
            "features.30\n",
            "features.33\n",
            "tensor(0.1653, grad_fn=<DivBackward0>)\n",
            "features.36\n",
            "features.40\n",
            "features.43\n"
          ]
        },
        {
          "output_type": "stream",
          "name": "stderr",
          "text": [
            "64it [00:00, 80.98it/s]\n"
          ]
        },
        {
          "output_type": "stream",
          "name": "stdout",
          "text": [
            "features.46\n",
            "features.49\n",
            "!!\n"
          ]
        },
        {
          "output_type": "stream",
          "name": "stderr",
          "text": [
            "\r0it [00:00, ?it/s]"
          ]
        },
        {
          "output_type": "stream",
          "name": "stdout",
          "text": [
            "features.0\n",
            "features.3\n",
            "features.7\n",
            "features.10\n",
            "features.14\n",
            "features.17\n"
          ]
        },
        {
          "output_type": "stream",
          "name": "stderr",
          "text": [
            "\r26it [00:00, 250.83it/s]"
          ]
        },
        {
          "output_type": "stream",
          "name": "stdout",
          "text": [
            "features.20\n",
            "features.23\n",
            "features.27\n",
            "features.30\n",
            "features.33\n",
            "tensor(0.1657, grad_fn=<DivBackward0>)\n",
            "features.36\n",
            "features.40\n",
            "features.43\n"
          ]
        },
        {
          "output_type": "stream",
          "name": "stderr",
          "text": [
            "64it [00:00, 80.37it/s]\n"
          ]
        },
        {
          "output_type": "stream",
          "name": "stdout",
          "text": [
            "features.46\n",
            "features.49\n",
            "!!\n"
          ]
        },
        {
          "output_type": "stream",
          "name": "stderr",
          "text": [
            "\r0it [00:00, ?it/s]"
          ]
        },
        {
          "output_type": "stream",
          "name": "stdout",
          "text": [
            "features.0\n",
            "features.3\n",
            "features.7\n",
            "features.10\n",
            "features.14\n"
          ]
        },
        {
          "output_type": "stream",
          "name": "stderr",
          "text": [
            "\r26it [00:00, 249.52it/s]"
          ]
        },
        {
          "output_type": "stream",
          "name": "stdout",
          "text": [
            "features.17\n",
            "features.20\n",
            "features.23\n",
            "features.27\n",
            "features.30\n",
            "features.33\n",
            "tensor(0.1640, grad_fn=<DivBackward0>)\n",
            "features.36\n",
            "features.40\n",
            "features.43\n"
          ]
        },
        {
          "output_type": "stream",
          "name": "stderr",
          "text": [
            "64it [00:00, 80.83it/s]\n"
          ]
        },
        {
          "output_type": "stream",
          "name": "stdout",
          "text": [
            "features.46\n",
            "features.49\n",
            "!!\n"
          ]
        },
        {
          "output_type": "stream",
          "name": "stderr",
          "text": [
            "\r0it [00:00, ?it/s]"
          ]
        },
        {
          "output_type": "stream",
          "name": "stdout",
          "text": [
            "features.0\n",
            "features.3\n",
            "features.7\n",
            "features.10\n",
            "features.14\n",
            "features.17\n"
          ]
        },
        {
          "output_type": "stream",
          "name": "stderr",
          "text": [
            "\r30it [00:00, 233.83it/s]"
          ]
        },
        {
          "output_type": "stream",
          "name": "stdout",
          "text": [
            "features.20\n",
            "features.23\n",
            "features.27\n",
            "features.30\n",
            "features.33\n",
            "tensor(0.1702, grad_fn=<DivBackward0>)\n",
            "features.36\n",
            "features.40\n",
            "features.43\n"
          ]
        },
        {
          "output_type": "stream",
          "name": "stderr",
          "text": [
            "64it [00:00, 81.46it/s]\n"
          ]
        },
        {
          "output_type": "stream",
          "name": "stdout",
          "text": [
            "features.46\n",
            "features.49\n",
            "!!\n"
          ]
        },
        {
          "output_type": "stream",
          "name": "stderr",
          "text": [
            "\r0it [00:00, ?it/s]"
          ]
        },
        {
          "output_type": "stream",
          "name": "stdout",
          "text": [
            "features.0\n",
            "features.3\n",
            "features.7\n",
            "features.10\n",
            "features.14\n",
            "features.17\n"
          ]
        },
        {
          "output_type": "stream",
          "name": "stderr",
          "text": [
            "\r26it [00:00, 253.94it/s]"
          ]
        },
        {
          "output_type": "stream",
          "name": "stdout",
          "text": [
            "features.20\n",
            "features.23\n",
            "features.27\n",
            "features.30\n",
            "features.33\n",
            "tensor(0.1676, grad_fn=<DivBackward0>)\n",
            "features.36\n",
            "features.40\n",
            "features.43\n"
          ]
        },
        {
          "output_type": "stream",
          "name": "stderr",
          "text": [
            "64it [00:00, 78.92it/s]\n"
          ]
        },
        {
          "output_type": "stream",
          "name": "stdout",
          "text": [
            "features.46\n",
            "features.49\n",
            "!!\n"
          ]
        },
        {
          "output_type": "stream",
          "name": "stderr",
          "text": [
            "\r0it [00:00, ?it/s]"
          ]
        },
        {
          "output_type": "stream",
          "name": "stdout",
          "text": [
            "features.0\n",
            "features.3\n",
            "features.7\n",
            "features.10\n",
            "features.14\n",
            "features.17\n"
          ]
        },
        {
          "output_type": "stream",
          "name": "stderr",
          "text": [
            "\r26it [00:00, 259.66it/s]"
          ]
        },
        {
          "output_type": "stream",
          "name": "stdout",
          "text": [
            "features.20\n",
            "features.23\n",
            "features.27\n",
            "features.30\n",
            "features.33\n",
            "tensor(0.1664, grad_fn=<DivBackward0>)\n",
            "features.36\n",
            "features.40\n",
            "features.43\n",
            "features.46\n"
          ]
        },
        {
          "output_type": "stream",
          "name": "stderr",
          "text": [
            "64it [00:01, 52.64it/s]\n"
          ]
        },
        {
          "output_type": "stream",
          "name": "stdout",
          "text": [
            "features.49\n",
            "!!\n"
          ]
        },
        {
          "output_type": "stream",
          "name": "stderr",
          "text": [
            "\r0it [00:00, ?it/s]"
          ]
        },
        {
          "output_type": "stream",
          "name": "stdout",
          "text": [
            "features.0\n",
            "features.3\n",
            "features.7\n",
            "features.10\n",
            "features.14\n",
            "features.17\n"
          ]
        },
        {
          "output_type": "stream",
          "name": "stderr",
          "text": [
            "\r23it [00:00, 212.95it/s]"
          ]
        },
        {
          "output_type": "stream",
          "name": "stdout",
          "text": [
            "features.20\n",
            "features.23\n",
            "features.27\n",
            "features.30\n",
            "features.33\n",
            "tensor(0.1695, grad_fn=<DivBackward0>)\n",
            "features.36\n",
            "features.40\n"
          ]
        },
        {
          "output_type": "stream",
          "name": "stderr",
          "text": [
            "\r45it [00:00, 46.04it/s] "
          ]
        },
        {
          "output_type": "stream",
          "name": "stdout",
          "text": [
            "features.43\n",
            "features.46\n"
          ]
        },
        {
          "output_type": "stream",
          "name": "stderr",
          "text": [
            "64it [00:01, 51.85it/s]\n"
          ]
        },
        {
          "output_type": "stream",
          "name": "stdout",
          "text": [
            "features.49\n",
            "!!\n"
          ]
        },
        {
          "output_type": "stream",
          "name": "stderr",
          "text": [
            "\r0it [00:00, ?it/s]"
          ]
        },
        {
          "output_type": "stream",
          "name": "stdout",
          "text": [
            "features.0\n",
            "features.3\n",
            "features.7\n",
            "features.10\n",
            "features.14\n",
            "features.17\n"
          ]
        },
        {
          "output_type": "stream",
          "name": "stderr",
          "text": [
            "\r23it [00:00, 222.07it/s]"
          ]
        },
        {
          "output_type": "stream",
          "name": "stdout",
          "text": [
            "features.20\n",
            "features.23\n",
            "features.27\n",
            "features.30\n",
            "features.33\n",
            "tensor(0.1689, grad_fn=<DivBackward0>)\n",
            "features.36\n",
            "features.40\n"
          ]
        },
        {
          "output_type": "stream",
          "name": "stderr",
          "text": [
            "\r46it [00:01, 37.96it/s] "
          ]
        },
        {
          "output_type": "stream",
          "name": "stdout",
          "text": [
            "features.43\n",
            "features.46\n"
          ]
        },
        {
          "output_type": "stream",
          "name": "stderr",
          "text": [
            "64it [00:01, 47.00it/s]\n"
          ]
        },
        {
          "output_type": "stream",
          "name": "stdout",
          "text": [
            "features.49\n",
            "!!\n"
          ]
        },
        {
          "output_type": "stream",
          "name": "stderr",
          "text": [
            "\r0it [00:00, ?it/s]"
          ]
        },
        {
          "output_type": "stream",
          "name": "stdout",
          "text": [
            "features.0\n",
            "features.3\n",
            "features.7\n",
            "features.10\n",
            "features.14\n"
          ]
        },
        {
          "output_type": "stream",
          "name": "stderr",
          "text": [
            "\r26it [00:00, 204.53it/s]"
          ]
        },
        {
          "output_type": "stream",
          "name": "stdout",
          "text": [
            "features.17\n",
            "features.20\n",
            "features.23\n",
            "features.27\n",
            "features.30\n",
            "features.33\n",
            "tensor(0.1645, grad_fn=<DivBackward0>)\n",
            "features.36\n",
            "features.40\n"
          ]
        },
        {
          "output_type": "stream",
          "name": "stderr",
          "text": [
            "\r47it [00:01, 37.78it/s] "
          ]
        },
        {
          "output_type": "stream",
          "name": "stdout",
          "text": [
            "features.43\n",
            "features.46\n"
          ]
        },
        {
          "output_type": "stream",
          "name": "stderr",
          "text": [
            "64it [00:01, 47.75it/s]\n"
          ]
        },
        {
          "output_type": "stream",
          "name": "stdout",
          "text": [
            "features.49\n",
            "!!\n"
          ]
        },
        {
          "output_type": "stream",
          "name": "stderr",
          "text": [
            "\r0it [00:00, ?it/s]"
          ]
        },
        {
          "output_type": "stream",
          "name": "stdout",
          "text": [
            "features.0\n",
            "features.3\n",
            "features.7\n",
            "features.10\n",
            "features.14\n",
            "features.17\n"
          ]
        },
        {
          "output_type": "stream",
          "name": "stderr",
          "text": [
            "\r23it [00:00, 196.48it/s]"
          ]
        },
        {
          "output_type": "stream",
          "name": "stdout",
          "text": [
            "features.20\n",
            "features.23\n",
            "features.27\n",
            "features.30\n",
            "features.33\n"
          ]
        },
        {
          "output_type": "stream",
          "name": "stderr",
          "text": [
            "\r43it [00:00, 44.82it/s] "
          ]
        },
        {
          "output_type": "stream",
          "name": "stdout",
          "text": [
            "tensor(0.1661, grad_fn=<DivBackward0>)\n",
            "features.36\n",
            "features.40\n",
            "features.43\n"
          ]
        },
        {
          "output_type": "stream",
          "name": "stderr",
          "text": [
            "64it [00:01, 60.36it/s]\n"
          ]
        },
        {
          "output_type": "stream",
          "name": "stdout",
          "text": [
            "features.46\n",
            "features.49\n",
            "!!\n"
          ]
        },
        {
          "output_type": "stream",
          "name": "stderr",
          "text": [
            "\r0it [00:00, ?it/s]"
          ]
        },
        {
          "output_type": "stream",
          "name": "stdout",
          "text": [
            "features.0\n",
            "features.3\n",
            "features.7\n",
            "features.10\n",
            "features.14\n",
            "features.17\n"
          ]
        },
        {
          "output_type": "stream",
          "name": "stderr",
          "text": [
            "\r26it [00:00, 232.38it/s]"
          ]
        },
        {
          "output_type": "stream",
          "name": "stdout",
          "text": [
            "features.20\n",
            "features.23\n",
            "features.27\n",
            "features.30\n",
            "features.33\n",
            "tensor(0.1644, grad_fn=<DivBackward0>)\n",
            "features.36\n",
            "features.40\n",
            "features.43\n"
          ]
        },
        {
          "output_type": "stream",
          "name": "stderr",
          "text": [
            "64it [00:00, 78.41it/s]\n"
          ]
        },
        {
          "output_type": "stream",
          "name": "stdout",
          "text": [
            "features.46\n",
            "features.49\n",
            "!!\n"
          ]
        },
        {
          "output_type": "stream",
          "name": "stderr",
          "text": [
            "\r0it [00:00, ?it/s]"
          ]
        },
        {
          "output_type": "stream",
          "name": "stdout",
          "text": [
            "features.0\n",
            "features.3\n",
            "features.7\n",
            "features.10\n",
            "features.14\n"
          ]
        },
        {
          "output_type": "stream",
          "name": "stderr",
          "text": [
            "\r30it [00:00, 232.69it/s]"
          ]
        },
        {
          "output_type": "stream",
          "name": "stdout",
          "text": [
            "features.17\n",
            "features.20\n",
            "features.23\n",
            "features.27\n",
            "features.30\n",
            "features.33\n",
            "tensor(0.1632, grad_fn=<DivBackward0>)\n",
            "features.36\n",
            "features.40\n",
            "features.43\n"
          ]
        },
        {
          "output_type": "stream",
          "name": "stderr",
          "text": [
            "64it [00:00, 82.11it/s]\n"
          ]
        },
        {
          "output_type": "stream",
          "name": "stdout",
          "text": [
            "features.46\n",
            "features.49\n",
            "!!\n"
          ]
        },
        {
          "output_type": "stream",
          "name": "stderr",
          "text": [
            "\r0it [00:00, ?it/s]"
          ]
        },
        {
          "output_type": "stream",
          "name": "stdout",
          "text": [
            "features.0\n",
            "features.3\n",
            "features.7\n",
            "features.10\n",
            "features.14\n",
            "features.17\n"
          ]
        },
        {
          "output_type": "stream",
          "name": "stderr",
          "text": [
            "\r26it [00:00, 241.11it/s]"
          ]
        },
        {
          "output_type": "stream",
          "name": "stdout",
          "text": [
            "features.20\n",
            "features.23\n",
            "features.27\n",
            "features.30\n",
            "features.33\n",
            "tensor(0.1675, grad_fn=<DivBackward0>)\n",
            "features.36\n",
            "features.40\n",
            "features.43\n"
          ]
        },
        {
          "output_type": "stream",
          "name": "stderr",
          "text": [
            "64it [00:00, 80.05it/s]\n"
          ]
        },
        {
          "output_type": "stream",
          "name": "stdout",
          "text": [
            "features.46\n",
            "features.49\n",
            "!!\n"
          ]
        },
        {
          "output_type": "stream",
          "name": "stderr",
          "text": [
            "\r0it [00:00, ?it/s]"
          ]
        },
        {
          "output_type": "stream",
          "name": "stdout",
          "text": [
            "features.0\n",
            "features.3\n",
            "features.7\n",
            "features.10\n",
            "features.14\n",
            "features.17\n"
          ]
        },
        {
          "output_type": "stream",
          "name": "stderr",
          "text": [
            "\r30it [00:00, 228.74it/s]"
          ]
        },
        {
          "output_type": "stream",
          "name": "stdout",
          "text": [
            "features.20\n",
            "features.23\n",
            "features.27\n",
            "features.30\n",
            "features.33\n",
            "tensor(0.1644, grad_fn=<DivBackward0>)\n",
            "features.36\n",
            "features.40\n",
            "features.43\n"
          ]
        },
        {
          "output_type": "stream",
          "name": "stderr",
          "text": [
            "64it [00:00, 81.19it/s]\n"
          ]
        },
        {
          "output_type": "stream",
          "name": "stdout",
          "text": [
            "features.46\n",
            "features.49\n",
            "!!\n"
          ]
        },
        {
          "output_type": "stream",
          "name": "stderr",
          "text": [
            "\r0it [00:00, ?it/s]"
          ]
        },
        {
          "output_type": "stream",
          "name": "stdout",
          "text": [
            "features.0\n",
            "features.3\n",
            "features.7\n",
            "features.10\n",
            "features.14\n"
          ]
        },
        {
          "output_type": "stream",
          "name": "stderr",
          "text": [
            "\r26it [00:00, 248.60it/s]"
          ]
        },
        {
          "output_type": "stream",
          "name": "stdout",
          "text": [
            "features.17\n",
            "features.20\n",
            "features.23\n",
            "features.27\n",
            "features.30\n",
            "features.33\n",
            "tensor(0.1684, grad_fn=<DivBackward0>)\n",
            "features.36\n",
            "features.40\n",
            "features.43\n"
          ]
        },
        {
          "output_type": "stream",
          "name": "stderr",
          "text": [
            "64it [00:00, 80.09it/s]\n"
          ]
        },
        {
          "output_type": "stream",
          "name": "stdout",
          "text": [
            "features.46\n",
            "features.49\n",
            "!!\n"
          ]
        },
        {
          "output_type": "stream",
          "name": "stderr",
          "text": [
            "\r0it [00:00, ?it/s]"
          ]
        },
        {
          "output_type": "stream",
          "name": "stdout",
          "text": [
            "features.0\n",
            "features.3\n",
            "features.7\n",
            "features.10\n",
            "features.14\n",
            "features.17\n"
          ]
        },
        {
          "output_type": "stream",
          "name": "stderr",
          "text": [
            "\r30it [00:00, 229.63it/s]"
          ]
        },
        {
          "output_type": "stream",
          "name": "stdout",
          "text": [
            "features.20\n",
            "features.23\n",
            "features.27\n",
            "features.30\n",
            "features.33\n",
            "tensor(0.1541, grad_fn=<DivBackward0>)\n",
            "features.36\n",
            "features.40\n",
            "features.43\n"
          ]
        },
        {
          "output_type": "stream",
          "name": "stderr",
          "text": [
            "64it [00:00, 77.07it/s]\n"
          ]
        },
        {
          "output_type": "stream",
          "name": "stdout",
          "text": [
            "features.46\n",
            "features.49\n",
            "!!\n"
          ]
        },
        {
          "output_type": "stream",
          "name": "stderr",
          "text": [
            "\r0it [00:00, ?it/s]"
          ]
        },
        {
          "output_type": "stream",
          "name": "stdout",
          "text": [
            "features.0\n",
            "features.3\n",
            "features.7\n",
            "features.10\n",
            "features.14\n"
          ]
        },
        {
          "output_type": "stream",
          "name": "stderr",
          "text": [
            "\r30it [00:00, 224.68it/s]"
          ]
        },
        {
          "output_type": "stream",
          "name": "stdout",
          "text": [
            "features.17\n",
            "features.20\n",
            "features.23\n",
            "features.27\n",
            "features.30\n",
            "features.33\n",
            "tensor(0.1677, grad_fn=<DivBackward0>)\n",
            "features.36\n",
            "features.40\n",
            "features.43\n"
          ]
        },
        {
          "output_type": "stream",
          "name": "stderr",
          "text": [
            "64it [00:00, 81.82it/s]\n"
          ]
        },
        {
          "output_type": "stream",
          "name": "stdout",
          "text": [
            "features.46\n",
            "features.49\n",
            "!!\n"
          ]
        },
        {
          "output_type": "stream",
          "name": "stderr",
          "text": [
            "\r0it [00:00, ?it/s]"
          ]
        },
        {
          "output_type": "stream",
          "name": "stdout",
          "text": [
            "features.0\n",
            "features.3\n",
            "features.7\n",
            "features.10\n",
            "features.14\n",
            "features.17\n"
          ]
        },
        {
          "output_type": "stream",
          "name": "stderr",
          "text": [
            "\r26it [00:00, 258.52it/s]"
          ]
        },
        {
          "output_type": "stream",
          "name": "stdout",
          "text": [
            "features.20\n",
            "features.23\n",
            "features.27\n",
            "features.30\n",
            "features.33\n",
            "tensor(0.1622, grad_fn=<DivBackward0>)\n",
            "features.36\n",
            "features.40\n",
            "features.43\n"
          ]
        },
        {
          "output_type": "stream",
          "name": "stderr",
          "text": [
            "64it [00:00, 80.58it/s]\n"
          ]
        },
        {
          "output_type": "stream",
          "name": "stdout",
          "text": [
            "features.46\n",
            "features.49\n",
            "!!\n"
          ]
        },
        {
          "output_type": "stream",
          "name": "stderr",
          "text": [
            "\r0it [00:00, ?it/s]"
          ]
        },
        {
          "output_type": "stream",
          "name": "stdout",
          "text": [
            "features.0\n",
            "features.3\n",
            "features.7\n",
            "features.10\n",
            "features.14\n",
            "features.17\n"
          ]
        },
        {
          "output_type": "stream",
          "name": "stderr",
          "text": [
            "\r26it [00:00, 252.13it/s]"
          ]
        },
        {
          "output_type": "stream",
          "name": "stdout",
          "text": [
            "features.20\n",
            "features.23\n",
            "features.27\n",
            "features.30\n",
            "features.33\n",
            "tensor(0.1645, grad_fn=<DivBackward0>)\n",
            "features.36\n",
            "features.40\n",
            "features.43\n"
          ]
        },
        {
          "output_type": "stream",
          "name": "stderr",
          "text": [
            "64it [00:00, 79.95it/s]\n"
          ]
        },
        {
          "output_type": "stream",
          "name": "stdout",
          "text": [
            "features.46\n",
            "features.49\n",
            "!!\n"
          ]
        },
        {
          "output_type": "stream",
          "name": "stderr",
          "text": [
            "\r0it [00:00, ?it/s]"
          ]
        },
        {
          "output_type": "stream",
          "name": "stdout",
          "text": [
            "features.0\n",
            "features.3\n",
            "features.7\n",
            "features.10\n",
            "features.14\n",
            "features.17\n"
          ]
        },
        {
          "output_type": "stream",
          "name": "stderr",
          "text": [
            "\r26it [00:00, 258.70it/s]"
          ]
        },
        {
          "output_type": "stream",
          "name": "stdout",
          "text": [
            "features.20\n",
            "features.23\n",
            "features.27\n",
            "features.30\n",
            "features.33\n",
            "tensor(0.1661, grad_fn=<DivBackward0>)\n",
            "features.36\n",
            "features.40\n",
            "features.43\n"
          ]
        },
        {
          "output_type": "stream",
          "name": "stderr",
          "text": [
            "64it [00:00, 81.83it/s]\n"
          ]
        },
        {
          "output_type": "stream",
          "name": "stdout",
          "text": [
            "features.46\n",
            "features.49\n",
            "!!\n"
          ]
        },
        {
          "output_type": "stream",
          "name": "stderr",
          "text": [
            "\r0it [00:00, ?it/s]"
          ]
        },
        {
          "output_type": "stream",
          "name": "stdout",
          "text": [
            "features.0\n",
            "features.3\n",
            "features.7\n",
            "features.10\n",
            "features.14\n",
            "features.17\n"
          ]
        },
        {
          "output_type": "stream",
          "name": "stderr",
          "text": [
            "\r26it [00:00, 220.57it/s]"
          ]
        },
        {
          "output_type": "stream",
          "name": "stdout",
          "text": [
            "features.20\n",
            "features.23\n",
            "features.27\n",
            "features.30\n",
            "features.33\n",
            "tensor(0.1668, grad_fn=<DivBackward0>)\n",
            "features.36\n",
            "features.40\n",
            "features.43\n"
          ]
        },
        {
          "output_type": "stream",
          "name": "stderr",
          "text": [
            "64it [00:00, 77.23it/s]"
          ]
        },
        {
          "output_type": "stream",
          "name": "stdout",
          "text": [
            "features.46\n",
            "features.49\n"
          ]
        },
        {
          "output_type": "stream",
          "name": "stderr",
          "text": [
            "\n"
          ]
        }
      ]
    },
    {
      "cell_type": "code",
      "source": [
        "import numpy as np\n",
        "import matplotlib.pyplot as plt\n",
        "import torch\n",
        "from scipy.stats import gaussian_kde\n",
        "\n",
        "def plot_density_comparison(data1, data2, label1=\"Aléatoire\", label2=\"Entraîné\", color1=\"blue\", color2=\"orange\"):\n",
        "    \"\"\"\n",
        "    Trace la densité des distributions de deux ensembles de données.\n",
        "\n",
        "    Arguments :\n",
        "    - data1, data2 : listes de tenseurs PyTorch (ex: [tensor(0.12), tensor(0.13), ...])\n",
        "    - label1, label2 : noms des séries de données\n",
        "    - color1, color2 : couleurs des courbes\n",
        "    \"\"\"\n",
        "    # Convertir les tensors en scalaires\n",
        "    data1 = [x.item() for x in data1]\n",
        "    data2 = [x.item() for x in data2]\n",
        "\n",
        "    plt.figure(figsize=(8, 5))\n",
        "\n",
        "    # Estimation de la densité (KDE)\n",
        "    kde1 = gaussian_kde(data1)\n",
        "    kde2 = gaussian_kde(data2)\n",
        "\n",
        "    # Définir la plage de x\n",
        "    x_min = min(min(data1), min(data2))\n",
        "    x_max = max(max(data1), max(data2))\n",
        "    x_range = np.linspace(x_min, x_max, 1000)\n",
        "\n",
        "    # Tracer les courbes de densité\n",
        "    plt.plot(x_range, kde1(x_range), color=color1, label=label1, linewidth=2)\n",
        "    plt.plot(x_range, kde2(x_range), color=color2, label=label2, linewidth=2)\n",
        "\n",
        "    # Ajout de labels et légende\n",
        "    plt.xlabel(\"Layer Cushion\")\n",
        "    plt.ylabel(\"Densité\")\n",
        "    plt.title(\"Comparaison des distributions de Layer Cushion\")\n",
        "    plt.legend()\n",
        "    plt.grid(True)\n",
        "\n",
        "    # Affichage\n",
        "    plt.show()\n",
        "\n",
        "# Appliquer sur tes listes\n",
        "plot_density_comparison(layer_cushions_alea, layer_cushions_train)\n",
        "plot_density_comparison(activation_c_alea, activation_c_train)\n",
        "#plot_density_comparison(mini_cushion_alea, mini_cushion_train)\n"
      ],
      "metadata": {
        "colab": {
          "base_uri": "https://localhost:8080/",
          "height": 957
        },
        "id": "kgBRvdtG2M61",
        "outputId": "7ad1a062-cf8a-44b6-c736-d652d87f4dd5"
      },
      "execution_count": 48,
      "outputs": [
        {
          "output_type": "display_data",
          "data": {
            "text/plain": [
              "<Figure size 800x500 with 1 Axes>"
            ],
            "image/png": "[encoded data removed]"
          },
          "metadata": {}
        },
        {
          "output_type": "display_data",
          "data": {
            "text/plain": [
              "<Figure size 800x500 with 1 Axes>"
            ],
            "image/png": "[encoded data removed]"
          },
          "metadata": {}
        }
      ]
    },
    {
      "cell_type": "code",
      "source": [
        "plot_density_comparison(smoothness_alea, smoothness_train)\n"
      ],
      "metadata": {
        "colab": {
          "base_uri": "https://localhost:8080/",
          "height": 487
        },
        "id": "XGcAYVZukx-I",
        "outputId": "f7a47478-46e8-4d8f-f0ad-96142c643a4f"
      },
      "execution_count": 51,
      "outputs": [
        {
          "output_type": "display_data",
          "data": {
            "text/plain": [
              "<Figure size 800x500 with 1 Axes>"
            ],
            "image/png": "[encoded data removed]"
          },
          "metadata": {}
        }
      ]
    },
    {
      "cell_type": "code",
      "source": [
        "#calcule de la borne"
      ],
      "metadata": {
        "id": "v8Qcm8_0-NCl"
      },
      "execution_count": null,
      "outputs": []
    }
  ]
}