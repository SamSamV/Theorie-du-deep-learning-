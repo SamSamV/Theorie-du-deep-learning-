{
  "nbformat": 4,
  "nbformat_minor": 0,
  "metadata": {
    "colab": {
      "provenance": []
    },
    "kernelspec": {
      "name": "python3",
      "display_name": "Python 3"
    },
    "language_info": {
      "name": "python"
    }
  },
  "cells": [
    {
      "cell_type": "code",
      "source": [
        "import torch\n",
        "import torch.nn as nn\n",
        "import torch.optim as optim\n",
        "import torchvision\n",
        "import torchvision.transforms as transforms\n",
        "import random\n",
        "from tqdm import tqdm\n",
        "import numpy as np"
      ],
      "metadata": {
        "id": "MSX6WR6CERBL"
      },
      "execution_count": 1,
      "outputs": []
    },
    {
      "cell_type": "code",
      "source": [
        "# Définition du modèle CNN\n",
        "class SimpleCNN(nn.Module):\n",
        "    def __init__(self):\n",
        "        super(SimpleCNN, self).__init__()\n",
        "        self.conv1 = nn.Conv2d(3, 32, kernel_size=3, padding=1)\n",
        "        self.conv2 = nn.Conv2d(32, 64, kernel_size=3, padding=1)\n",
        "        self.fc1 = nn.Linear(64 * 8 * 8, 128)\n",
        "        self.fc2 = nn.Linear(128, 10)\n",
        "        self.relu = nn.ReLU()\n",
        "        self.pool = nn.MaxPool2d(2, 2)\n",
        "\n",
        "    def forward(self, x):\n",
        "        x = self.pool(self.relu(self.conv1(x)))\n",
        "        x = self.pool(self.relu(self.conv2(x)))\n",
        "        x = x.view(x.size(0), -1)\n",
        "        x = self.relu(self.fc1(x))\n",
        "        x = self.fc2(x)\n",
        "        return x"
      ],
      "metadata": {
        "id": "HMXktQhMEAmE"
      },
      "execution_count": 2,
      "outputs": []
    },
    {
      "cell_type": "code",
      "source": [
        "# Transformation des données\n",
        "transform = transforms.Compose([\n",
        "    transforms.ToTensor(),\n",
        "    transforms.Normalize((0.5, 0.5, 0.5), (0.5, 0.5, 0.5))\n",
        "])\n",
        "\n",
        "# Chargement des datasets\n",
        "trainset = torchvision.datasets.CIFAR10(root='./data', train=True, download=True, transform=transform)\n",
        "testset = torchvision.datasets.CIFAR10(root='./data', train=False, download=True, transform=transform)\n"
      ],
      "metadata": {
        "colab": {
          "base_uri": "https://localhost:8080/"
        },
        "id": "mhWtZ_XUEAql",
        "outputId": "a72c96d4-83dd-4c3e-c7af-4d329657b300"
      },
      "execution_count": 3,
      "outputs": [
        {
          "output_type": "stream",
          "name": "stdout",
          "text": [
            "Files already downloaded and verified\n",
            "Files already downloaded and verified\n"
          ]
        }
      ]
    },
    {
      "cell_type": "code",
      "source": [
        "# Prendre un sous-ensemble des données d'entraînement (par exemple 1% des données)\n",
        "train_subset_size = int(0.05 * len(trainset))  # 1% des données\n",
        "train_indices = np.random.choice(len(trainset), train_subset_size, replace=False)  # Échantillonnage aléatoire\n",
        "trainset_ = torch.utils.data.Subset(trainset, train_indices)  # Créer un sous-ensemble\n",
        "\n",
        "# Prendre un sous-ensemble des données de test (par exemple 1% des données)\n",
        "test_subset_size = int(0.05 * len(testset))  # 1% des données\n",
        "test_indices = np.random.choice(len(testset), test_subset_size, replace=False)  # Échantillonnage aléatoire\n",
        "testset = torch.utils.data.Subset(testset, test_indices)  # Créer un sous-ensemble"
      ],
      "metadata": {
        "id": "VJYRmQR9EAtc"
      },
      "execution_count": 4,
      "outputs": []
    },
    {
      "cell_type": "code",
      "source": [
        "# Création des labels aléatoires\n",
        "random_labels = [random.randint(0, 9) for _ in range(len(trainset_))]\n",
        "trainset_random = [(img, random_labels[i]) for i, (img, _) in enumerate(trainset_)]"
      ],
      "metadata": {
        "id": "CCJlkPBAE4Gl"
      },
      "execution_count": 5,
      "outputs": []
    },
    {
      "cell_type": "code",
      "source": [
        "len(trainset)"
      ],
      "metadata": {
        "colab": {
          "base_uri": "https://localhost:8080/"
        },
        "id": "k_Ge_NonMAY8",
        "outputId": "b9192309-5e2d-42e8-a5f4-a8696fc39139"
      },
      "execution_count": 6,
      "outputs": [
        {
          "output_type": "execute_result",
          "data": {
            "text/plain": [
              "50000"
            ]
          },
          "metadata": {},
          "execution_count": 6
        }
      ]
    },
    {
      "cell_type": "code",
      "source": [
        "len(trainset_random)"
      ],
      "metadata": {
        "colab": {
          "base_uri": "https://localhost:8080/"
        },
        "id": "lXS4cC1cMD1U",
        "outputId": "c54d3427-b497-4f5f-b567-f9218d10fdc3"
      },
      "execution_count": 7,
      "outputs": [
        {
          "output_type": "execute_result",
          "data": {
            "text/plain": [
              "2500"
            ]
          },
          "metadata": {},
          "execution_count": 7
        }
      ]
    },
    {
      "cell_type": "code",
      "source": [],
      "metadata": {
        "id": "VcKGoR1IMikm"
      },
      "execution_count": 7,
      "outputs": []
    },
    {
      "cell_type": "code",
      "source": [
        "# Création des DataLoaders\n",
        "trainloader = torch.utils.data.DataLoader(trainset, batch_size=32, shuffle=True)\n",
        "trainloader_random = torch.utils.data.DataLoader(trainset_random, batch_size=64, shuffle=True)\n",
        "testloader = torch.utils.data.DataLoader(testset, batch_size=100, shuffle=False)\n"
      ],
      "metadata": {
        "id": "4Fs_2dpEEAwU"
      },
      "execution_count": 8,
      "outputs": []
    },
    {
      "cell_type": "code",
      "source": [
        "def train(model, trainloader, criterion, optimizer, epochs=5):\n",
        "    device = torch.device(\"cuda\" if torch.cuda.is_available() else \"cpu\")\n",
        "    model.to(device)\n",
        "    model.train()\n",
        "    for epoch in range(epochs):\n",
        "        running_loss = 0.0\n",
        "        for images, labels in tqdm(trainloader, desc=f\"Epoch {epoch+1}\"):\n",
        "            images, labels = images.to(device), labels.to(device)\n",
        "            optimizer.zero_grad()\n",
        "            outputs = model(images)\n",
        "            loss = criterion(outputs, labels)\n",
        "            loss.backward()\n",
        "            optimizer.step()\n",
        "            running_loss += loss.item()\n",
        "        print(f\"Epoch {epoch+1}, Loss: {running_loss/len(trainloader):.4f}\")"
      ],
      "metadata": {
        "id": "AsZ4BUgFEAyg"
      },
      "execution_count": 9,
      "outputs": []
    },
    {
      "cell_type": "code",
      "source": [
        "def test(model, testloader):\n",
        "    device = torch.device(\"cuda\" if torch.cuda.is_available() else \"cpu\")\n",
        "    model.to(device)\n",
        "    model.eval()\n",
        "    correct = 0\n",
        "    total = 0\n",
        "    with torch.no_grad():\n",
        "        for images, labels in tqdm(testloader, desc=\"Testing\"):\n",
        "            images, labels = images.to(device), labels.to(device)\n",
        "            outputs = model(images)\n",
        "            _, predicted = torch.max(outputs, 1)\n",
        "            total += labels.size(0)\n",
        "            correct += (predicted == labels).sum().item()\n",
        "    return 100 * (1 - correct / total)\n"
      ],
      "metadata": {
        "id": "3Lvgab1zEdai"
      },
      "execution_count": 10,
      "outputs": []
    },
    {
      "cell_type": "code",
      "source": [
        "# Entraînement et test du modèle avec les bons labels\n",
        "model_clean = SimpleCNN()\n",
        "criterion = nn.CrossEntropyLoss()\n",
        "optimizer = optim.Adam(model_clean.parameters(), lr=0.001)\n",
        "print(\"Training on correct labels:\")\n",
        "train(model_clean, trainloader, criterion, optimizer)\n",
        "error_clean = test(model_clean, testloader)\n",
        "print(f\"Test Error (correct labels): {error_clean:.2f}%\")\n"
      ],
      "metadata": {
        "colab": {
          "base_uri": "https://localhost:8080/"
        },
        "id": "jf29biau-ZCJ",
        "outputId": "5b083645-b22c-48fb-a5a9-4eedaaec8156"
      },
      "execution_count": 11,
      "outputs": [
        {
          "output_type": "stream",
          "name": "stdout",
          "text": [
            "Training on correct labels:\n"
          ]
        },
        {
          "output_type": "stream",
          "name": "stderr",
          "text": [
            "Epoch 1: 100%|██████████| 1563/1563 [01:43<00:00, 15.09it/s]\n"
          ]
        },
        {
          "output_type": "stream",
          "name": "stdout",
          "text": [
            "Epoch 1, Loss: 1.2983\n"
          ]
        },
        {
          "output_type": "stream",
          "name": "stderr",
          "text": [
            "Epoch 2: 100%|██████████| 1563/1563 [01:47<00:00, 14.51it/s]\n"
          ]
        },
        {
          "output_type": "stream",
          "name": "stdout",
          "text": [
            "Epoch 2, Loss: 0.9138\n"
          ]
        },
        {
          "output_type": "stream",
          "name": "stderr",
          "text": [
            "Epoch 3: 100%|██████████| 1563/1563 [01:44<00:00, 14.95it/s]\n"
          ]
        },
        {
          "output_type": "stream",
          "name": "stdout",
          "text": [
            "Epoch 3, Loss: 0.7459\n"
          ]
        },
        {
          "output_type": "stream",
          "name": "stderr",
          "text": [
            "Epoch 4: 100%|██████████| 1563/1563 [01:44<00:00, 14.99it/s]\n"
          ]
        },
        {
          "output_type": "stream",
          "name": "stdout",
          "text": [
            "Epoch 4, Loss: 0.6183\n"
          ]
        },
        {
          "output_type": "stream",
          "name": "stderr",
          "text": [
            "Epoch 5: 100%|██████████| 1563/1563 [01:55<00:00, 13.56it/s]\n"
          ]
        },
        {
          "output_type": "stream",
          "name": "stdout",
          "text": [
            "Epoch 5, Loss: 0.5115\n"
          ]
        },
        {
          "output_type": "stream",
          "name": "stderr",
          "text": [
            "Testing: 100%|██████████| 5/5 [00:00<00:00, 10.13it/s]"
          ]
        },
        {
          "output_type": "stream",
          "name": "stdout",
          "text": [
            "Test Error (correct labels): 28.60%\n"
          ]
        },
        {
          "output_type": "stream",
          "name": "stderr",
          "text": [
            "\n"
          ]
        }
      ]
    },
    {
      "cell_type": "code",
      "source": [
        "# Entraînement et test du modèle avec les labels aléatoires\n",
        "model_random = SimpleCNN()\n",
        "optimizer = optim.Adam(model_random.parameters(), lr=0.001)\n",
        "print(\"Training on random labels:\")\n",
        "train(model_random, trainloader_random, criterion, optimizer,25)\n",
        "error_random = test(model_random, testloader)\n",
        "print(f\"Test Error (random labels): {error_random:.2f}%\")"
      ],
      "metadata": {
        "colab": {
          "base_uri": "https://localhost:8080/"
        },
        "id": "VXiJhEJR27Tx",
        "outputId": "62acb12a-caeb-4b49-9307-3f86e11334bc"
      },
      "execution_count": 12,
      "outputs": [
        {
          "output_type": "stream",
          "name": "stdout",
          "text": [
            "Training on random labels:\n"
          ]
        },
        {
          "output_type": "stream",
          "name": "stderr",
          "text": [
            "Epoch 1: 100%|██████████| 40/40 [00:03<00:00, 11.59it/s]\n"
          ]
        },
        {
          "output_type": "stream",
          "name": "stdout",
          "text": [
            "Epoch 1, Loss: 2.3054\n"
          ]
        },
        {
          "output_type": "stream",
          "name": "stderr",
          "text": [
            "Epoch 2: 100%|██████████| 40/40 [00:04<00:00,  8.91it/s]\n"
          ]
        },
        {
          "output_type": "stream",
          "name": "stdout",
          "text": [
            "Epoch 2, Loss: 2.3014\n"
          ]
        },
        {
          "output_type": "stream",
          "name": "stderr",
          "text": [
            "Epoch 3: 100%|██████████| 40/40 [00:03<00:00, 11.83it/s]\n"
          ]
        },
        {
          "output_type": "stream",
          "name": "stdout",
          "text": [
            "Epoch 3, Loss: 2.2998\n"
          ]
        },
        {
          "output_type": "stream",
          "name": "stderr",
          "text": [
            "Epoch 4: 100%|██████████| 40/40 [00:03<00:00, 11.62it/s]\n"
          ]
        },
        {
          "output_type": "stream",
          "name": "stdout",
          "text": [
            "Epoch 4, Loss: 2.2874\n"
          ]
        },
        {
          "output_type": "stream",
          "name": "stderr",
          "text": [
            "Epoch 5: 100%|██████████| 40/40 [00:03<00:00, 11.26it/s]\n"
          ]
        },
        {
          "output_type": "stream",
          "name": "stdout",
          "text": [
            "Epoch 5, Loss: 2.2563\n"
          ]
        },
        {
          "output_type": "stream",
          "name": "stderr",
          "text": [
            "Epoch 6: 100%|██████████| 40/40 [00:04<00:00,  9.28it/s]\n"
          ]
        },
        {
          "output_type": "stream",
          "name": "stdout",
          "text": [
            "Epoch 6, Loss: 2.1938\n"
          ]
        },
        {
          "output_type": "stream",
          "name": "stderr",
          "text": [
            "Epoch 7: 100%|██████████| 40/40 [00:03<00:00, 11.73it/s]\n"
          ]
        },
        {
          "output_type": "stream",
          "name": "stdout",
          "text": [
            "Epoch 7, Loss: 2.0934\n"
          ]
        },
        {
          "output_type": "stream",
          "name": "stderr",
          "text": [
            "Epoch 8: 100%|██████████| 40/40 [00:03<00:00, 11.67it/s]\n"
          ]
        },
        {
          "output_type": "stream",
          "name": "stdout",
          "text": [
            "Epoch 8, Loss: 1.9701\n"
          ]
        },
        {
          "output_type": "stream",
          "name": "stderr",
          "text": [
            "Epoch 9: 100%|██████████| 40/40 [00:04<00:00,  9.00it/s]\n"
          ]
        },
        {
          "output_type": "stream",
          "name": "stdout",
          "text": [
            "Epoch 9, Loss: 1.8008\n"
          ]
        },
        {
          "output_type": "stream",
          "name": "stderr",
          "text": [
            "Epoch 10: 100%|██████████| 40/40 [00:03<00:00, 11.29it/s]\n"
          ]
        },
        {
          "output_type": "stream",
          "name": "stdout",
          "text": [
            "Epoch 10, Loss: 1.5837\n"
          ]
        },
        {
          "output_type": "stream",
          "name": "stderr",
          "text": [
            "Epoch 11: 100%|██████████| 40/40 [00:03<00:00, 11.54it/s]\n"
          ]
        },
        {
          "output_type": "stream",
          "name": "stdout",
          "text": [
            "Epoch 11, Loss: 1.3775\n"
          ]
        },
        {
          "output_type": "stream",
          "name": "stderr",
          "text": [
            "Epoch 12: 100%|██████████| 40/40 [00:03<00:00, 11.19it/s]\n"
          ]
        },
        {
          "output_type": "stream",
          "name": "stdout",
          "text": [
            "Epoch 12, Loss: 1.0928\n"
          ]
        },
        {
          "output_type": "stream",
          "name": "stderr",
          "text": [
            "Epoch 13: 100%|██████████| 40/40 [00:04<00:00,  9.15it/s]\n"
          ]
        },
        {
          "output_type": "stream",
          "name": "stdout",
          "text": [
            "Epoch 13, Loss: 0.8107\n"
          ]
        },
        {
          "output_type": "stream",
          "name": "stderr",
          "text": [
            "Epoch 14: 100%|██████████| 40/40 [00:03<00:00, 11.60it/s]\n"
          ]
        },
        {
          "output_type": "stream",
          "name": "stdout",
          "text": [
            "Epoch 14, Loss: 0.5549\n"
          ]
        },
        {
          "output_type": "stream",
          "name": "stderr",
          "text": [
            "Epoch 15: 100%|██████████| 40/40 [00:03<00:00, 11.55it/s]\n"
          ]
        },
        {
          "output_type": "stream",
          "name": "stdout",
          "text": [
            "Epoch 15, Loss: 0.3724\n"
          ]
        },
        {
          "output_type": "stream",
          "name": "stderr",
          "text": [
            "Epoch 16: 100%|██████████| 40/40 [00:04<00:00,  8.86it/s]\n"
          ]
        },
        {
          "output_type": "stream",
          "name": "stdout",
          "text": [
            "Epoch 16, Loss: 0.2411\n"
          ]
        },
        {
          "output_type": "stream",
          "name": "stderr",
          "text": [
            "Epoch 17: 100%|██████████| 40/40 [00:03<00:00, 10.99it/s]\n"
          ]
        },
        {
          "output_type": "stream",
          "name": "stdout",
          "text": [
            "Epoch 17, Loss: 0.1353\n"
          ]
        },
        {
          "output_type": "stream",
          "name": "stderr",
          "text": [
            "Epoch 18: 100%|██████████| 40/40 [00:03<00:00, 10.84it/s]\n"
          ]
        },
        {
          "output_type": "stream",
          "name": "stdout",
          "text": [
            "Epoch 18, Loss: 0.0844\n"
          ]
        },
        {
          "output_type": "stream",
          "name": "stderr",
          "text": [
            "Epoch 19: 100%|██████████| 40/40 [00:04<00:00,  9.50it/s]\n"
          ]
        },
        {
          "output_type": "stream",
          "name": "stdout",
          "text": [
            "Epoch 19, Loss: 0.0511\n"
          ]
        },
        {
          "output_type": "stream",
          "name": "stderr",
          "text": [
            "Epoch 20: 100%|██████████| 40/40 [00:04<00:00,  9.26it/s]\n"
          ]
        },
        {
          "output_type": "stream",
          "name": "stdout",
          "text": [
            "Epoch 20, Loss: 0.0634\n"
          ]
        },
        {
          "output_type": "stream",
          "name": "stderr",
          "text": [
            "Epoch 21: 100%|██████████| 40/40 [00:03<00:00, 10.79it/s]\n"
          ]
        },
        {
          "output_type": "stream",
          "name": "stdout",
          "text": [
            "Epoch 21, Loss: 0.0296\n"
          ]
        },
        {
          "output_type": "stream",
          "name": "stderr",
          "text": [
            "Epoch 22: 100%|██████████| 40/40 [00:03<00:00, 10.88it/s]\n"
          ]
        },
        {
          "output_type": "stream",
          "name": "stdout",
          "text": [
            "Epoch 22, Loss: 0.0149\n"
          ]
        },
        {
          "output_type": "stream",
          "name": "stderr",
          "text": [
            "Epoch 23: 100%|██████████| 40/40 [00:04<00:00,  8.54it/s]\n"
          ]
        },
        {
          "output_type": "stream",
          "name": "stdout",
          "text": [
            "Epoch 23, Loss: 0.0156\n"
          ]
        },
        {
          "output_type": "stream",
          "name": "stderr",
          "text": [
            "Epoch 24: 100%|██████████| 40/40 [00:03<00:00, 10.95it/s]\n"
          ]
        },
        {
          "output_type": "stream",
          "name": "stdout",
          "text": [
            "Epoch 24, Loss: 0.0097\n"
          ]
        },
        {
          "output_type": "stream",
          "name": "stderr",
          "text": [
            "Epoch 25: 100%|██████████| 40/40 [00:03<00:00, 10.91it/s]\n"
          ]
        },
        {
          "output_type": "stream",
          "name": "stdout",
          "text": [
            "Epoch 25, Loss: 0.0106\n"
          ]
        },
        {
          "output_type": "stream",
          "name": "stderr",
          "text": [
            "Testing: 100%|██████████| 5/5 [00:00<00:00, 10.74it/s]"
          ]
        },
        {
          "output_type": "stream",
          "name": "stdout",
          "text": [
            "Test Error (random labels): 93.00%\n"
          ]
        },
        {
          "output_type": "stream",
          "name": "stderr",
          "text": [
            "\n"
          ]
        }
      ]
    },
    {
      "cell_type": "code",
      "source": [
        "def compute_layer_cushion_F(A, x):\n",
        "    \"\"\"\n",
        "    Calcul du layer cushion pour une couche donnée du réseau.\n",
        "\n",
        "    Arguments:\n",
        "    A -- la matrice de poids (ou tenseur) de la couche (forme : [out_channels, in_channels, kernel_size, kernel_size])\n",
        "    x -- l'entrée de la couche précédente (forme : [batch_size, in_channels, height, width])\n",
        "\n",
        "    Retour:\n",
        "    layer_cushion -- la valeur du layer cushion (μi)\n",
        "    \"\"\"\n",
        "\n",
        "    # 1. Appliquer ReLU sur l'entrée x (couche précédente)\n",
        "    x_relu = torch.relu(x)\n",
        "\n",
        "    # 2. Calculer la norme Frobenius de A\n",
        "    norm_A = torch.norm(A, p='fro')  # Norme Frobenius de A\n",
        "\n",
        "    # 3. Calculer la norme de l'entrée x après activation (sur tout le batch)\n",
        "    norm_x = torch.norm(x_relu, p=2)  # Norme L2 de x_relu\n",
        "\n",
        "    # 4. Effectuer la convolution pour obtenir la sortie de la couche\n",
        "    with torch.no_grad():  # Désactiver les gradients pour cette étape\n",
        "        output = torch.nn.functional.conv2d(x_relu, A)  # Appliquer la convolution\n",
        "\n",
        "    # 5. Calculer la norme de la sortie\n",
        "    norm_output = torch.norm(output, p=2)  # Norme L2 de la sortie de la couche\n",
        "\n",
        "    # 6. Calculer le layer cushion (μi)\n",
        "    layer_cushion = norm_output / (norm_A * norm_x)\n",
        "\n",
        "    return layer_cushion"
      ],
      "metadata": {
        "id": "dcQljdi6G2DM"
      },
      "execution_count": 13,
      "outputs": []
    },
    {
      "cell_type": "code",
      "source": [
        "def compute_activation_contraction(x):\n",
        "  norm_phi = torch.norm(torch.relu(x),p=2)\n",
        "  norm_x = torch.norm(x,p=2)\n",
        "  return norm_phi/norm_x\n"
      ],
      "metadata": {
        "id": "0sH0aAvgJ5ul"
      },
      "execution_count": 14,
      "outputs": []
    },
    {
      "cell_type": "code",
      "source": [
        "def calculate_layer_cushion_for_dataset(model, trainloader, weigthss,couche):\n",
        "    \"\"\"\n",
        "    Calculer le layer cushion pour plusieurs données dans le trainset.\n",
        "\n",
        "    Arguments:\n",
        "    model -- le modèle préentraîné (par exemple, VGG-19)\n",
        "    trainloader -- DataLoader contenant les données d'entraînement\n",
        "    device -- le périphérique ('cpu' ou 'cuda') pour les calculs\n",
        "\n",
        "    Retour:\n",
        "    layer_cushions -- liste des valeurs des layer cushions pour chaque couche\n",
        "    \"\"\"\n",
        "    model.eval()  # Mode évaluation (désactive le dropout, batchnorm, etc.)\n",
        "\n",
        "    # Liste pour stocker les résultats des layer cushions\n",
        "    layer_cushions = []\n",
        "    activation_contractions = []\n",
        "    layer_cushions_1i = []\n",
        "    interlayer_smoothness = []\n",
        "    conv_layers = list(weigthss.keys())\n",
        "    # Parcourir le DataLoader\n",
        "    for inputs, _ in trainloader:\n",
        "        print(\"!!\")\n",
        "\n",
        "        # Propager les données à travers chaque couche du modèle\n",
        "        x = inputs\n",
        "        i = 0\n",
        "        for name, module in tqdm(model.named_modules()):  # Récupérer chaque module du modèle\n",
        "          if isinstance(module, torch.nn.Conv2d):  # Vérifier si c'est une couche Conv2d\n",
        "              # Passer les entrées à travers la couche actuelle\n",
        "              print(name)\n",
        "              x_ = module(x)\n",
        "\n",
        "              # Calculer le layer cushion pour cette couche\n",
        "              weight = module.weight  # Matrice de poids de la couche actuelle\n",
        "              if i != 0 and name == couche:\n",
        "                  layer_cushion = compute_layer_cushion_F(weight, x)\n",
        "                  layer_cushions.append(layer_cushion)\n",
        "                  activation_contraction = compute_activation_contraction(x)\n",
        "                  activation_contractions.append(activation_contraction)\n",
        "\n",
        "                  # Calculer le layer cushion entre deux couches\n",
        "                  #layer_cushion_1i = calculate_minimal_interlayer_cushion(weight)\n",
        "                  #layer_cushions_1i.append(layer_cushion_1i)\n",
        "\n",
        "                  # Si ce n'est pas la dernière couche, obtenir la matrice de poids de la couche suivante\n",
        "                  #if i + 1 < len(list(model.modules())):  # S'assurer qu'il y a un module suivant\n",
        "                   #  next_module_w = weigthss[conv_layers[i]]\n",
        "\n",
        "                    # A_ = next_module_w  # Récupérer la matrice de poids du module suivant\n",
        "                     #interlayer = compute_interlayer_smoothness(A_, x_, np.prod(A_.size()))\n",
        "                     #interlayer_smoothness.append(interlayer)\n",
        "\n",
        "              # Mettre à jour x avec la sortie du module actuel\n",
        "              x = x_\n",
        "              i += 1\n",
        "    return layer_cushions,activation_contractions,layer_cushions_1i,interlayer_smoothness"
      ],
      "metadata": {
        "id": "djJZQhHJHTBo"
      },
      "execution_count": 15,
      "outputs": []
    },
    {
      "cell_type": "code",
      "source": [
        "def get_all_weights_conv(model):\n",
        "    weights = {}\n",
        "\n",
        "    # Extraire les poids des couches convolutionnelles\n",
        "    for name, layer in model.named_children():\n",
        "        if isinstance(layer, nn.Conv2d):\n",
        "            weights[name] = layer.weight.data.clone()\n",
        "\n",
        "    return weights\n"
      ],
      "metadata": {
        "id": "3o2uKMKsHhhK"
      },
      "execution_count": 16,
      "outputs": []
    },
    {
      "cell_type": "code",
      "source": [
        "weights_alea = get_all_weights_conv(model_random)\n",
        "weights_train = get_all_weights_conv(model_clean)"
      ],
      "metadata": {
        "id": "4oUUv8SCHhn4"
      },
      "execution_count": 17,
      "outputs": []
    },
    {
      "cell_type": "code",
      "source": [
        "weights_alea.keys()"
      ],
      "metadata": {
        "colab": {
          "base_uri": "https://localhost:8080/"
        },
        "id": "mhmiP8l8IVpS",
        "outputId": "879d739c-5673-4c26-de69-d2a9f050cb5a"
      },
      "execution_count": 18,
      "outputs": [
        {
          "output_type": "execute_result",
          "data": {
            "text/plain": [
              "dict_keys(['conv1', 'conv2'])"
            ]
          },
          "metadata": {},
          "execution_count": 18
        }
      ]
    },
    {
      "cell_type": "code",
      "source": [
        "layer_cushions_alea, activation_c_alea, mini_cushion_alea,smoothness_alea = calculate_layer_cushion_for_dataset(model_random, testloader, weights_alea,\"conv2\")\n",
        "layer_cushions_train, activation_c_train, mini_cushion_train,smoothness_train = calculate_layer_cushion_for_dataset(model_clean, testloader, weights_train,\"conv2\")"
      ],
      "metadata": {
        "colab": {
          "base_uri": "https://localhost:8080/"
        },
        "id": "UQIT0fCZIDbO",
        "outputId": "94075b8d-0cd7-4a0a-f59c-73193e824372"
      },
      "execution_count": 19,
      "outputs": [
        {
          "output_type": "stream",
          "name": "stdout",
          "text": [
            "!!\n"
          ]
        },
        {
          "output_type": "stream",
          "name": "stderr",
          "text": [
            "\r0it [00:00, ?it/s]"
          ]
        },
        {
          "output_type": "stream",
          "name": "stdout",
          "text": [
            "conv1\n",
            "conv2\n"
          ]
        },
        {
          "output_type": "stream",
          "name": "stderr",
          "text": [
            "7it [00:00, 33.78it/s]\n"
          ]
        },
        {
          "output_type": "stream",
          "name": "stdout",
          "text": [
            "!!\n"
          ]
        },
        {
          "output_type": "stream",
          "name": "stderr",
          "text": [
            "\r0it [00:00, ?it/s]"
          ]
        },
        {
          "output_type": "stream",
          "name": "stdout",
          "text": [
            "conv1\n",
            "conv2\n"
          ]
        },
        {
          "output_type": "stream",
          "name": "stderr",
          "text": [
            "7it [00:00, 23.79it/s]\n"
          ]
        },
        {
          "output_type": "stream",
          "name": "stdout",
          "text": [
            "!!\n"
          ]
        },
        {
          "output_type": "stream",
          "name": "stderr",
          "text": [
            "\r0it [00:00, ?it/s]"
          ]
        },
        {
          "output_type": "stream",
          "name": "stdout",
          "text": [
            "conv1\n",
            "conv2\n"
          ]
        },
        {
          "output_type": "stream",
          "name": "stderr",
          "text": [
            "7it [00:00, 22.52it/s]\n"
          ]
        },
        {
          "output_type": "stream",
          "name": "stdout",
          "text": [
            "!!\n"
          ]
        },
        {
          "output_type": "stream",
          "name": "stderr",
          "text": [
            "\r0it [00:00, ?it/s]"
          ]
        },
        {
          "output_type": "stream",
          "name": "stdout",
          "text": [
            "conv1\n",
            "conv2\n"
          ]
        },
        {
          "output_type": "stream",
          "name": "stderr",
          "text": [
            "7it [00:00, 17.86it/s]\n"
          ]
        },
        {
          "output_type": "stream",
          "name": "stdout",
          "text": [
            "!!\n"
          ]
        },
        {
          "output_type": "stream",
          "name": "stderr",
          "text": [
            "\r0it [00:00, ?it/s]"
          ]
        },
        {
          "output_type": "stream",
          "name": "stdout",
          "text": [
            "conv1\n",
            "conv2\n"
          ]
        },
        {
          "output_type": "stream",
          "name": "stderr",
          "text": [
            "7it [00:00, 21.99it/s]\n"
          ]
        },
        {
          "output_type": "stream",
          "name": "stdout",
          "text": [
            "!!\n"
          ]
        },
        {
          "output_type": "stream",
          "name": "stderr",
          "text": [
            "\r0it [00:00, ?it/s]"
          ]
        },
        {
          "output_type": "stream",
          "name": "stdout",
          "text": [
            "conv1\n",
            "conv2\n"
          ]
        },
        {
          "output_type": "stream",
          "name": "stderr",
          "text": [
            "7it [00:00, 19.72it/s]\n"
          ]
        },
        {
          "output_type": "stream",
          "name": "stdout",
          "text": [
            "!!\n"
          ]
        },
        {
          "output_type": "stream",
          "name": "stderr",
          "text": [
            "\r0it [00:00, ?it/s]"
          ]
        },
        {
          "output_type": "stream",
          "name": "stdout",
          "text": [
            "conv1\n",
            "conv2\n"
          ]
        },
        {
          "output_type": "stream",
          "name": "stderr",
          "text": [
            "7it [00:00, 20.23it/s]\n"
          ]
        },
        {
          "output_type": "stream",
          "name": "stdout",
          "text": [
            "!!\n"
          ]
        },
        {
          "output_type": "stream",
          "name": "stderr",
          "text": [
            "\r0it [00:00, ?it/s]"
          ]
        },
        {
          "output_type": "stream",
          "name": "stdout",
          "text": [
            "conv1\n",
            "conv2\n"
          ]
        },
        {
          "output_type": "stream",
          "name": "stderr",
          "text": [
            "7it [00:00, 22.22it/s]\n"
          ]
        },
        {
          "output_type": "stream",
          "name": "stdout",
          "text": [
            "!!\n"
          ]
        },
        {
          "output_type": "stream",
          "name": "stderr",
          "text": [
            "\r0it [00:00, ?it/s]"
          ]
        },
        {
          "output_type": "stream",
          "name": "stdout",
          "text": [
            "conv1\n",
            "conv2\n"
          ]
        },
        {
          "output_type": "stream",
          "name": "stderr",
          "text": [
            "7it [00:00, 20.57it/s]\n"
          ]
        },
        {
          "output_type": "stream",
          "name": "stdout",
          "text": [
            "!!\n"
          ]
        },
        {
          "output_type": "stream",
          "name": "stderr",
          "text": [
            "\r0it [00:00, ?it/s]"
          ]
        },
        {
          "output_type": "stream",
          "name": "stdout",
          "text": [
            "conv1\n",
            "conv2\n"
          ]
        },
        {
          "output_type": "stream",
          "name": "stderr",
          "text": [
            "7it [00:00, 21.15it/s]\n"
          ]
        }
      ]
    },
    {
      "cell_type": "code",
      "source": [
        "import numpy as np\n",
        "import matplotlib.pyplot as plt\n",
        "import torch\n",
        "from scipy.stats import gaussian_kde\n",
        "\n",
        "def plot_density_comparison(data1, data2, label1=\"Aléatoire\", label2=\"Entraîné\", color1=\"blue\", color2=\"orange\"):\n",
        "    \"\"\"\n",
        "    Trace la densité des distributions de deux ensembles de données.\n",
        "\n",
        "    Arguments :\n",
        "    - data1, data2 : listes de tenseurs PyTorch (ex: [tensor(0.12), tensor(0.13), ...])\n",
        "    - label1, label2 : noms des séries de données\n",
        "    - color1, color2 : couleurs des courbes\n",
        "    \"\"\"\n",
        "    # Convertir les tensors en scalaires\n",
        "    data1 = [x.item() for x in data1]\n",
        "    data2 = [x.item() for x in data2]\n",
        "\n",
        "    plt.figure(figsize=(8, 5))\n",
        "\n",
        "    # Estimation de la densité (KDE)\n",
        "    kde1 = gaussian_kde(data1)\n",
        "    kde2 = gaussian_kde(data2)\n",
        "\n",
        "    # Définir la plage de x\n",
        "    x_min = min(min(data1), min(data2))\n",
        "    x_max = max(max(data1), max(data2))\n",
        "    x_range = np.linspace(x_min, x_max, 1000)\n",
        "\n",
        "    # Tracer les courbes de densité\n",
        "    plt.plot(x_range, kde1(x_range), color=color1, label=label1, linewidth=2)\n",
        "    plt.plot(x_range, kde2(x_range), color=color2, label=label2, linewidth=2)\n",
        "\n",
        "    # Ajout de labels et légende\n",
        "    plt.xlabel(\"Layer Cushion\")\n",
        "    plt.ylabel(\"Densité\")\n",
        "    plt.title(\"Comparaison des distributions de Layer Cushion\")\n",
        "    plt.legend()\n",
        "    plt.grid(True)\n",
        "\n",
        "    # Affichage\n",
        "    plt.show()\n",
        "\n",
        "# Appliquer sur tes listes\n",
        "plot_density_comparison(layer_cushions_alea, layer_cushions_train)\n"
      ],
      "metadata": {
        "colab": {
          "base_uri": "https://localhost:8080/",
          "height": 487
        },
        "id": "IzSsJHm9HYte",
        "outputId": "d6a0056b-9c82-435b-9d99-dddda6e22db2"
      },
      "execution_count": 20,
      "outputs": [
        {
          "output_type": "display_data",
          "data": {
            "text/plain": [
              "<Figure size 800x500 with 1 Axes>"
            ],
            "image/png": "[encoded data removed]"
          },
          "metadata": {}
        }
      ]
    }
  ]
}